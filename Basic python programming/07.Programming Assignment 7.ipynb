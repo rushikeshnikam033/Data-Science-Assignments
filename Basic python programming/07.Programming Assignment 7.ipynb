{
 "cells": [
  {
   "cell_type": "markdown",
   "id": "5e4d47d3-9732-4285-bbe8-7ab84332ce77",
   "metadata": {},
   "source": [
    "Assignment 7 Solutions"
   ]
  },
  {
   "cell_type": "markdown",
   "id": "2d6cf88d-5c20-4ff4-86aa-2615d69ba43d",
   "metadata": {},
   "source": []
  },
  {
   "cell_type": "markdown",
   "id": "228058b0-631b-472f-a8d5-ce405aeb483b",
   "metadata": {},
   "source": []
  },
  {
   "cell_type": "markdown",
   "id": "eae2672d-f436-4475-a2aa-f65a4b5b95eb",
   "metadata": {},
   "source": [
    "1. Write a Python Program to find sum of Array ?"
   ]
  },
  {
   "cell_type": "code",
   "execution_count": 1,
   "id": "9899afd0-a225-4c5d-ad69-e78a036db48e",
   "metadata": {},
   "outputs": [
    {
     "name": "stdin",
     "output_type": "stream",
     "text": [
      "Enter the Array:  [1,2,3,4,5,6]\n"
     ]
    },
    {
     "name": "stdout",
     "output_type": "stream",
     "text": [
      "The sum of [1, 2, 3, 4, 5, 6] is 21\n"
     ]
    }
   ],
   "source": [
    "def sumOfArray():\n",
    "    in_arr = eval(input(\"Enter the Array: \"))\n",
    "    print(f'The sum of {in_arr} is {sum(in_arr)}')\n",
    "\n",
    "sumOfArray()"
   ]
  },
  {
   "cell_type": "markdown",
   "id": "19046851-f183-4323-a202-77face1fd5c6",
   "metadata": {},
   "source": []
  },
  {
   "cell_type": "markdown",
   "id": "47c9dba2-5e0d-4aee-9a68-4091d486426a",
   "metadata": {},
   "source": []
  },
  {
   "cell_type": "markdown",
   "id": "be9ceec2-908f-4147-b008-32683aa5940c",
   "metadata": {},
   "source": [
    "2. Write a Python Program to find Largest element in an Array ?"
   ]
  },
  {
   "cell_type": "code",
   "execution_count": 2,
   "id": "2d39282f-9e70-45d5-9529-072008370822",
   "metadata": {},
   "outputs": [
    {
     "name": "stdin",
     "output_type": "stream",
     "text": [
      "Enter the Array:  [3,7,4,12,9,18,2]\n"
     ]
    },
    {
     "name": "stdout",
     "output_type": "stream",
     "text": [
      "The Largest Element in [3, 7, 4, 12, 9, 18, 2] is 18\n"
     ]
    }
   ],
   "source": [
    "def largestElement():\n",
    "    in_arr = eval(input(\"Enter the Array: \"))\n",
    "    print(f\"The Largest Element in {in_arr} is {sorted(in_arr, reverse=True)[0]}\")\n",
    "    \n",
    "largestElement()"
   ]
  },
  {
   "cell_type": "markdown",
   "id": "92291bd7-013d-4bd3-a396-bb35c293ebc9",
   "metadata": {},
   "source": []
  },
  {
   "cell_type": "markdown",
   "id": "73d1b48c-46b2-44a0-9010-0843d9e9b0e3",
   "metadata": {},
   "source": []
  },
  {
   "cell_type": "markdown",
   "id": "798cf005-770e-47f5-9c4a-0d889fe743a0",
   "metadata": {},
   "source": [
    "3. Write a Python Program for array rotation ?"
   ]
  },
  {
   "cell_type": "code",
   "execution_count": 4,
   "id": "99182092-4bab-4c1e-b0ef-11d2d0b4af3c",
   "metadata": {},
   "outputs": [
    {
     "name": "stdin",
     "output_type": "stream",
     "text": [
      "Enter the Array:  [65,878,97,65,34]\n"
     ]
    },
    {
     "name": "stdout",
     "output_type": "stream",
     "text": [
      "The Reverse of Array [65, 878, 97, 65, 34] is [34, 65, 97, 878, 65]\n"
     ]
    }
   ],
   "source": [
    "def reverseOfArray():\n",
    "    in_arr = eval(input(\"Enter the Array: \"))\n",
    "    print(f\"The Reverse of Array {in_arr} is {in_arr[::-1]}\")\n",
    "    \n",
    "reverseOfArray()"
   ]
  },
  {
   "cell_type": "markdown",
   "id": "5ffe0c51-7963-4cd2-bd00-e7152f47ccb4",
   "metadata": {},
   "source": []
  },
  {
   "cell_type": "markdown",
   "id": "75c134f5-e31c-40c8-8c37-0366d4e93ed6",
   "metadata": {},
   "source": []
  },
  {
   "cell_type": "markdown",
   "id": "d339e9ef-4327-4564-8bc8-5d774013b915",
   "metadata": {},
   "source": [
    "4. Write a Python Program to Split the array and add the first part to the end ?"
   ]
  },
  {
   "cell_type": "code",
   "execution_count": 5,
   "id": "7f012707-982b-4710-ad73-33c0cf6b3ea0",
   "metadata": {},
   "outputs": [
    {
     "name": "stdin",
     "output_type": "stream",
     "text": [
      "Enter the Array:  [10,13,14,9,18]\n"
     ]
    },
    {
     "name": "stdout",
     "output_type": "stream",
     "text": [
      "The Sum of First and Last Elements of Array [10, 13, 14, 9, 18] is 28\n"
     ]
    }
   ],
   "source": [
    "def sumOfSplits():\n",
    "    in_arr = eval(input(\"Enter the Array: \"))\n",
    "    print(f\"The Sum of First and Last Elements of Array {in_arr} is {in_arr[0]+in_arr[-1]}\")\n",
    "    \n",
    "sumOfSplits()"
   ]
  },
  {
   "cell_type": "markdown",
   "id": "fa5631f7-9865-424b-9b77-1f99bd65991d",
   "metadata": {},
   "source": []
  },
  {
   "cell_type": "markdown",
   "id": "1e96cf1d-50a7-48b1-86ec-29cb03f46c5d",
   "metadata": {},
   "source": []
  },
  {
   "cell_type": "markdown",
   "id": "0826c6f1-38a9-463e-a9b3-248e9be2c117",
   "metadata": {},
   "source": [
    "5. Write a Python Program to check if given array is Monotonic ?"
   ]
  },
  {
   "cell_type": "code",
   "execution_count": 10,
   "id": "bf084687-ecb6-4cb2-8e3b-3d86e92c4f8d",
   "metadata": {},
   "outputs": [
    {
     "name": "stdin",
     "output_type": "stream",
     "text": [
      "Enter the Array:  [2,3,4,5,6]\n"
     ]
    },
    {
     "name": "stdout",
     "output_type": "stream",
     "text": [
      "Array [2, 3, 4, 5, 6] is Monotonic\n"
     ]
    },
    {
     "name": "stdin",
     "output_type": "stream",
     "text": [
      "Enter the Array:  [23,2,5,7,34]\n"
     ]
    },
    {
     "name": "stdout",
     "output_type": "stream",
     "text": [
      "Array [23, 2, 5, 7, 34] is Not Monotonic\n"
     ]
    }
   ],
   "source": [
    "def checkMonotonic():\n",
    "    in_arr = eval(input(\"Enter the Array: \"))\n",
    "    if(all(in_arr[i]<=in_arr[i+1] for i in range(len(in_arr)-1)) or all(in_arr[i]>=in_arr[i+1] for i in range(len(in_arr)-1))):\n",
    "        print(f'Array {in_arr} is Monotonic')\n",
    "    else:\n",
    "        print(f'Array {in_arr} is Not Monotonic')\n",
    "\n",
    "checkMonotonic()\n",
    "checkMonotonic()"
   ]
  }
 ],
 "metadata": {
  "kernelspec": {
   "display_name": "Python 3 (ipykernel)",
   "language": "python",
   "name": "python3"
  },
  "language_info": {
   "codemirror_mode": {
    "name": "ipython",
    "version": 3
   },
   "file_extension": ".py",
   "mimetype": "text/x-python",
   "name": "python",
   "nbconvert_exporter": "python",
   "pygments_lexer": "ipython3",
   "version": "3.10.6"
  }
 },
 "nbformat": 4,
 "nbformat_minor": 5
}
