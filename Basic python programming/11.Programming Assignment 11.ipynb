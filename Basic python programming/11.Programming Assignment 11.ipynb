{
 "cells": [
  {
   "cell_type": "markdown",
   "id": "dc1dc1ae-f9ca-434b-8987-06f16cbb9141",
   "metadata": {},
   "source": [
    "Assignment 11 Solutions"
   ]
  },
  {
   "cell_type": "markdown",
   "id": "cfc20711-8376-4e0a-ae29-4d53a438c3e3",
   "metadata": {},
   "source": []
  },
  {
   "cell_type": "markdown",
   "id": "26e2b055-2dc0-4956-bc5a-c4193ed15494",
   "metadata": {},
   "source": []
  },
  {
   "cell_type": "markdown",
   "id": "270e0696-6bf3-472c-92a1-23da6eff2133",
   "metadata": {},
   "source": [
    "1. Write a Python program to find words which are greater than given length k ?"
   ]
  },
  {
   "cell_type": "code",
   "execution_count": 1,
   "id": "651dae85-c9a9-41d7-b3ac-d3e07dbfd4e7",
   "metadata": {},
   "outputs": [
    {
     "name": "stdin",
     "output_type": "stream",
     "text": [
      "Enter the string:  INeuron Full Stack Data Science Course is Awesome\n",
      "Enter the length of the string:  4\n"
     ]
    },
    {
     "name": "stdout",
     "output_type": "stream",
     "text": [
      "INeuron,Stack,Science,Course,Awesome\n"
     ]
    }
   ],
   "source": [
    "def checkLengthOfString():\n",
    "    in_string = input(\"Enter the string: \")\n",
    "    in_length = int(input('Enter the length of the string: '))\n",
    "    out_string = []\n",
    "    for string in in_string.split(\" \"):\n",
    "        if len(string) > in_length:\n",
    "            out_string.append(string)\n",
    "    print(','.join(out_string))\n",
    "\n",
    "checkLengthOfString()"
   ]
  },
  {
   "cell_type": "markdown",
   "id": "a803c5f5-5990-4c00-8ac6-928c4b4daba5",
   "metadata": {},
   "source": []
  },
  {
   "cell_type": "markdown",
   "id": "c9276a3f-5669-4b81-b9c0-972872f546d4",
   "metadata": {},
   "source": []
  },
  {
   "cell_type": "markdown",
   "id": "7dc6eaef-3375-4ad2-9d09-083844ac7f6f",
   "metadata": {},
   "source": [
    "2. Write a Python program for removing i-th character from a string ?"
   ]
  },
  {
   "cell_type": "code",
   "execution_count": 2,
   "id": "43c1f86b-bb31-406e-9127-e08b064cfd84",
   "metadata": {},
   "outputs": [
    {
     "name": "stdin",
     "output_type": "stream",
     "text": [
      "Enter the String:  ineuron\n",
      "Enter the ith Character:  2\n"
     ]
    },
    {
     "name": "stdout",
     "output_type": "stream",
     "text": [
      "inuron\n"
     ]
    }
   ],
   "source": [
    "def removeCharacter():\n",
    "    in_string = input(\"Enter the String: \")\n",
    "    in_char_num = int(input(\"Enter the ith Character: \"))\n",
    "    out_string = ''\n",
    "    for ele in range(len(in_string)):\n",
    "        if ele != in_char_num:\n",
    "            out_string = out_string + in_string[ele]\n",
    "    print(out_string)\n",
    "    \n",
    "removeCharacter()"
   ]
  },
  {
   "cell_type": "markdown",
   "id": "f8377f6f-a273-46f3-b28a-e2ba86617b6c",
   "metadata": {},
   "source": []
  },
  {
   "cell_type": "markdown",
   "id": "430ae33f-2c16-4488-9e51-bc7b27cb6a12",
   "metadata": {},
   "source": []
  },
  {
   "cell_type": "markdown",
   "id": "ba749583-3986-4ae0-9b8d-6b0d018a8c8b",
   "metadata": {},
   "source": [
    "3. Write a Python program to split and join a string ?"
   ]
  },
  {
   "cell_type": "code",
   "execution_count": 3,
   "id": "c1ad2e3e-3e9c-4770-8d73-587b58448868",
   "metadata": {},
   "outputs": [
    {
     "name": "stdin",
     "output_type": "stream",
     "text": [
      "Enter the string:   Ineuron Full Stack Data Science Course\n"
     ]
    },
    {
     "name": "stdout",
     "output_type": "stream",
     "text": [
      "Split String: ['', 'Ineuron', 'Full', 'Stack', 'Data', 'Science', 'Course']\n",
      "Join String:  Ineuron Full Stack Data Science Course\n"
     ]
    }
   ],
   "source": [
    "def splitJoinString():\n",
    "    in_string = input('Enter the string: ')\n",
    "    print(f\"Split String: {in_string.split(' ')}\")\n",
    "    print(f\"Join String: {' '.join(in_string.split(' '))}\")\n",
    "\n",
    "splitJoinString()"
   ]
  },
  {
   "cell_type": "markdown",
   "id": "40f561ce-49ec-42f6-84d4-28da0acfff63",
   "metadata": {},
   "source": []
  },
  {
   "cell_type": "markdown",
   "id": "3bf7d81c-5381-43f5-a6b9-d64609fb4a27",
   "metadata": {},
   "source": []
  },
  {
   "cell_type": "markdown",
   "id": "3083e164-df11-4f06-9e34-7dfa02d833f0",
   "metadata": {},
   "source": [
    "4. Write a Python to check if a given string is binary string or not ?"
   ]
  },
  {
   "cell_type": "code",
   "execution_count": 4,
   "id": "bdc6ee5c-0a47-442e-9668-356062288118",
   "metadata": {},
   "outputs": [
    {
     "name": "stdin",
     "output_type": "stream",
     "text": [
      "Enter the string:  1234\n"
     ]
    },
    {
     "name": "stdout",
     "output_type": "stream",
     "text": [
      "1234 is not a binart string\n"
     ]
    },
    {
     "name": "stdin",
     "output_type": "stream",
     "text": [
      "Enter the string:  1010101\n"
     ]
    },
    {
     "name": "stdout",
     "output_type": "stream",
     "text": [
      "1010101 is a binary string\n"
     ]
    }
   ],
   "source": [
    "def checkBinary():\n",
    "    in_string = input('Enter the string: ')\n",
    "    stun = 0\n",
    "    for ele in in_string:\n",
    "        if ele in ['0','1']:\n",
    "            stun = 1\n",
    "            continue\n",
    "        else:\n",
    "            stun = 0\n",
    "            \n",
    "            break\n",
    "    statement = 'is a binary string' if stun == 1 else 'is not a binart string' \n",
    "    print(f'{in_string} {statement}')\n",
    "\n",
    "checkBinary()\n",
    "checkBinary()"
   ]
  },
  {
   "cell_type": "markdown",
   "id": "d2e5b8a7-640e-4ae3-92c8-4082b53906d0",
   "metadata": {},
   "source": []
  },
  {
   "cell_type": "markdown",
   "id": "8d964d92-895b-406d-85b6-658eff8fd939",
   "metadata": {},
   "source": []
  },
  {
   "cell_type": "markdown",
   "id": "f60cfc39-8198-4043-98c2-ee8e83711941",
   "metadata": {},
   "source": [
    "5. Write a Python program to find uncommon words from two Strings ?"
   ]
  },
  {
   "cell_type": "code",
   "execution_count": 5,
   "id": "a7c10d9a-1fa1-4b41-aa70-76bc20ce0dc8",
   "metadata": {},
   "outputs": [
    {
     "name": "stdin",
     "output_type": "stream",
     "text": [
      "Enter the String 1:  Supervised Learning\n",
      "Enter the String 2:  Unsupervised Learning\n"
     ]
    },
    {
     "name": "stdout",
     "output_type": "stream",
     "text": [
      "{'Supervised', 'Unsupervised'}\n"
     ]
    }
   ],
   "source": [
    "def unCommonWords():\n",
    "    in_string_1 = set(input(\"Enter the String 1: \").split(' '))\n",
    "    in_string_2 = set(input(\"Enter the String 2: \").split(' '))\n",
    "    out_string = (in_string_1.union(in_string_2)).difference(in_string_1.intersection(in_string_2))\n",
    "    print(out_string)\n",
    "\n",
    "unCommonWords()"
   ]
  },
  {
   "cell_type": "markdown",
   "id": "83f71f08-7419-4ea9-b430-f0b2cfa77fee",
   "metadata": {},
   "source": []
  },
  {
   "cell_type": "markdown",
   "id": "8a79cf18-5ab0-482a-8c92-cd60831768b0",
   "metadata": {},
   "source": []
  },
  {
   "cell_type": "markdown",
   "id": "d6d9b728-0218-4b23-8f66-c02513f5fa7d",
   "metadata": {},
   "source": [
    "6. Write a Python to find all duplicate characters in string ?"
   ]
  },
  {
   "cell_type": "code",
   "execution_count": 6,
   "id": "5d9f4a7e-b387-4b0b-a511-c0a7aa03e455",
   "metadata": {},
   "outputs": [
    {
     "name": "stdin",
     "output_type": "stream",
     "text": [
      "Enter the string:  full stack data science course\n"
     ]
    },
    {
     "name": "stdout",
     "output_type": "stream",
     "text": [
      "Duplicate characters are: ['s', ' ', 'c', 'u', 'a', 'l', 't', 'e']\n"
     ]
    }
   ],
   "source": [
    "def duplicateChars():\n",
    "    in_string = input('Enter the string: ')\n",
    "    non_duplicate_list = []\n",
    "    duplicate_list = []\n",
    "    for ele in in_string:\n",
    "        if ele not in non_duplicate_list:\n",
    "            non_duplicate_list.append(ele)\n",
    "        else:\n",
    "            duplicate_list.append(ele)\n",
    "    print(f'Duplicate characters are: {list(set(duplicate_list))}')\n",
    "        \n",
    "duplicateChars()"
   ]
  },
  {
   "cell_type": "markdown",
   "id": "a51ee875-717c-4f77-b903-a2e653b79a57",
   "metadata": {},
   "source": []
  },
  {
   "cell_type": "markdown",
   "id": "be85ce40-2975-4d9e-a70b-ef9c1c7faad6",
   "metadata": {},
   "source": []
  },
  {
   "cell_type": "markdown",
   "id": "a68a1971-4728-4b00-94c9-96dbabaf6336",
   "metadata": {},
   "source": [
    "7. Write a Python Program to check if a string contains any special character?"
   ]
  },
  {
   "cell_type": "code",
   "execution_count": 7,
   "id": "460db44b-0589-41f3-af3d-d7172769724d",
   "metadata": {},
   "outputs": [
    {
     "name": "stdin",
     "output_type": "stream",
     "text": [
      "Enter the string:   DS @ Ineuron by Sudhanshu & krish\n"
     ]
    },
    {
     "name": "stdout",
     "output_type": "stream",
     "text": [
      "There are 2 Speical Characters in  DS @ Ineuron by Sudhanshu & krish which are ['@', '&']\n"
     ]
    },
    {
     "name": "stdin",
     "output_type": "stream",
     "text": [
      "Enter the string:  Full Metal Alchemist : Brotherhood\n"
     ]
    },
    {
     "name": "stdout",
     "output_type": "stream",
     "text": [
      "There are 1 Speical Characters in Full Metal Alchemist : Brotherhood which are [':']\n"
     ]
    }
   ],
   "source": [
    "def checkSpecialChar():\n",
    "    spl_chars = '[@_!#$%^&*()<>?/\\|}{~:]'\n",
    "    in_num = input('Enter the string: ')\n",
    "    count = 0\n",
    "    char_list = []\n",
    "    for ele in in_num:\n",
    "        if ele in spl_chars:\n",
    "            char_list.append(ele)\n",
    "            count = count+1\n",
    "    print(f'There are {count} Speical Characters in {in_num} which are {char_list}')\n",
    "            \n",
    "        \n",
    "checkSpecialChar()\n",
    "checkSpecialChar()"
   ]
  }
 ],
 "metadata": {
  "kernelspec": {
   "display_name": "Python 3 (ipykernel)",
   "language": "python",
   "name": "python3"
  },
  "language_info": {
   "codemirror_mode": {
    "name": "ipython",
    "version": 3
   },
   "file_extension": ".py",
   "mimetype": "text/x-python",
   "name": "python",
   "nbconvert_exporter": "python",
   "pygments_lexer": "ipython3",
   "version": "3.10.6"
  }
 },
 "nbformat": 4,
 "nbformat_minor": 5
}
