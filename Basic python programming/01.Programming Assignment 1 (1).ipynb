{
 "cells": [
  {
   "cell_type": "markdown",
   "id": "2806fddc-3d33-49ba-a216-313090355e13",
   "metadata": {},
   "source": [
    "Assignment 1 Solutions"
   ]
  },
  {
   "cell_type": "markdown",
   "id": "5817a797-968a-4c17-85ed-4f3d08d18d4e",
   "metadata": {},
   "source": []
  },
  {
   "cell_type": "markdown",
   "id": "55cb043d-459b-438a-94c4-ac2852b95b62",
   "metadata": {},
   "source": []
  },
  {
   "cell_type": "markdown",
   "id": "ceac93e2-ecba-4d90-a741-dbb6592ede70",
   "metadata": {},
   "source": [
    "1.Write a Python program to print 'Hello Python' ?"
   ]
  },
  {
   "cell_type": "code",
   "execution_count": 1,
   "id": "fc21b0a5-2d27-485b-9727-ee6bfb33233d",
   "metadata": {},
   "outputs": [
    {
     "name": "stdout",
     "output_type": "stream",
     "text": [
      "Hello Python\n"
     ]
    }
   ],
   "source": [
    "print('Hello Python')"
   ]
  },
  {
   "cell_type": "markdown",
   "id": "a8f5be29-a809-429b-8c66-2064de5887af",
   "metadata": {},
   "source": []
  },
  {
   "cell_type": "markdown",
   "id": "b72d964f-4542-4423-b6cb-f304a12f2167",
   "metadata": {},
   "source": []
  },
  {
   "cell_type": "markdown",
   "id": "f7c1e0be-c232-431a-a122-449160b88a05",
   "metadata": {},
   "source": [
    "2.Write a Python program to do arithmetic operations addition and division ?"
   ]
  },
  {
   "cell_type": "code",
   "execution_count": null,
   "id": "a0b111ce-d71f-4ac6-bcbb-7151b33c43c3",
   "metadata": {},
   "outputs": [],
   "source": []
  },
  {
   "cell_type": "code",
   "execution_count": 5,
   "id": "633e85e9-5d52-46bb-8a61-41197df20bc3",
   "metadata": {},
   "outputs": [
    {
     "name": "stdout",
     "output_type": "stream",
     "text": [
      "Select a Arithmetic Operation:         \n",
      "1.Addition(+)        \n",
      "2.Division(-)        \n",
      "2.Multiplication(*)        \n",
      "4.Division(/)        \n",
      "3.Stop(0)\n",
      "\n"
     ]
    },
    {
     "name": "stdin",
     "output_type": "stream",
     "text": [
      "Enter a arithmetic operation ->  +\n",
      "\n",
      "Enter 1st Number:  100\n",
      "Enter 2nd Number:  60\n"
     ]
    },
    {
     "name": "stdout",
     "output_type": "stream",
     "text": [
      "100+60=160\n",
      "\n"
     ]
    },
    {
     "name": "stdin",
     "output_type": "stream",
     "text": [
      "Enter a arithmetic operation ->  -\n",
      "\n",
      "Enter 1st Number:  60\n",
      "Enter 2nd Number:  30\n"
     ]
    },
    {
     "name": "stdout",
     "output_type": "stream",
     "text": [
      "60-30=30\n",
      "\n"
     ]
    },
    {
     "name": "stdin",
     "output_type": "stream",
     "text": [
      "Enter a arithmetic operation ->  *\n",
      "\n",
      "Enter 1st Number:  30\n",
      "Enter 2nd Number:  4\n"
     ]
    },
    {
     "name": "stdout",
     "output_type": "stream",
     "text": [
      "30*4=120\n",
      "\n"
     ]
    },
    {
     "name": "stdin",
     "output_type": "stream",
     "text": [
      "Enter a arithmetic operation ->  /\n",
      "\n",
      "Enter 1st Number:  100\n",
      "Enter 2nd Number:  10\n"
     ]
    },
    {
     "name": "stdout",
     "output_type": "stream",
     "text": [
      "100/10=10.0\n",
      "\n"
     ]
    },
    {
     "name": "stdin",
     "output_type": "stream",
     "text": [
      "Enter a arithmetic operation ->  0\n"
     ]
    },
    {
     "name": "stdout",
     "output_type": "stream",
     "text": [
      "Program Stopped successfully\n"
     ]
    }
   ],
   "source": [
    "import operator\n",
    "\n",
    "ops = { \"+\": operator.add, \"-\": operator.sub, \"*\":operator.mul, \"/\":operator.truediv } \n",
    "\n",
    "print('Select a Arithmetic Operation: \\\n",
    "        \\n1.Addition(+)\\\n",
    "        \\n2.Division(-)\\\n",
    "        \\n2.Multiplication(*)\\\n",
    "        \\n4.Division(/)\\\n",
    "        \\n3.Stop(0)\\n')\n",
    "   \n",
    "\n",
    "while True:\n",
    "    operator = input('Enter a arithmetic operation -> ')\n",
    "    if operator == '0':\n",
    "        print(\"Program Stopped successfully\")\n",
    "        break\n",
    "    elif operator not in ['+','-','*','/']:\n",
    "        print(\"Please enter a valid operator\")\n",
    "    else:\n",
    "        num_1 = int(input('\\nEnter 1st Number: '))\n",
    "        num_2 = int(input('Enter 2nd Number: '))\n",
    "        print('{}{}{}={}\\n'.format(num_1, operator, num_2, ops[operator](num_1,num_2)))"
   ]
  },
  {
   "cell_type": "markdown",
   "id": "dec59ed4-c134-4248-9069-b225c0bfbb95",
   "metadata": {},
   "source": []
  },
  {
   "cell_type": "markdown",
   "id": "392919fa-2945-43b7-8bca-b3dc4a1219dd",
   "metadata": {},
   "source": []
  },
  {
   "cell_type": "markdown",
   "id": "01f016bf-0ae0-47fe-8d08-b3a05181b46f",
   "metadata": {},
   "source": [
    "3.Write a Python program to find the area of a triangle ?"
   ]
  },
  {
   "cell_type": "code",
   "execution_count": 7,
   "id": "e9e5b40f-201e-4697-8d69-f19f749f34f9",
   "metadata": {},
   "outputs": [
    {
     "name": "stdin",
     "output_type": "stream",
     "text": [
      "Enter height of triangle:  100\n",
      "Enter base of triangle:  50\n"
     ]
    },
    {
     "name": "stdout",
     "output_type": "stream",
     "text": [
      "\n",
      "Area of triangle -> 2500.0\n"
     ]
    }
   ],
   "source": [
    "height = int(input('Enter height of triangle: '))\n",
    "base = int(input('Enter base of triangle: '))\n",
    "\n",
    "def areaOfTriangle(height, base):\n",
    "    print('\\nArea of triangle ->', 0.5*height*base)\n",
    "\n",
    "areaOfTriangle(height,base)"
   ]
  },
  {
   "cell_type": "markdown",
   "id": "efc9cbd1-be4e-4331-8c29-f6504d502e99",
   "metadata": {},
   "source": []
  },
  {
   "cell_type": "markdown",
   "id": "a25994c0-83a0-43bf-82d8-5ec9d87487b2",
   "metadata": {},
   "source": []
  },
  {
   "cell_type": "markdown",
   "id": "1c59a5a8-ca97-4366-a96a-e76d9960a690",
   "metadata": {},
   "source": [
    "4.Write a Python program to swap two variables ?"
   ]
  },
  {
   "cell_type": "code",
   "execution_count": 8,
   "id": "cdeab661-0896-4477-a2ae-65bf0e29c326",
   "metadata": {},
   "outputs": [
    {
     "name": "stdin",
     "output_type": "stream",
     "text": [
      "Enter First Number:  200\n",
      "Enter Second Number:  300\n"
     ]
    },
    {
     "name": "stdout",
     "output_type": "stream",
     "text": [
      "Before swapping ->  200 300\n",
      "After swapping ->  300 200\n"
     ]
    }
   ],
   "source": [
    "num_1 = int(input(\"Enter First Number: \"))\n",
    "num_2 = int(input(\"Enter Second Number: \"))\n",
    "\n",
    "def swapNumbers(a,b):\n",
    "    temp = a\n",
    "    a = b\n",
    "    b = temp\n",
    "    return a,b\n",
    "\n",
    "print('Before swapping -> ',num_1, num_2)\n",
    "num_1, num_2 = swapNumbers(num_1, num_2)\n",
    "print('After swapping -> ',num_1,num_2)\n"
   ]
  },
  {
   "cell_type": "markdown",
   "id": "874fd79e-ecc4-42dc-8de9-ce07621d3abb",
   "metadata": {},
   "source": []
  },
  {
   "cell_type": "markdown",
   "id": "82574030-6c04-4efc-b178-5407b6a2953e",
   "metadata": {},
   "source": []
  },
  {
   "cell_type": "markdown",
   "id": "5d256596-30c2-4cd7-8752-1af7f8e90835",
   "metadata": {},
   "source": [
    "5.Write a Python program to generate a random number ?"
   ]
  },
  {
   "cell_type": "code",
   "execution_count": 9,
   "id": "44dc7e31-932a-41e1-93e7-5f886ad311e0",
   "metadata": {},
   "outputs": [
    {
     "name": "stdout",
     "output_type": "stream",
     "text": [
      "Random number ->  47708\n",
      "Random number ->  30\n"
     ]
    }
   ],
   "source": [
    "from random import randint\n",
    "\n",
    "def generateRandomNumber(start=0, end=100000):\n",
    "    print('Random number -> ',randint(start,end))\n",
    "\n",
    "# Generating random numbers without arguments    \n",
    "generateRandomNumber()\n",
    "\n",
    "# Generating random numbers with arguments    \n",
    "generateRandomNumber(0,100)"
   ]
  }
 ],
 "metadata": {
  "kernelspec": {
   "display_name": "Python 3 (ipykernel)",
   "language": "python",
   "name": "python3"
  },
  "language_info": {
   "codemirror_mode": {
    "name": "ipython",
    "version": 3
   },
   "file_extension": ".py",
   "mimetype": "text/x-python",
   "name": "python",
   "nbconvert_exporter": "python",
   "pygments_lexer": "ipython3",
   "version": "3.10.6"
  }
 },
 "nbformat": 4,
 "nbformat_minor": 5
}
