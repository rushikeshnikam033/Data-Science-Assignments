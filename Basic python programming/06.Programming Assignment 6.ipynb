{
 "cells": [
  {
   "cell_type": "markdown",
   "id": "ca9fe0c6-c398-4fa2-95c6-56c801395cc6",
   "metadata": {},
   "source": [
    "Assignment 6 Solutions"
   ]
  },
  {
   "cell_type": "markdown",
   "id": "187ee055-7dd4-4fe0-b939-0b254d18466e",
   "metadata": {},
   "source": []
  },
  {
   "cell_type": "markdown",
   "id": "fc1193c7-3541-4894-bd7b-da3de3f73d3d",
   "metadata": {},
   "source": []
  },
  {
   "cell_type": "markdown",
   "id": "fb4b3211-c58d-46cd-a5ae-8aabaa47c6d7",
   "metadata": {},
   "source": [
    "1. Write a Python Program to Display Fibonacci Sequence using Recursion ?"
   ]
  },
  {
   "cell_type": "code",
   "execution_count": 1,
   "id": "9ff4b297-c13f-4965-84cf-16c6e38b57b8",
   "metadata": {},
   "outputs": [
    {
     "name": "stdin",
     "output_type": "stream",
     "text": [
      "Enter the length of Series:  15\n"
     ]
    },
    {
     "name": "stdout",
     "output_type": "stream",
     "text": [
      "0, 1, 3, 5, 8, 13, 21, 34, 55, 89, 144, 233, 377, 610, 987, 1597, 2584, "
     ]
    }
   ],
   "source": [
    "def genFibonacci(n,a,b):\n",
    "    if n == 0:\n",
    "        return 1\n",
    "    else:\n",
    "        result = a+b\n",
    "        print(result, end=', ')\n",
    "        genFibonacci(n-1,b,result)\n",
    "in_num = int(input('Enter the length of Series: '))\n",
    "print('0, 1',end=', ')\n",
    "genFibonacci(in_num,1,2)"
   ]
  },
  {
   "cell_type": "markdown",
   "id": "7f68f0e0-27ba-4013-814d-d4fe8f867a90",
   "metadata": {},
   "source": []
  },
  {
   "cell_type": "markdown",
   "id": "7e567ea8-b431-4f63-98f0-753ad1ddb337",
   "metadata": {},
   "source": []
  },
  {
   "cell_type": "markdown",
   "id": "358a0342-b4d6-4bc7-b940-a2d6ced6c9a9",
   "metadata": {},
   "source": [
    "2. Write a Python Program to Find Factorial of a Number using Recursion ?"
   ]
  },
  {
   "cell_type": "code",
   "execution_count": 2,
   "id": "43f89826-65f3-43ca-8e2c-ae34e7fb3602",
   "metadata": {},
   "outputs": [
    {
     "name": "stdin",
     "output_type": "stream",
     "text": [
      "Enter a number:  5\n"
     ]
    },
    {
     "name": "stdout",
     "output_type": "stream",
     "text": [
      "The Factorial of 5 is 120\n"
     ]
    }
   ],
   "source": [
    "def factorial(num):\n",
    "    if (num < 1):\n",
    "        return 1\n",
    "    else:\n",
    "        return num*factorial(num-1)\n",
    "num = int(input('Enter a number: '))\n",
    "value = factorial(num)\n",
    "print(f'The Factorial of {num} is {value}')"
   ]
  },
  {
   "cell_type": "markdown",
   "id": "f0396250-5f65-4a50-b80f-19a7ad36e32a",
   "metadata": {},
   "source": []
  },
  {
   "cell_type": "markdown",
   "id": "2e8f678d-6664-46eb-b3b1-69e681f2c83e",
   "metadata": {},
   "source": []
  },
  {
   "cell_type": "markdown",
   "id": "61ed6aa7-9509-498f-8ff8-a7b450dfcd55",
   "metadata": {},
   "source": [
    "3. Write a Python Program to Calculate your Body Mass Index ?"
   ]
  },
  {
   "cell_type": "code",
   "execution_count": 3,
   "id": "f7dfa4e7-f8aa-4010-94da-ef8d25e363ba",
   "metadata": {},
   "outputs": [
    {
     "name": "stdin",
     "output_type": "stream",
     "text": [
      "Enter your Weight(kgs):  55\n",
      "Enter your Height(mts):  1.78\n"
     ]
    },
    {
     "name": "stdout",
     "output_type": "stream",
     "text": [
      "Your're BMI is 17.35891932836763 and status is Underweight \n"
     ]
    }
   ],
   "source": [
    "def calculateBMI():\n",
    "    in_weight = eval(input('Enter your Weight(kgs): '))\n",
    "    in_height = eval(input('Enter your Height(mts): '))\n",
    "    calc_bmi = in_weight/pow(in_height,2)\n",
    "    if (calc_bmi < 18.5):\n",
    "        status = 'Underweight'\n",
    "    elif (calc_bmi >= 18.5 and calc_bmi < 24.9):\n",
    "        status = 'Healthy'\n",
    "    elif (calc_bmi >= 24.9 and calc_bmi < 30):\n",
    "        status = 'Overweight'\n",
    "    elif (calc_bmi >=30):\n",
    "        status = 'Suffering from Obesity'\n",
    "    print(f'Your\\'re BMI is {calc_bmi} and status is {status} ')\n",
    "calculateBMI()"
   ]
  },
  {
   "cell_type": "markdown",
   "id": "d520cc62-3cee-4540-af2d-dd4598ee36ac",
   "metadata": {},
   "source": []
  },
  {
   "cell_type": "markdown",
   "id": "5782c74c-1053-40bf-906f-dd8d06a3af49",
   "metadata": {},
   "source": []
  },
  {
   "cell_type": "markdown",
   "id": "9a13ea2b-77f7-4aff-932a-c9d288e1aadf",
   "metadata": {},
   "source": [
    "4. Write a Python Program to Calculate the Natural Logarithm of any Number ?"
   ]
  },
  {
   "cell_type": "code",
   "execution_count": 4,
   "id": "776e6e59-eb69-49ef-9209-231faa649c85",
   "metadata": {},
   "outputs": [
    {
     "name": "stdin",
     "output_type": "stream",
     "text": [
      "Enter a Number: 22\n"
     ]
    },
    {
     "name": "stdout",
     "output_type": "stream",
     "text": [
      "3.091042453358316\n"
     ]
    }
   ],
   "source": [
    "import math\n",
    "def genNatLog():\n",
    "    in_num = eval(input(\"Enter a Number:\"))\n",
    "    print(math.log(in_num))\n",
    "\n",
    "genNatLog()"
   ]
  },
  {
   "cell_type": "markdown",
   "id": "60eedeb0-c4a3-4d57-b700-85e3756d9873",
   "metadata": {},
   "source": []
  },
  {
   "cell_type": "markdown",
   "id": "17990b1a-a700-4493-a9ee-0cd0c0bd66f3",
   "metadata": {},
   "source": []
  },
  {
   "cell_type": "markdown",
   "id": "8f3e391c-55df-44a0-939d-c6927ebb7c5d",
   "metadata": {},
   "source": [
    "5. Write a Python Program for Cube sum of first n Natural Numbers ?"
   ]
  },
  {
   "cell_type": "code",
   "execution_count": 5,
   "id": "f08666f0-cc84-409c-8163-6694a4b666fa",
   "metadata": {},
   "outputs": [
    {
     "name": "stdin",
     "output_type": "stream",
     "text": [
      "Enter the no of Natural Numbers:  5\n"
     ]
    },
    {
     "name": "stdout",
     "output_type": "stream",
     "text": [
      "The Cube Sum of First 5 Natural Numbers is 225.0\n"
     ]
    }
   ],
   "source": [
    "def cubeOfNaturalNumbers():\n",
    "    in_num = int(input(\"Enter the no of Natural Numbers: \"))\n",
    "    result = pow(((in_num * (in_num +1))/2),2)\n",
    "    print(f'The Cube Sum of First {in_num} Natural Numbers is {result}')\n",
    "\n",
    "cubeOfNaturalNumbers()"
   ]
  }
 ],
 "metadata": {
  "kernelspec": {
   "display_name": "Python 3 (ipykernel)",
   "language": "python",
   "name": "python3"
  },
  "language_info": {
   "codemirror_mode": {
    "name": "ipython",
    "version": 3
   },
   "file_extension": ".py",
   "mimetype": "text/x-python",
   "name": "python",
   "nbconvert_exporter": "python",
   "pygments_lexer": "ipython3",
   "version": "3.10.6"
  }
 },
 "nbformat": 4,
 "nbformat_minor": 5
}
