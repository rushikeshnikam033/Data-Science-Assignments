{
 "cells": [
  {
   "cell_type": "markdown",
   "id": "bd769c84-2180-4b88-8cce-8498d8c90aaf",
   "metadata": {},
   "source": [
    "Assignment 9 Solutions"
   ]
  },
  {
   "cell_type": "markdown",
   "id": "615d1759-77b6-4f8d-8375-ad40211ff275",
   "metadata": {},
   "source": []
  },
  {
   "cell_type": "markdown",
   "id": "a40f0429-ed0f-47cc-b150-5acdce6742fe",
   "metadata": {},
   "source": []
  },
  {
   "cell_type": "markdown",
   "id": "08e99b11-8292-43a9-bf55-0bf3104bc07a",
   "metadata": {},
   "source": [
    "1.Write a Python Program to check if the given number is a Disarium Number ?"
   ]
  },
  {
   "cell_type": "markdown",
   "id": "3d0af013-c93a-4fb6-aed3-cd6f63a62a07",
   "metadata": {},
   "source": [
    "Ans.  Sum of its digits powered with their respective position is equal to the original number."
   ]
  },
  {
   "cell_type": "code",
   "execution_count": 2,
   "id": "cbd0b4ce-1324-42fd-a312-bb7f8a4ed1b8",
   "metadata": {},
   "outputs": [
    {
     "name": "stdin",
     "output_type": "stream",
     "text": [
      "Enter a Number:  89\n"
     ]
    },
    {
     "name": "stdout",
     "output_type": "stream",
     "text": [
      "89 is a Disarium Number\n"
     ]
    },
    {
     "name": "stdin",
     "output_type": "stream",
     "text": [
      "Enter a Number:  105\n"
     ]
    },
    {
     "name": "stdout",
     "output_type": "stream",
     "text": [
      "105 is a Not Disarium Number\n"
     ]
    }
   ],
   "source": [
    "def checkDisariumNumber():\n",
    "    in_num = input('Enter a Number: ')\n",
    "    sum = 0\n",
    "    for item in range(len(in_num)):\n",
    "        sum = sum + int(in_num[item])**(item+1)\n",
    "    if sum == int(in_num):\n",
    "        print(f'{in_num} is a Disarium Number')\n",
    "    else:\n",
    "        print(f'{in_num} is a Not Disarium Number') \n",
    "\n",
    "checkDisariumNumber()\n",
    "checkDisariumNumber()"
   ]
  },
  {
   "cell_type": "markdown",
   "id": "ece26f68-727c-4df9-84c8-3b0df873f54f",
   "metadata": {},
   "source": []
  },
  {
   "cell_type": "markdown",
   "id": "f7b2ed23-b62a-4483-a709-9bfe969209e0",
   "metadata": {},
   "source": []
  },
  {
   "cell_type": "markdown",
   "id": "03e091ff-3213-4d0f-bc58-31523318c794",
   "metadata": {},
   "source": [
    "2.Write a Python Program to print all Disarium numbers between 1 to 100 ?"
   ]
  },
  {
   "cell_type": "code",
   "execution_count": 3,
   "id": "79c684e7-3c43-4132-b575-4ff79219e952",
   "metadata": {},
   "outputs": [
    {
     "data": {
      "text/plain": [
       "[1, 2, 3, 4, 5, 6, 7, 8, 9, 89, 135, 175, 518, 598]"
      ]
     },
     "execution_count": 3,
     "metadata": {},
     "output_type": "execute_result"
    }
   ],
   "source": [
    "def printDisariumNumbers(start=0,end=100):\n",
    "    output_num = []\n",
    "    for number in range(start,end+1):\n",
    "        sum = 0\n",
    "        for item in range(len(str(number))):\n",
    "            sum = sum + int(str(number)[item])**(item+1)\n",
    "        if sum == number:\n",
    "            output_num.append(number)\n",
    "    return output_num\n",
    "            \n",
    "        \n",
    "printDisariumNumbers(1,1000)"
   ]
  },
  {
   "cell_type": "markdown",
   "id": "0e267762-a115-4345-90e9-61d38d708a4e",
   "metadata": {},
   "source": []
  },
  {
   "cell_type": "markdown",
   "id": "7cc5cc9c-a409-4469-be49-a35fb80f0d9f",
   "metadata": {},
   "source": []
  },
  {
   "cell_type": "markdown",
   "id": "0109381b-97a6-42bb-a124-1ec41c2f8ebb",
   "metadata": {},
   "source": [
    "3.Write a Python Program to check if the given number is Happy Number ?"
   ]
  },
  {
   "cell_type": "markdown",
   "id": "24679282-6de6-4251-83e6-bf1d43cb2e96",
   "metadata": {},
   "source": [
    "Ans. A number is said to be happy if it yields 1 when replaced by the sum of squares of its digits repeatedly. If this process results in an endless cycle of numbers containing 4, then the number will be an unhappy number."
   ]
  },
  {
   "cell_type": "code",
   "execution_count": 4,
   "id": "33f95ca5-d1e6-4f56-acdb-66b82548336f",
   "metadata": {},
   "outputs": [
    {
     "name": "stdin",
     "output_type": "stream",
     "text": [
      "Enter a Number:  7\n"
     ]
    },
    {
     "name": "stdout",
     "output_type": "stream",
     "text": [
      "7 is a Happy Number\n"
     ]
    },
    {
     "name": "stdin",
     "output_type": "stream",
     "text": [
      "Enter a Number:  5\n"
     ]
    },
    {
     "name": "stdout",
     "output_type": "stream",
     "text": [
      "5 is not a Happy Number\n"
     ]
    }
   ],
   "source": [
    "def checkHappyNumber():\n",
    "    in_num = input('Enter a Number: ')\n",
    "    in_num_duplicate = in_num\n",
    "    trackNumber = set()   \n",
    "    while True:\n",
    "        if in_num != '1' and str(in_num) not in trackNumber:\n",
    "            trackNumber.add(in_num)\n",
    "            sum = 0\n",
    "            for ele in range(len((in_num))):\n",
    "                sum = sum + int(in_num[ele])**2\n",
    "            in_num = str(sum)\n",
    "        elif str(in_num) in trackNumber:\n",
    "            print(f'{in_num_duplicate} is not a Happy Number')\n",
    "            break\n",
    "        else:\n",
    "            print(f'{in_num_duplicate} is a Happy Number')\n",
    "            break\n",
    "\n",
    "checkHappyNumber()\n",
    "checkHappyNumber()"
   ]
  },
  {
   "cell_type": "markdown",
   "id": "0da39ff3-2760-43a5-ba69-717b89a6de71",
   "metadata": {},
   "source": []
  },
  {
   "cell_type": "markdown",
   "id": "d528d39e-88c5-4b69-ad5a-88d762e61b0a",
   "metadata": {},
   "source": []
  },
  {
   "cell_type": "markdown",
   "id": "bd6f088f-c030-4321-b8f7-33f02d58fff9",
   "metadata": {},
   "source": [
    "4.Write a Python Program to print all Happy numbers between 1 and 100 ?"
   ]
  },
  {
   "cell_type": "code",
   "execution_count": 5,
   "id": "52ed8830-c5f3-4109-be37-e074f60f234a",
   "metadata": {},
   "outputs": [
    {
     "name": "stdout",
     "output_type": "stream",
     "text": [
      "The Happy Numbers between 0 and 100 are [1, 7, 10, 13, 19, 23, 28, 31, 32, 44, 49, 68, 70, 79, 82, 86, 91, 94, 97, 100]\n"
     ]
    }
   ],
   "source": [
    "def checkHappyNumber(start=0,end=100):\n",
    "    happyNumbersList = []\n",
    "    for in_num in range(start,end+1):\n",
    "        in_num = str(in_num)\n",
    "        inum_holder = in_num\n",
    "        trackNumber = set()   \n",
    "        while True:\n",
    "            if in_num != '1' and str(in_num) not in trackNumber:\n",
    "                trackNumber.add(in_num)\n",
    "                sum = 0\n",
    "                for ele in range(len((in_num))):\n",
    "                    sum = sum + int(in_num[ele])**2\n",
    "                in_num = str(sum)\n",
    "            elif str(in_num) in trackNumber:\n",
    "                break\n",
    "            else:\n",
    "                happyNumbersList.append(int(inum_holder))\n",
    "                break\n",
    "    print(f'The Happy Numbers between {start} and {end} are {happyNumbersList}')\n",
    "    \n",
    "checkHappyNumber(0,100)"
   ]
  },
  {
   "cell_type": "markdown",
   "id": "7d17b015-53a1-46d1-9e8e-60eb31e105a3",
   "metadata": {},
   "source": []
  },
  {
   "cell_type": "markdown",
   "id": "28561c4d-de3f-4769-8900-c7a0c09ee31b",
   "metadata": {},
   "source": []
  },
  {
   "cell_type": "markdown",
   "id": "d68212bf-7a47-4d00-b3ba-e73bd3331fc6",
   "metadata": {},
   "source": [
    "5.Write a Python Program to determine whether the given number is a Harshad Number ?"
   ]
  },
  {
   "cell_type": "markdown",
   "id": "97fb33da-fdf0-4af6-ad61-69f39429154d",
   "metadata": {},
   "source": [
    "Ans.If a number is divisible by the sum of its digits, then it will be known as a Harshad Number"
   ]
  },
  {
   "cell_type": "code",
   "execution_count": 6,
   "id": "880527d2-bd11-4827-b943-fe0e202d3ae2",
   "metadata": {},
   "outputs": [
    {
     "name": "stdin",
     "output_type": "stream",
     "text": [
      "Enter a Number:  156\n"
     ]
    },
    {
     "name": "stdout",
     "output_type": "stream",
     "text": [
      "156 is a Harshad Number\n"
     ]
    },
    {
     "name": "stdin",
     "output_type": "stream",
     "text": [
      "Enter a Number:  23\n"
     ]
    },
    {
     "name": "stdout",
     "output_type": "stream",
     "text": [
      "23 is a Not Harshad Number\n"
     ]
    }
   ],
   "source": [
    "def checkHarshadNumber():\n",
    "    in_num = input('Enter a Number: ')\n",
    "    sum = 0\n",
    "    for item in range(len(in_num)):\n",
    "        sum = sum + int(in_num[item])\n",
    "    if int(in_num)%sum == 0:\n",
    "        print(f'{in_num} is a Harshad Number')\n",
    "    else:\n",
    "        print(f'{in_num} is a Not Harshad Number')\n",
    "        \n",
    "checkHarshadNumber()\n",
    "checkHarshadNumber()"
   ]
  },
  {
   "cell_type": "markdown",
   "id": "9a4dea7a-0c99-4ca3-832e-d8725bb838f4",
   "metadata": {},
   "source": []
  },
  {
   "cell_type": "markdown",
   "id": "1fe03fa4-ad39-4836-953d-1022dec02697",
   "metadata": {},
   "source": []
  },
  {
   "cell_type": "markdown",
   "id": "77cab7be-20ef-4408-9763-f4bf8ca5ccc0",
   "metadata": {},
   "source": [
    "6.Write a Python Program to print all pronic numbers between 1 and 100 ?"
   ]
  },
  {
   "cell_type": "code",
   "execution_count": 7,
   "id": "e06364cb-3157-42ad-8461-fb07db1a0534",
   "metadata": {},
   "outputs": [
    {
     "name": "stdout",
     "output_type": "stream",
     "text": [
      "[0, 2, 6, 12, 20, 30, 42, 56, 72, 90, 110, 132, 156, 182, 210, 240, 272, 306, 342, 380, 420, 462, 506, 552, 600, 650, 702, 756, 812, 870, 930, 992, 1056, 1122, 1190, 1260, 1332, 1406, 1482, 1560, 1640, 1722, 1806, 1892, 1980, 2070, 2162, 2256, 2352, 2450, 2550, 2652, 2756, 2862, 2970, 3080, 3192, 3306, 3422, 3540, 3660, 3782, 3906, 4032, 4160, 4290, 4422, 4556, 4692, 4830, 4970, 5112, 5256, 5402, 5550, 5700, 5852, 6006, 6162, 6320, 6480, 6642, 6806, 6972, 7140, 7310, 7482, 7656, 7832, 8010, 8190, 8372, 8556, 8742, 8930, 9120, 9312, 9506, 9702, 9900, 10100]\n"
     ]
    }
   ],
   "source": [
    "def printPronicNumbers(start=0,end=100):\n",
    "    outputList = []\n",
    "    for ele in range(start,end+1):\n",
    "        outputList.append((ele)*(ele+1))\n",
    "    print(outputList)\n",
    "                   \n",
    "printPronicNumbers()"
   ]
  }
 ],
 "metadata": {
  "kernelspec": {
   "display_name": "Python 3 (ipykernel)",
   "language": "python",
   "name": "python3"
  },
  "language_info": {
   "codemirror_mode": {
    "name": "ipython",
    "version": 3
   },
   "file_extension": ".py",
   "mimetype": "text/x-python",
   "name": "python",
   "nbconvert_exporter": "python",
   "pygments_lexer": "ipython3",
   "version": "3.10.6"
  }
 },
 "nbformat": 4,
 "nbformat_minor": 5
}
