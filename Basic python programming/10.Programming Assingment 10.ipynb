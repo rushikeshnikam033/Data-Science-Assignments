{
 "cells": [
  {
   "cell_type": "markdown",
   "id": "ee599c1a-3520-4764-a97d-6b5360fffb82",
   "metadata": {},
   "source": [
    "Assignment 10 Solutions"
   ]
  },
  {
   "cell_type": "markdown",
   "id": "5d4e65a9-5617-4e77-92c1-ea62f78dfc7d",
   "metadata": {},
   "source": []
  },
  {
   "cell_type": "markdown",
   "id": "02828352-e5b3-4a4a-901a-122325367a28",
   "metadata": {},
   "source": []
  },
  {
   "cell_type": "markdown",
   "id": "1b381528-e0d2-4f29-b19e-ebe50300c0e3",
   "metadata": {},
   "source": [
    "1.Write a Python Program to find sum of elements in a list ?"
   ]
  },
  {
   "cell_type": "code",
   "execution_count": 2,
   "id": "675f825e-fa58-4d79-ab3b-244557f557da",
   "metadata": {},
   "outputs": [
    {
     "name": "stdin",
     "output_type": "stream",
     "text": [
      "Enter the No of Entries in a List:  4\n",
      "Enter a element:  6\n",
      "Enter a element:  9\n",
      "Enter a element:  2\n",
      "Enter a element:  5\n"
     ]
    },
    {
     "name": "stdout",
     "output_type": "stream",
     "text": [
      "Sum of Elements: 22\n"
     ]
    }
   ],
   "source": [
    "def sumofList():\n",
    "    in_ele = int(input('Enter the No of Entries in a List: '))\n",
    "    in_list = []\n",
    "    for itr in range(in_ele):\n",
    "        in_list.append(int(input('Enter a element: ')))\n",
    "    print(f'Sum of Elements: {sum(in_list)}')\n",
    "\n",
    "sumofList()"
   ]
  },
  {
   "cell_type": "markdown",
   "id": "313cf050-b4a1-466a-8a8f-26ab81e3df6e",
   "metadata": {},
   "source": []
  },
  {
   "cell_type": "markdown",
   "id": "a7959091-1ebd-455e-b355-f1d962eb3c5b",
   "metadata": {},
   "source": []
  },
  {
   "cell_type": "markdown",
   "id": "939d3467-75f1-4a1a-81b9-76291478f86a",
   "metadata": {},
   "source": [
    "2.Write a Python Program to multiply all numbers in the list ?"
   ]
  },
  {
   "cell_type": "code",
   "execution_count": 3,
   "id": "41086fbc-8565-4c79-9df5-9c72f00e5860",
   "metadata": {},
   "outputs": [
    {
     "name": "stdin",
     "output_type": "stream",
     "text": [
      "Enter the No of Entries in a List:  5\n",
      "Enter a element:  6\n",
      "Enter a element:  2\n",
      "Enter a element:  1\n",
      "Enter a element:  4\n",
      "Enter a element:  3\n"
     ]
    },
    {
     "name": "stdout",
     "output_type": "stream",
     "text": [
      "144\n"
     ]
    }
   ],
   "source": [
    "def mulofList():\n",
    "    in_ele = int(input('Enter the No of Entries in a List: '))\n",
    "    in_list = []\n",
    "    mul = 1\n",
    "    for itr in range(in_ele):\n",
    "        in_list.append(int(input('Enter a element: ')))\n",
    "    for ele in in_list:\n",
    "        mul = mul * ele\n",
    "    print(mul)\n",
    "\n",
    "mulofList()"
   ]
  },
  {
   "cell_type": "markdown",
   "id": "ec92c7ab-6dde-4aeb-ac6c-907c58b794ea",
   "metadata": {},
   "source": []
  },
  {
   "cell_type": "markdown",
   "id": "bd304249-a0bd-4d59-8e46-33aa07868b77",
   "metadata": {},
   "source": []
  },
  {
   "cell_type": "markdown",
   "id": "603b9085-816c-433f-8f60-de6372922e90",
   "metadata": {},
   "source": [
    "3.Write a Python Program to find smallest number in the list ?"
   ]
  },
  {
   "cell_type": "code",
   "execution_count": 4,
   "id": "7fcb4559-dad8-4870-97e0-7ee5027d3407",
   "metadata": {},
   "outputs": [
    {
     "name": "stdin",
     "output_type": "stream",
     "text": [
      "Enter the No of elements in a list:  5\n",
      "Enter a Element:  45\n",
      "Enter a Element:  23\n",
      "Enter a Element:  786\n",
      "Enter a Element:  76\n",
      "Enter a Element:  34\n"
     ]
    },
    {
     "name": "stdout",
     "output_type": "stream",
     "text": [
      "The Smallest Element in [45, 23, 786, 76, 34] is 23\n"
     ]
    }
   ],
   "source": [
    "def smallEleInList():\n",
    "    in_ele = int(input('Enter the No of elements in a list: '))\n",
    "    in_list = []\n",
    "    for ele in range(in_ele):\n",
    "        in_list.append(int(input('Enter a Element: ')))\n",
    "    print(f'The Smallest Element in {in_list} is {sorted(in_list)[0]}')\n",
    "smallEleInList()"
   ]
  },
  {
   "cell_type": "markdown",
   "id": "425fd405-54bb-4f14-be88-a89688340bef",
   "metadata": {},
   "source": []
  },
  {
   "cell_type": "markdown",
   "id": "c67b0238-960d-44d8-8492-14c18e69b2f8",
   "metadata": {},
   "source": []
  },
  {
   "cell_type": "markdown",
   "id": "61e3b7b6-8acb-4970-982d-eaf35bae4276",
   "metadata": {},
   "source": [
    "4.Write a Python Program to find largest number in the list ?"
   ]
  },
  {
   "cell_type": "code",
   "execution_count": 5,
   "id": "919d760a-9d14-4304-b57c-52c2b022e61a",
   "metadata": {},
   "outputs": [
    {
     "name": "stdin",
     "output_type": "stream",
     "text": [
      "Enter the No of elements in a list:  5\n",
      "Enter a Element:  654\n",
      "Enter a Element:  87\n",
      "Enter a Element:  7676\n",
      "Enter a Element:  34\n",
      "Enter a Element:  8765\n"
     ]
    },
    {
     "name": "stdout",
     "output_type": "stream",
     "text": [
      "The Largest Element in [654, 87, 7676, 34, 8765] is 8765\n"
     ]
    }
   ],
   "source": [
    "def largestEleInList():\n",
    "    in_ele = int(input('Enter the No of elements in a list: '))\n",
    "    in_list = []\n",
    "    for ele in range(in_ele):\n",
    "        in_list.append(int(input('Enter a Element: ')))\n",
    "    print(f'The Largest Element in {in_list} is {sorted(in_list, reverse=True)[0]}')\n",
    "\n",
    "largestEleInList()"
   ]
  },
  {
   "cell_type": "markdown",
   "id": "29f01dde-5329-4ee1-9bf2-467e79d3ebbd",
   "metadata": {},
   "source": []
  },
  {
   "cell_type": "markdown",
   "id": "50160644-c00e-471b-96da-e6341fa3cf25",
   "metadata": {},
   "source": []
  },
  {
   "cell_type": "markdown",
   "id": "6946499d-a6e5-407b-8224-fc69aee83d11",
   "metadata": {},
   "source": [
    "5.Write a Python Program to find second largest number in the list ?"
   ]
  },
  {
   "cell_type": "code",
   "execution_count": 6,
   "id": "23343a51-9ea5-43a3-a612-d7493db0ab38",
   "metadata": {},
   "outputs": [
    {
     "name": "stdin",
     "output_type": "stream",
     "text": [
      "Enter the No of elements in a list:  4\n",
      "Enter a Element:  87\n",
      "Enter a Element:  54\n",
      "Enter a Element:  84\n",
      "Enter a Element:  98\n"
     ]
    },
    {
     "name": "stdout",
     "output_type": "stream",
     "text": [
      "The Second Largest Element in [87, 54, 84, 98] is 87\n"
     ]
    }
   ],
   "source": [
    "def secondLargestEleInList():\n",
    "    in_ele = int(input('Enter the No of elements in a list: '))\n",
    "    in_list = []\n",
    "    for ele in range(in_ele):\n",
    "        in_list.append(int(input('Enter a Element: ')))\n",
    "    print(f'The Second Largest Element in {in_list} is {sorted(in_list, reverse=True)[1]}')\n",
    "\n",
    "secondLargestEleInList()"
   ]
  },
  {
   "cell_type": "markdown",
   "id": "6ca9eb44-af83-4f47-a4df-e9422beb2451",
   "metadata": {},
   "source": []
  },
  {
   "cell_type": "markdown",
   "id": "f91d87c7-5469-4cfd-90e4-7be1a8853beb",
   "metadata": {},
   "source": []
  },
  {
   "cell_type": "markdown",
   "id": "643eee8e-fc53-4613-94ae-fcc65dae7d11",
   "metadata": {},
   "source": [
    "6.Write a Python Program to find N largest elements in the list ?"
   ]
  },
  {
   "cell_type": "code",
   "execution_count": 11,
   "id": "dab1bac6-580e-4b1e-b9f7-f4203733be08",
   "metadata": {},
   "outputs": [
    {
     "name": "stdin",
     "output_type": "stream",
     "text": [
      "Enter the No of elements in a list:  10\n",
      "Enter a Element:  1\n",
      "Enter a Element:  2\n",
      "Enter a Element:  3\n",
      "Enter a Element:  4\n",
      "Enter a Element:  5\n",
      "Enter a Element:  6\n",
      "Enter a Element:  7\n",
      "Enter a Element:  8\n",
      "Enter a Element:  9\n",
      "Enter a Element:  10\n"
     ]
    },
    {
     "name": "stdout",
     "output_type": "stream",
     "text": [
      "The 4 Largest Element in [1, 2, 3, 4, 5, 6, 7, 8, 9, 10] is [10, 9, 8, 7]\n"
     ]
    }
   ],
   "source": [
    "def nLargestEleInList(k):\n",
    "    in_ele = int(input('Enter the No of elements in a list: '))\n",
    "    in_list = []\n",
    "    for ele in range(in_ele):\n",
    "        in_list.append(int(input('Enter a Element: ')))\n",
    "    print(f'The {k} Largest Element in {in_list} is {sorted(in_list, reverse=True)[0:k]}')\n",
    "\n",
    "nLargestEleInList(4)"
   ]
  },
  {
   "cell_type": "markdown",
   "id": "dae557bf-5182-497d-98d5-8dc41fa79269",
   "metadata": {},
   "source": []
  },
  {
   "cell_type": "markdown",
   "id": "9c3479d7-d9af-4c7a-b302-b2c696e6b822",
   "metadata": {},
   "source": []
  },
  {
   "cell_type": "markdown",
   "id": "c25fabfd-cfbe-4b9d-8d3b-cd455a42c612",
   "metadata": {},
   "source": [
    "7.Write a Python Program to find even numbers in the list ?"
   ]
  },
  {
   "cell_type": "code",
   "execution_count": 12,
   "id": "19b55fdb-7f6b-4f98-9568-1878a57b7513",
   "metadata": {},
   "outputs": [
    {
     "name": "stdin",
     "output_type": "stream",
     "text": [
      "Enter the No of elements in a list:  7\n",
      "Enter a Element:  1\n",
      "Enter a Element:  2\n",
      "Enter a Element:  3\n",
      "Enter a Element:  4\n",
      "Enter a Element:  5\n",
      "Enter a Element:  6\n",
      "Enter a Element:  7\n"
     ]
    },
    {
     "name": "stdout",
     "output_type": "stream",
     "text": [
      "The Even Elements in [1, 2, 3, 4, 5, 6, 7] are [2, 4, 6]\n"
     ]
    }
   ],
   "source": [
    "def evenNoInList():\n",
    "    in_ele = int(input('Enter the No of elements in a list: '))\n",
    "    in_list = []\n",
    "    even_list = []\n",
    "    for ele in range(in_ele):\n",
    "        in_list.append(int(input('Enter a Element: ')))\n",
    "    for ele in in_list:\n",
    "        if ele%2 == 0:\n",
    "            even_list.append(ele)\n",
    "    print(f'The Even Elements in {in_list} are {even_list}')\n",
    "\n",
    "evenNoInList()"
   ]
  },
  {
   "cell_type": "markdown",
   "id": "b9d83568-c638-4af1-9c21-9318a0a78613",
   "metadata": {},
   "source": []
  },
  {
   "cell_type": "markdown",
   "id": "3cbf4553-39f4-4315-9a44-6a67fbe3408d",
   "metadata": {},
   "source": []
  },
  {
   "cell_type": "markdown",
   "id": "bef1426a-7be4-4b60-94fd-fc054143fd23",
   "metadata": {},
   "source": [
    "8.Write a Python Program to find odd numbers in the list ?"
   ]
  },
  {
   "cell_type": "code",
   "execution_count": 13,
   "id": "b4b2df4f-3c6c-4788-a13f-99a41bbfa1c3",
   "metadata": {},
   "outputs": [
    {
     "name": "stdin",
     "output_type": "stream",
     "text": [
      "Enter the No of elements in a list:  6\n",
      "Enter a Element:  1\n",
      "Enter a Element:  2\n",
      "Enter a Element:  3\n",
      "Enter a Element:  4\n",
      "Enter a Element:  5\n",
      "Enter a Element:  6\n"
     ]
    },
    {
     "name": "stdout",
     "output_type": "stream",
     "text": [
      "The Even Elements in [1, 2, 3, 4, 5, 6] are [1, 3, 5]\n"
     ]
    }
   ],
   "source": [
    "def oddNoInList():\n",
    "    in_ele = int(input('Enter the No of elements in a list: '))\n",
    "    in_list = []\n",
    "    odd_list = []\n",
    "    for ele in range(in_ele):\n",
    "        in_list.append(int(input('Enter a Element: ')))\n",
    "    for ele in in_list:\n",
    "        if ele%2 != 0:\n",
    "            odd_list.append(ele)\n",
    "    print(f'The Even Elements in {in_list} are {odd_list}')\n",
    "\n",
    "oddNoInList()"
   ]
  },
  {
   "cell_type": "markdown",
   "id": "97e1a757-3fde-4358-a796-90d07ee72fe5",
   "metadata": {},
   "source": []
  },
  {
   "cell_type": "markdown",
   "id": "29cf08e4-3c88-467a-baed-8b8d672aafab",
   "metadata": {},
   "source": []
  },
  {
   "cell_type": "markdown",
   "id": "197e9fe8-1d36-41f3-908b-bd5f01779fab",
   "metadata": {},
   "source": [
    "9.Write a Python Program to remove empty list from list ?"
   ]
  },
  {
   "cell_type": "code",
   "execution_count": 1,
   "id": "6e7ab237-3b37-494e-9d11-b53cf465f101",
   "metadata": {},
   "outputs": [
    {
     "name": "stdin",
     "output_type": "stream",
     "text": [
      "Enter all elements of the list:  [1,2,3,4,5,[],6,7,8,9,0]\n"
     ]
    },
    {
     "name": "stdout",
     "output_type": "stream",
     "text": [
      "There is an Empty list in [1, 2, 3, 4, 5, [], 6, 7, 8, 9, 0] at Position 5\n",
      "The List after removing [] is [1, 2, 3, 4, 5, 6, 7, 8, 9, 0]\n"
     ]
    }
   ],
   "source": [
    "def checkEmptyList():\n",
    "    in_list = eval(input('Enter all elements of the list: '))\n",
    "    if [] in in_list:\n",
    "        print(f'There is an Empty list in {in_list} at Position {in_list.index([])}')\n",
    "        in_list.remove([])\n",
    "        print(f'The List after removing [] is {in_list}')\n",
    "    else:\n",
    "        print(f'There is no [] List in the list {in_list}')\n",
    "        \n",
    "checkEmptyList()"
   ]
  },
  {
   "cell_type": "markdown",
   "id": "55ce3beb-5a8a-41d1-a88f-a4c01f6129b1",
   "metadata": {},
   "source": []
  },
  {
   "cell_type": "markdown",
   "id": "f2543219-08d2-46f2-9ed0-bae28f24a59a",
   "metadata": {},
   "source": []
  },
  {
   "cell_type": "markdown",
   "id": "b307fad4-f1a2-44f1-bb57-900f82a31ba6",
   "metadata": {},
   "source": [
    "10.Write a Python Program to Cloning or Copying a list ?"
   ]
  },
  {
   "cell_type": "code",
   "execution_count": 2,
   "id": "6fe6c30a-c704-46d7-ae58-0917558b0ac5",
   "metadata": {},
   "outputs": [
    {
     "name": "stdin",
     "output_type": "stream",
     "text": [
      "Enter a list [1,2,3,4,5,6,7,8,9,0]\n"
     ]
    },
    {
     "name": "stdout",
     "output_type": "stream",
     "text": [
      "[1, 2, 3, 4, 5, 6, 7, 8, 9, 0] 140144019236224\n",
      "[1, 2, 3, 4, 5, 6, 7, 8, 9, 0] 140144018976128\n"
     ]
    }
   ],
   "source": [
    "import copy\n",
    "\n",
    "def cloneList():\n",
    "    in_list = eval(input('Enter a list'))\n",
    "    print(in_list, id(in_list))\n",
    "    cloned_list = in_list.copy()\n",
    "    print(cloned_list, id(cloned_list))\n",
    "\n",
    "cloneList()"
   ]
  },
  {
   "cell_type": "markdown",
   "id": "803abf29-50e5-47d8-825b-6578cbc9e5d6",
   "metadata": {},
   "source": []
  },
  {
   "cell_type": "markdown",
   "id": "68135f41-bc89-4e7f-bcaa-1ae9264fd004",
   "metadata": {},
   "source": []
  },
  {
   "cell_type": "markdown",
   "id": "53ec4870-eb2c-4d2f-b446-1213cec6d4e4",
   "metadata": {},
   "source": [
    "11.Write a Python Program to count occurences of an element in a list ?"
   ]
  },
  {
   "cell_type": "code",
   "execution_count": 3,
   "id": "b7131592-3731-4bd1-8b37-4b08016f4a0e",
   "metadata": {},
   "outputs": [
    {
     "name": "stdin",
     "output_type": "stream",
     "text": [
      "Enter the elements of the list:  [1,2,3,1,2,3,1,2,3,4,5,6,4,5,6]\n",
      "Enter the element to find:  6\n"
     ]
    },
    {
     "name": "stdout",
     "output_type": "stream",
     "text": [
      "There are 2 occurences of 6 in [1, 2, 3, 1, 2, 3, 1, 2, 3, 4, 5, 6, 4, 5, 6]\n"
     ]
    }
   ],
   "source": [
    "def checkOccurence():\n",
    "    in_list = eval(input('Enter the elements of the list: '))\n",
    "    in_num = eval(input('Enter the element to find: '))\n",
    "    count = 0\n",
    "    if in_num in in_list:\n",
    "        for ele in in_list:\n",
    "            if ele == in_num:\n",
    "                count = count+1\n",
    "    print(f'There are {count} occurences of {in_num} in {in_list}')\n",
    "    \n",
    "checkOccurence()"
   ]
  }
 ],
 "metadata": {
  "kernelspec": {
   "display_name": "Python 3 (ipykernel)",
   "language": "python",
   "name": "python3"
  },
  "language_info": {
   "codemirror_mode": {
    "name": "ipython",
    "version": 3
   },
   "file_extension": ".py",
   "mimetype": "text/x-python",
   "name": "python",
   "nbconvert_exporter": "python",
   "pygments_lexer": "ipython3",
   "version": "3.10.6"
  }
 },
 "nbformat": 4,
 "nbformat_minor": 5
}
