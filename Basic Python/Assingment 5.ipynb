{
 "cells": [
  {
   "cell_type": "markdown",
   "id": "2b7bd7ae-4621-4a83-bc7d-5841554000d1",
   "metadata": {},
   "source": [
    "Assignment 5 Solutions\n",
    "\n",
    "\n",
    "\n",
    "1.What does an empty dictionary's code look like?\n",
    "Ans: An empty dictionary is often represented by two empty curly brackets\n",
    "d = {} or d = dict()"
   ]
  },
  {
   "cell_type": "markdown",
   "id": "05dffd9a-6a58-403d-965c-c9b1d3bd99f9",
   "metadata": {},
   "source": []
  },
  {
   "cell_type": "markdown",
   "id": "07134411-c5ba-4207-ae8f-6d173207196d",
   "metadata": {},
   "source": []
  },
  {
   "cell_type": "markdown",
   "id": "56bbb2f1-fe0c-44a5-87a5-4cda264db241",
   "metadata": {},
   "source": [
    "2.what is the value of dictionary value with key 'foo' and the value 42 ? \n",
    "Ans: {'foo':42}"
   ]
  },
  {
   "cell_type": "markdown",
   "id": "fcda357a-fab8-43b9-b59d-01b529062a57",
   "metadata": {},
   "source": []
  },
  {
   "cell_type": "markdown",
   "id": "b8ab38c1-7f30-4920-a96f-2f729cf0f495",
   "metadata": {},
   "source": []
  },
  {
   "cell_type": "markdown",
   "id": "a21fba1b-bd83-4a9e-8235-79b22d36d9a8",
   "metadata": {},
   "source": [
    "3.What is the most significant distinction between a dictionary and a list? \n",
    "Ans: Dictionaries are represented by {} where as listed are represented by [] The Items stored in a dictionary are Unordered , while the items in a list are ordered"
   ]
  },
  {
   "cell_type": "markdown",
   "id": "dd175faf-0bcc-4da2-97cf-916e8805ffe7",
   "metadata": {},
   "source": []
  },
  {
   "cell_type": "markdown",
   "id": "13eb2bd7-0797-4620-ad59-4060b066c8ca",
   "metadata": {},
   "source": []
  },
  {
   "cell_type": "markdown",
   "id": "22e91580-f363-4516-a2a7-c94c46ab6102",
   "metadata": {},
   "source": [
    "4.What happens if you try to access spam ['foo'] if spam is {'bar':100} ? \n",
    "Ans: we will get a keyError KeyError: 'foo'"
   ]
  },
  {
   "cell_type": "markdown",
   "id": "a2046a8d-b09e-4c78-8355-3f0d2ecca015",
   "metadata": {},
   "source": []
  },
  {
   "cell_type": "markdown",
   "id": "5afc52b9-0ca8-4fc7-a074-eb3b4099f1fe",
   "metadata": {},
   "source": []
  },
  {
   "cell_type": "markdown",
   "id": "651e9ce6-659f-491e-9ba6-dcf4e5295c1e",
   "metadata": {},
   "source": [
    "5.if a dictionary is stored in spam,what is the difference between the expressions 'cat' in spam and 'cat' in spam.keys()?\n",
    "Ans: There is no difference . The operator checks whether a value exits as a key in the dictionary or not"
   ]
  },
  {
   "cell_type": "markdown",
   "id": "77775f67-c95e-4d24-86d9-4531c2ac5bae",
   "metadata": {},
   "source": []
  },
  {
   "cell_type": "markdown",
   "id": "cb0f933b-12bc-4955-92e6-1a7f9ef8fb42",
   "metadata": {},
   "source": []
  },
  {
   "cell_type": "markdown",
   "id": "5e4b6924-26e8-404c-b730-7929114ba101",
   "metadata": {},
   "source": [
    "6.if a dictionary is stored in spam,what is the difference between the expressions 'cat' in spam and 'cat' in spam.values() ?\n",
    "Ans:'cat' in spam checks whether there is a 'cat' key in the dictionary, while 'cat' in spam.values() checks whether there is a value 'cat' for one of the keys in spam."
   ]
  },
  {
   "cell_type": "markdown",
   "id": "4f57ce8e-239e-4dd9-a5e6-6c774e926101",
   "metadata": {},
   "source": []
  },
  {
   "cell_type": "markdown",
   "id": "105785d6-dbb7-43ba-96a2-9184869c40bc",
   "metadata": {},
   "source": []
  },
  {
   "cell_type": "markdown",
   "id": "41a7d85c-dad1-4ae3-9516-c5eb476ec655",
   "metadata": {},
   "source": [
    "7.what is a shortcut for the following code ? if 'color' not in spam: spam['color'] ='black' \n",
    "Ans: spam.setdefault('color','black')"
   ]
  },
  {
   "cell_type": "markdown",
   "id": "7a26fc88-ca07-495c-a206-69663611e397",
   "metadata": {},
   "source": []
  },
  {
   "cell_type": "markdown",
   "id": "9df1bd48-721d-4878-98de-39630aa6cfd9",
   "metadata": {},
   "source": []
  },
  {
   "cell_type": "markdown",
   "id": "e38baadc-7bb4-4a74-a4ee-cd7b5a907807",
   "metadata": {},
   "source": [
    "8.How do you 'pretty print' dictionary values using which modules and function ? Ans: we can pretty print a dictionary using three functions\n",
    "\n",
    "(1) by using pprint() function of pprint module \n",
    "    Note: pprint() function doesnot prettify nested dictionaries\n",
    "(2) by using dumps() method of json module \n",
    "(3) by using dumps() method of yaml module"
   ]
  },
  {
   "cell_type": "code",
   "execution_count": 1,
   "id": "18696923-4d29-4c31-8fa3-7a7a0a2a5103",
   "metadata": {},
   "outputs": [
    {
     "name": "stdout",
     "output_type": "stream",
     "text": [
      "Printing using print() function\n",
      " [{'Name': 'John', 'Age': '23', 'Residence': {'Country': 'USA', 'City': 'New York'}}, {'Name': 'Jose', 'Age': '44', 'Residence': {'Country': 'Spain', 'City': 'Madrid'}}, {'Name': 'Anne', 'Age': '29', 'Residence': {'Country': 'UK', 'City': 'England'}}, {'Name': 'Lee', 'Age': '35', 'Residence': {'Country': 'Japan', 'City': 'Osaka'}}]\n",
      "----------------------------------------------------------------------\n",
      "Printing using pprint() funciton\n",
      "[{'Age': '23',\n",
      "  'Name': 'John',\n",
      "  'Residence': {'City': 'New York', 'Country': 'USA'}},\n",
      " {'Age': '44',\n",
      "  'Name': 'Jose',\n",
      "  'Residence': {'City': 'Madrid', 'Country': 'Spain'}},\n",
      " {'Age': '29',\n",
      "  'Name': 'Anne',\n",
      "  'Residence': {'City': 'England', 'Country': 'UK'}},\n",
      " {'Age': '35',\n",
      "  'Name': 'Lee',\n",
      "  'Residence': {'City': 'Osaka', 'Country': 'Japan'}}]\n",
      "----------------------------------------------------------------------\n",
      "Printing using dumps() method\n",
      " [\n",
      "    {\n",
      "        \"Name\": \"John\",\n",
      "        \"Age\": \"23\",\n",
      "        \"Residence\": {\n",
      "            \"Country\": \"USA\",\n",
      "            \"City\": \"New York\"\n",
      "        }\n",
      "    },\n",
      "    {\n",
      "        \"Name\": \"Jose\",\n",
      "        \"Age\": \"44\",\n",
      "        \"Residence\": {\n",
      "            \"Country\": \"Spain\",\n",
      "            \"City\": \"Madrid\"\n",
      "        }\n",
      "    },\n",
      "    {\n",
      "        \"Name\": \"Anne\",\n",
      "        \"Age\": \"29\",\n",
      "        \"Residence\": {\n",
      "            \"Country\": \"UK\",\n",
      "            \"City\": \"England\"\n",
      "        }\n",
      "    },\n",
      "    {\n",
      "        \"Name\": \"Lee\",\n",
      "        \"Age\": \"35\",\n",
      "        \"Residence\": {\n",
      "            \"Country\": \"Japan\",\n",
      "            \"City\": \"Osaka\"\n",
      "        }\n",
      "    }\n",
      "]\n",
      "----------------------------------------------------------------------\n",
      "Printing using dump() method\n",
      " - Age: '23'\n",
      "  Name: John\n",
      "  Residence:\n",
      "    City: New York\n",
      "    Country: USA\n",
      "- Age: '44'\n",
      "  Name: Jose\n",
      "  Residence:\n",
      "    City: Madrid\n",
      "    Country: Spain\n",
      "- Age: '29'\n",
      "  Name: Anne\n",
      "  Residence:\n",
      "    City: England\n",
      "    Country: UK\n",
      "- Age: '35'\n",
      "  Name: Lee\n",
      "  Residence:\n",
      "    City: Osaka\n",
      "    Country: Japan\n",
      "\n"
     ]
    }
   ],
   "source": [
    "ndict = [\n",
    "  {'Name': 'John', 'Age': '23', 'Residence': {'Country':'USA', 'City': 'New York'}},\n",
    "  {'Name': 'Jose', 'Age': '44', 'Residence': {'Country':'Spain', 'City': 'Madrid'}},\n",
    "  {'Name': 'Anne', 'Age': '29', 'Residence': {'Country':'UK', 'City': 'England'}},\n",
    "  {'Name': 'Lee', 'Age': '35', 'Residence': {'Country':'Japan', 'City': 'Osaka'}}\n",
    "]\n",
    "\n",
    "print('Printing using print() function\\n',ndict)\n",
    "print('-'*70)\n",
    "import pprint\n",
    "print('Printing using pprint() funciton')\n",
    "pprint.pprint(ndict)\n",
    "print('-'*70)\n",
    "import json\n",
    "dump = json.dumps(ndict, indent=4)\n",
    "print('Printing using dumps() method\\n', dump)\n",
    "print('-'*70)\n",
    "import yaml\n",
    "dump = yaml.dump(ndict)\n",
    "print('Printing using dump() method\\n', dump)"
   ]
  },
  {
   "cell_type": "code",
   "execution_count": null,
   "id": "1591a942-9a0d-40e6-9a9a-25925146b4f3",
   "metadata": {},
   "outputs": [],
   "source": []
  }
 ],
 "metadata": {
  "kernelspec": {
   "display_name": "Python 3 (ipykernel)",
   "language": "python",
   "name": "python3"
  },
  "language_info": {
   "codemirror_mode": {
    "name": "ipython",
    "version": 3
   },
   "file_extension": ".py",
   "mimetype": "text/x-python",
   "name": "python",
   "nbconvert_exporter": "python",
   "pygments_lexer": "ipython3",
   "version": "3.10.6"
  }
 },
 "nbformat": 4,
 "nbformat_minor": 5
}
