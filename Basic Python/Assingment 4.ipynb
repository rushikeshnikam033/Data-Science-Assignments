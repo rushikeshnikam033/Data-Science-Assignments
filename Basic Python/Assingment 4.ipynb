{
 "cells": [
  {
   "cell_type": "markdown",
   "id": "19cf02e6-5640-4ddf-a0f7-450f38dbc987",
   "metadata": {},
   "source": [
    "Assignment 4 Solutions\n",
    "\n",
    "\n",
    "\n",
    "1.What exactly is [ ]?\n",
    "Ans: The empty list represented by [] is a list that contains no items. This is similar to '' which represents an empty string"
   ]
  },
  {
   "cell_type": "markdown",
   "id": "ecc720f0-7e97-4e82-84c3-154e496a16e5",
   "metadata": {},
   "source": []
  },
  {
   "cell_type": "markdown",
   "id": "6b45d47f-db76-42a1-9d81-8df94370cb14",
   "metadata": {},
   "source": []
  },
  {
   "cell_type": "markdown",
   "id": "78546363-e724-45dd-aaf3-c83bae039b3a",
   "metadata": {},
   "source": [
    "2.In a list of values stored in a variable called spam, how would you assign the value 'hello' as the third value? (Assume [2, 4, 6, 8, 10] are in spam.)\n",
    "Ans: spam[2]='hello' (Note: Lists follows zero based indexing)"
   ]
  },
  {
   "cell_type": "code",
   "execution_count": 1,
   "id": "f9e36aa6-2c7a-4c53-9885-1979eccfd7b0",
   "metadata": {},
   "outputs": [
    {
     "name": "stdout",
     "output_type": "stream",
     "text": [
      "[2, 4, 6, 8, 10]\n",
      "[2, 4, 'hello', 8, 10]\n"
     ]
    }
   ],
   "source": [
    "# Example\n",
    "\n",
    "spam=[2,4,6,8,10]\n",
    "print(spam)\n",
    "spam[2]='hello'     #List uses zero based indexing\n",
    "print(spam)"
   ]
  },
  {
   "cell_type": "markdown",
   "id": "3c90d9e9-c95d-4cca-9836-f5f16eb9a1c6",
   "metadata": {},
   "source": []
  },
  {
   "cell_type": "markdown",
   "id": "7a7cab23-5382-4097-b416-5335c0af526c",
   "metadata": {},
   "source": []
  },
  {
   "cell_type": "markdown",
   "id": "47325d6d-c0c4-4c33-8f03-7de04a429f8b",
   "metadata": {},
   "source": [
    "Let's pretend the spam includes the list ['a','b','c',d'] for the next three queries.\n",
    "\n",
    "3. What is the value of spam [int(int('3'*2)//11)] ?\n",
    "Ans: 'd' (Note that '3' * 2 is the string '33', which is passed to int() before being divided by 11. This eventually evaluates to 3, spam[3] is equal to d.)"
   ]
  },
  {
   "cell_type": "code",
   "execution_count": 2,
   "id": "df6ebcc7-aa82-4461-8891-8029c261e88d",
   "metadata": {},
   "outputs": [
    {
     "name": "stdout",
     "output_type": "stream",
     "text": [
      "spam[int(int('3'*2)//11)] -> d\n"
     ]
    }
   ],
   "source": [
    "spam=['a','b','c','d']\n",
    "print(\"spam[int(int('3'*2)//11)] ->\",spam[int(int('3'*2)//11)])"
   ]
  },
  {
   "cell_type": "markdown",
   "id": "1f0d6320-f62e-4459-9444-d275fff4d8c1",
   "metadata": {},
   "source": []
  },
  {
   "cell_type": "markdown",
   "id": "1099a455-83fd-4112-b599-f22cb376c28c",
   "metadata": {},
   "source": [
    "4. What is the value of spam[-1]?\n",
    "Ans: 'd' (Lists support Negative indexing, Hence spam[-1] returs 'd')"
   ]
  },
  {
   "cell_type": "code",
   "execution_count": 3,
   "id": "5deb907e-f087-4f33-89c9-2daa2c6cdc46",
   "metadata": {},
   "outputs": [
    {
     "name": "stdout",
     "output_type": "stream",
     "text": [
      "spam[-1] ->  d\n"
     ]
    }
   ],
   "source": [
    "spam=['a','b','c','d']\n",
    "print('spam[-1] -> ',spam[-1])"
   ]
  },
  {
   "cell_type": "markdown",
   "id": "aed7b6d0-25cc-4ed9-a471-ff29ba9c87d3",
   "metadata": {},
   "source": []
  },
  {
   "cell_type": "markdown",
   "id": "72b8257e-77c5-4239-ada6-82708d96c1b0",
   "metadata": {},
   "source": [
    "5. What is the value of spam[:2]?\n",
    "Ans: spam[:2] returns all elements in the list spam from 0 to 2 excluding 2"
   ]
  },
  {
   "cell_type": "code",
   "execution_count": 4,
   "id": "4b7fe89d-b6db-421f-958a-1c385715aee1",
   "metadata": {},
   "outputs": [
    {
     "name": "stdout",
     "output_type": "stream",
     "text": [
      "['a', 'b', 'c', 'd']\n",
      "['a', 'b']\n"
     ]
    }
   ],
   "source": [
    "print(spam)\n",
    "print(spam[:2])"
   ]
  },
  {
   "cell_type": "markdown",
   "id": "dff977fa-e9cc-49b0-b3e7-83d100ba5355",
   "metadata": {},
   "source": []
  },
  {
   "cell_type": "markdown",
   "id": "63dd3b39-7d23-42f3-a39f-5bc02c7f49dc",
   "metadata": {},
   "source": []
  },
  {
   "cell_type": "markdown",
   "id": "fbf53c6e-9c18-4de5-a516-98dd64c700fa",
   "metadata": {},
   "source": [
    "Let's pretend bacon has the list [3.14,'cat',11,'cat',True] for the next three question\n",
    "\n",
    "6. What is the value of bacon.index('cat')?\n",
    "Ans: The value of bacon.index('cat') is 1 (Note: index method returns the index of first occuerence of 'cat')"
   ]
  },
  {
   "cell_type": "code",
   "execution_count": 5,
   "id": "b3516ef2-6e7d-4fe7-8b0a-317c751828d9",
   "metadata": {},
   "outputs": [
    {
     "name": "stdout",
     "output_type": "stream",
     "text": [
      "bacon.index('cat') -> 1\n"
     ]
    }
   ],
   "source": [
    "bacon=[3.14,'cat',11,'cat',True]\n",
    "print(\"bacon.index('cat') ->\",bacon.index('cat'))"
   ]
  },
  {
   "cell_type": "markdown",
   "id": "695c8f4f-660a-4bf6-8b8b-2836c6c916eb",
   "metadata": {},
   "source": []
  },
  {
   "cell_type": "markdown",
   "id": "ffc7b800-fe87-4f0a-bc3d-18391a1da2d4",
   "metadata": {},
   "source": [
    "7. How does bacon.append(99) change the look of the list value in bacon?\n",
    "Ans: The append method adds new elements to the end of the list"
   ]
  },
  {
   "cell_type": "code",
   "execution_count": 6,
   "id": "a3b1de96-8b7f-4ab9-afad-324c5842a1db",
   "metadata": {},
   "outputs": [
    {
     "name": "stdout",
     "output_type": "stream",
     "text": [
      "[3.14, 'cat', 11, 'cat', True]\n",
      "[3.14, 'cat', 11, 'cat', True, 99]\n"
     ]
    }
   ],
   "source": [
    "# Example\n",
    "print(bacon)\n",
    "bacon.append(99)    # appends 99 to the end of the list\n",
    "print(bacon)"
   ]
  },
  {
   "cell_type": "markdown",
   "id": "5e532eb9-beef-4643-b89f-e5f0dd138c3f",
   "metadata": {},
   "source": []
  },
  {
   "cell_type": "markdown",
   "id": "e30b588d-45ec-475e-99f9-f38bc4cc52cc",
   "metadata": {},
   "source": [
    "8. How does bacon.remove('cat') change the look of the list in bacon?\n",
    "Ans: The remove method removes the first occurence of the element in the list"
   ]
  },
  {
   "cell_type": "code",
   "execution_count": 7,
   "id": "42a44d5c-42ac-412b-b05a-ab5bcdfcf9c2",
   "metadata": {},
   "outputs": [
    {
     "name": "stdout",
     "output_type": "stream",
     "text": [
      "[3.14, 'cat', 11, 'cat', True, 99]\n",
      "[3.14, 11, 'cat', True, 99]\n"
     ]
    }
   ],
   "source": [
    "print(bacon)\n",
    "bacon.remove('cat')\n",
    "print(bacon)"
   ]
  },
  {
   "cell_type": "markdown",
   "id": "9c934e0a-f1c9-4a38-93fd-60f46dbcf461",
   "metadata": {},
   "source": []
  },
  {
   "cell_type": "markdown",
   "id": "1d6650dd-dfde-4e43-be8f-663e65a6b546",
   "metadata": {},
   "source": []
  },
  {
   "cell_type": "markdown",
   "id": "48301333-2075-46fe-8d84-7cef023e6e97",
   "metadata": {},
   "source": [
    "9.what are the list concatenation and list replication operations?\n",
    "Ans: The operator for list concatenation is +, while the operator for replication is *. (This is the same as for strings.)"
   ]
  },
  {
   "cell_type": "code",
   "execution_count": 8,
   "id": "1251babf-3e70-4775-bdd6-0b9b7fa1fa35",
   "metadata": {},
   "outputs": [
    {
     "name": "stdout",
     "output_type": "stream",
     "text": [
      "['ML', 'DL', 'AI', 'CV', 'NLP', 'RNN', 'CNN', 'SVN']\n",
      "['RNN', 'CNN', 'SVN', 'RNN', 'CNN', 'SVN']\n"
     ]
    }
   ],
   "source": [
    "# Example\n",
    "list_1 = ['ML','DL','AI','CV','NLP']\n",
    "list_2 = ['RNN','CNN','SVN']\n",
    "print(list_1 + list_2)   # List Concatenation\n",
    "print(list_2*2)         # List Replication"
   ]
  },
  {
   "cell_type": "markdown",
   "id": "ee2b15cb-c3b1-43a5-8572-930d99024550",
   "metadata": {},
   "source": []
  },
  {
   "cell_type": "markdown",
   "id": "f5f3eb64-609a-48ec-a80a-f88579e44426",
   "metadata": {},
   "source": []
  },
  {
   "cell_type": "markdown",
   "id": "760be24b-4fd1-4a55-acb8-aa3ff9c14aa4",
   "metadata": {},
   "source": [
    "10.what is the difference between the list method append() and insert()?\n",
    "Ans: While append() will add values only to the end of a list, insert() can add them anywhere in the list."
   ]
  },
  {
   "cell_type": "code",
   "execution_count": 9,
   "id": "e75ec8ae-fc7c-47f6-8a2c-a62256f4d9c8",
   "metadata": {},
   "outputs": [
    {
     "name": "stdout",
     "output_type": "stream",
     "text": [
      "[1, 2, 3, 4, 5, 6]\n",
      "[1, 2, 'Demo', 3, 4, 5, 6]\n"
     ]
    }
   ],
   "source": [
    "#Examples\n",
    "list = [1,2,3,4,5]\n",
    "list.append(6)\n",
    "print(list)\n",
    "list.insert(2,'Demo')\n",
    "print(list)"
   ]
  },
  {
   "cell_type": "markdown",
   "id": "cd4ef58c-d3c6-463b-b280-716a53363835",
   "metadata": {},
   "source": []
  },
  {
   "cell_type": "markdown",
   "id": "5fb6b2fc-df44-4281-b365-07a136e4090f",
   "metadata": {},
   "source": []
  },
  {
   "cell_type": "markdown",
   "id": "f28c6220-ffec-4826-ab19-ea931af4582f",
   "metadata": {},
   "source": [
    "11. What are the two methods for removing items from a list?\n",
    "Ans: The del statement and the remove() method are two ways to remove values from a list\n",
    "\n",
    "\n",
    "\n",
    "12. Describe how list values and string values are identical.\n",
    "Ans: Both lists and strings can be passed to len() function, have indexes and slices, be used in for loops, be concatenated or replicated, and be used with the in and not in operators.\n",
    "\n",
    "\n",
    "\n",
    "13. What's the difference between tuples and lists?\n",
    "Ans: Lists are Mutable, Indexable and Slicable. they can have values added, removed, or changed. Tuples are Immutable but Indexable and Slicable. the tuple values cannot be changed at all. Also, tuples are represented using parentheses, (), while lists use the square brackets, [].\n",
    "\n",
    "\n",
    "\n",
    "14. How do you type a tuple value that only contains the integer 42?\n",
    "Ans:(42,) (The trailing comma is mandatory. otherwise its considered as a int by python Interpreter)"
   ]
  },
  {
   "cell_type": "code",
   "execution_count": 10,
   "id": "4fa4826e-6f76-46b0-893e-379ef5743070",
   "metadata": {},
   "outputs": [
    {
     "name": "stdout",
     "output_type": "stream",
     "text": [
      "<class 'int'>\n",
      "<class 'tuple'>\n"
     ]
    }
   ],
   "source": [
    "tup1=(42)\n",
    "tup2=(42,)\n",
    "print(type(tup1))\n",
    "print(type(tup2))"
   ]
  },
  {
   "cell_type": "markdown",
   "id": "2ca41883-39b6-4088-b698-e1eb429e0cc9",
   "metadata": {},
   "source": []
  },
  {
   "cell_type": "markdown",
   "id": "d8946b18-6680-4e74-a041-57af2e58dd4e",
   "metadata": {},
   "source": []
  },
  {
   "cell_type": "markdown",
   "id": "64263db1-7353-4733-8cd8-3b2d599748dd",
   "metadata": {},
   "source": [
    "15. How do you get a list value's tuple form? How do you get a tuple value's list form?\n",
    "Ans: The tuple() and list() functions, respectively are used to convert a list to tuple and vice versa\n",
    "\n",
    "\n",
    "\n",
    "16. Variables that \"contain\" list values are not necessarily lists themselves. Instead, what do they contain?\n",
    "Ans: They contain references to list values.\n",
    "\n",
    "\n",
    "\n",
    "17. How do you distinguish between copy.copy() and copy.deepcopy()?\n",
    "Ans: The copy.copy() function will do a shallow copy of a list, while the copy.deepcopy() function will do a deep copy of a list. That is, only copy.deepcopy() will duplicate any lists inside the list.\n",
    "\n"
   ]
  }
 ],
 "metadata": {
  "kernelspec": {
   "display_name": "Python 3 (ipykernel)",
   "language": "python",
   "name": "python3"
  },
  "language_info": {
   "codemirror_mode": {
    "name": "ipython",
    "version": 3
   },
   "file_extension": ".py",
   "mimetype": "text/x-python",
   "name": "python",
   "nbconvert_exporter": "python",
   "pygments_lexer": "ipython3",
   "version": "3.10.6"
  }
 },
 "nbformat": 4,
 "nbformat_minor": 5
}
