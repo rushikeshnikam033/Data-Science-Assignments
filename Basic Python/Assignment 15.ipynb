{
 "cells": [
  {
   "cell_type": "markdown",
   "id": "c2de6c0d-85b9-4d9b-9b4f-de3e864b2844",
   "metadata": {},
   "source": [
    "Assignment 15 Solutions"
   ]
  },
  {
   "cell_type": "markdown",
   "id": "7d26ecd5-bf3a-49de-b845-aeed44c7b4cb",
   "metadata": {},
   "source": []
  },
  {
   "cell_type": "markdown",
   "id": "23ecd7ae-4c52-4306-b8e3-d71215bb8f3d",
   "metadata": {},
   "source": [
    "1.How many seconds are in an hour? Use the interactive interpreter as a calculator and multiply the number of seconds in a minute (60) by the number of minutes in an hour (also 60)."
   ]
  },
  {
   "cell_type": "code",
   "execution_count": 1,
   "id": "3d7401ab-b2e9-4693-94a9-bfcc4e4cd976",
   "metadata": {},
   "outputs": [
    {
     "name": "stdout",
     "output_type": "stream",
     "text": [
      "3600\n"
     ]
    }
   ],
   "source": [
    "print(60*60)"
   ]
  },
  {
   "cell_type": "code",
   "execution_count": null,
   "id": "32ee1b7b-abd9-4531-87cb-ea7788543a27",
   "metadata": {},
   "outputs": [],
   "source": []
  },
  {
   "cell_type": "markdown",
   "id": "09437e5a-0626-4f56-b70a-00756f8bcd84",
   "metadata": {},
   "source": [
    "2. Assign the result from the previous task (seconds in an hour) to a variable called seconds_per_hour."
   ]
  },
  {
   "cell_type": "code",
   "execution_count": 2,
   "id": "3f25a1f7-aa8c-4abe-937f-db976894c3ba",
   "metadata": {},
   "outputs": [
    {
     "name": "stdout",
     "output_type": "stream",
     "text": [
      "3600\n"
     ]
    }
   ],
   "source": [
    "seconds_per_hour = 60*60\n",
    "print(seconds_per_hour)"
   ]
  },
  {
   "cell_type": "markdown",
   "id": "c769c612-e4b4-4c98-b6f5-8ea8946c444d",
   "metadata": {},
   "source": []
  },
  {
   "cell_type": "markdown",
   "id": "399e77c5-4e67-4359-a019-b72caf6f9446",
   "metadata": {},
   "source": [
    "3. How many seconds do you think there are in a day? Make use of the variables seconds per hour and minutes per hour."
   ]
  },
  {
   "cell_type": "code",
   "execution_count": 3,
   "id": "9b51621e-51be-423d-be40-399a0d78b1d8",
   "metadata": {},
   "outputs": [
    {
     "name": "stdout",
     "output_type": "stream",
     "text": [
      "86400\n"
     ]
    }
   ],
   "source": [
    "minutes_per_hour = 60\n",
    "print(seconds_per_hour*24)"
   ]
  },
  {
   "cell_type": "markdown",
   "id": "65fe9bf1-43b8-40f4-b4bd-164b3bd590a1",
   "metadata": {},
   "source": []
  },
  {
   "cell_type": "markdown",
   "id": "e5053e14-b7db-4e07-8966-08869f28248e",
   "metadata": {},
   "source": [
    "4. Calculate seconds per day again, but this time save the result in a variable called seconds_per_day"
   ]
  },
  {
   "cell_type": "code",
   "execution_count": 4,
   "id": "0d02d3ea-c2a6-4b72-a6e1-1cf251ec167f",
   "metadata": {},
   "outputs": [
    {
     "name": "stdout",
     "output_type": "stream",
     "text": [
      "86400\n"
     ]
    }
   ],
   "source": [
    "seconds_per_day = 24*60*60\n",
    "print(seconds_per_day)"
   ]
  },
  {
   "cell_type": "markdown",
   "id": "058cc101-a05e-43f8-84ed-006189730b3b",
   "metadata": {},
   "source": []
  },
  {
   "cell_type": "markdown",
   "id": "98078c2e-98fe-4473-a8cd-f9b38c16dbc1",
   "metadata": {},
   "source": [
    "5. Divide seconds_per_day by seconds_per_hour. Use floating-point (/) division."
   ]
  },
  {
   "cell_type": "code",
   "execution_count": 5,
   "id": "e11da4c2-1e52-4888-b91c-1c3fbe5da646",
   "metadata": {},
   "outputs": [
    {
     "name": "stdout",
     "output_type": "stream",
     "text": [
      "24.0\n"
     ]
    }
   ],
   "source": [
    "print(seconds_per_day/seconds_per_hour)"
   ]
  },
  {
   "cell_type": "markdown",
   "id": "634b8d32-246d-45fe-83ad-9c9a6a6d4200",
   "metadata": {},
   "source": []
  },
  {
   "cell_type": "markdown",
   "id": "e040cae3-03cd-43b4-9800-032b6b85ac56",
   "metadata": {},
   "source": [
    "6. Divide seconds_per_day by seconds_per_hour, using integer (//) division. Did this number agree with the floating-point value from the previous question, aside from the final .0?"
   ]
  },
  {
   "cell_type": "code",
   "execution_count": 6,
   "id": "34452934-9aa4-4a86-9cac-aa52bd0c3f9e",
   "metadata": {},
   "outputs": [
    {
     "name": "stdout",
     "output_type": "stream",
     "text": [
      "24 -> yes this values agree with the floating point value from the previous question\n"
     ]
    }
   ],
   "source": [
    "print(seconds_per_day//seconds_per_hour, end='')\n",
    "print(' -> yes this values agree with the floating point value from the previous question')"
   ]
  },
  {
   "cell_type": "markdown",
   "id": "732dd89a-0496-4a3d-82cb-23308879d2ab",
   "metadata": {},
   "source": []
  },
  {
   "cell_type": "markdown",
   "id": "4e8d3a01-de75-4dba-8a50-34edefcc8583",
   "metadata": {},
   "source": [
    "7. Write a generator, genPrimes, that returns the sequence of prime numbers on successive calls to its next() method: 2, 3, 5, 7, 11, ..."
   ]
  },
  {
   "cell_type": "code",
   "execution_count": 7,
   "id": "bd675a42-2bd8-4267-ae70-7ffad68d90b5",
   "metadata": {},
   "outputs": [
    {
     "name": "stdout",
     "output_type": "stream",
     "text": [
      "2\n",
      "3\n",
      "5\n",
      "7\n",
      "11\n"
     ]
    }
   ],
   "source": [
    "def genPrimes():\n",
    "    n = 0\n",
    "    while True:\n",
    "        if n == 2 or n == 3 :\n",
    "            yield n\n",
    "        elif ((n-1)%6 == 0 or (n+1)%6 == 0) and n !=1:\n",
    "            yield n\n",
    "        n = n+1\n",
    "        \n",
    "output = genPrimes()\n",
    "for ele in range(5):\n",
    "    print(next(output))"
   ]
  }
 ],
 "metadata": {
  "kernelspec": {
   "display_name": "Python 3 (ipykernel)",
   "language": "python",
   "name": "python3"
  },
  "language_info": {
   "codemirror_mode": {
    "name": "ipython",
    "version": 3
   },
   "file_extension": ".py",
   "mimetype": "text/x-python",
   "name": "python",
   "nbconvert_exporter": "python",
   "pygments_lexer": "ipython3",
   "version": "3.10.6"
  }
 },
 "nbformat": 4,
 "nbformat_minor": 5
}
