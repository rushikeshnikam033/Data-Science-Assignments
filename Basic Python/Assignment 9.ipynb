{
 "cells": [
  {
   "cell_type": "markdown",
   "id": "96df1f5f-86da-49d5-9fac-3d38058f4f9f",
   "metadata": {},
   "source": [
    "Assignment 9 Solutions\n",
    "\n",
    "\n",
    "\n",
    "1.To what does a relative path refer ?\n",
    "Ans: The relative path is the path to some file with respect to your current working directory (PWD).\n",
    "For example: if Absolute path to a file called stuff.txt is: C:/users/admin/docs/stuff.txt If my PWD is C:/users/admin/ , then the relative path to stuff.txt would be: docs/stuff.txt\n",
    "Note: PWD + relative path = absolute path"
   ]
  },
  {
   "cell_type": "markdown",
   "id": "7cd32dc5-7511-4c2d-97df-4bf66522ec6d",
   "metadata": {},
   "source": []
  },
  {
   "cell_type": "markdown",
   "id": "12633344-8381-4522-ae7d-9265099cabf1",
   "metadata": {},
   "source": []
  },
  {
   "cell_type": "markdown",
   "id": "6dd0ca8a-394e-4b09-86ff-998f54b256b1",
   "metadata": {},
   "source": [
    "2.Where does an absolute path start with your Operating System ?\n",
    "Ans: In Linux based systems the absolute path starts with /. Where as in Windows based systems absolute path starts with C:"
   ]
  },
  {
   "cell_type": "markdown",
   "id": "5f0516de-61b4-417e-a8a4-618c7dda89b1",
   "metadata": {},
   "source": []
  },
  {
   "cell_type": "markdown",
   "id": "8a45ea6b-eae9-47ff-8d9f-e79da13387f7",
   "metadata": {},
   "source": []
  },
  {
   "cell_type": "markdown",
   "id": "45944342-0559-4d02-a580-81135e5a16aa",
   "metadata": {},
   "source": [
    "3.What does the functions os.getcwd() and os.chdir() do ?\n",
    "Ans: os.getcwd() method tells us the location of current working directory (CWD). Whereas os.chdir() method in Python used to change the current working directory to specified path. These functions are similar to linux commands pwd and cd"
   ]
  },
  {
   "cell_type": "code",
   "execution_count": null,
   "id": "05fa9fb4-8525-4275-8cbc-cb15a3326bab",
   "metadata": {},
   "outputs": [],
   "source": [
    "import os\n",
    "print(os.getcwd()) # Prints the current Working Directory\n",
    "path = r'C:\\Users\\rushi.nikam\\Documents'\n",
    "os.chdir(path)\n",
    "print(os.getcwd())"
   ]
  },
  {
   "cell_type": "markdown",
   "id": "e5bbf540-473c-4658-9562-91d11a312505",
   "metadata": {},
   "source": [
    "C:\\Users\\rushi.nikam\\Documents\\iNeuron-Assignments\\Python Basic Assignment\n",
    "C:\\Users\\rushi.nikam\\Documents"
   ]
  },
  {
   "cell_type": "markdown",
   "id": "2b4d2230-1112-470b-8f7c-dc3c07f41470",
   "metadata": {},
   "source": []
  },
  {
   "cell_type": "markdown",
   "id": "6cda5673-a3ac-40bb-80d1-d2f07db05384",
   "metadata": {},
   "source": []
  },
  {
   "cell_type": "markdown",
   "id": "df2045ae-dae6-4bea-8a71-c43e68793d3a",
   "metadata": {},
   "source": [
    "4.What are . and .. folders ?\n",
    "Ans: . Represents the Current Directory Whereas .. Represents the Parent Directory of the Current Directory\n",
    "For Example: if the below path is my absolute path:\n",
    "C:\\\\Users\\\\rushi\\\\Documents\\\\iNeuron-Assignments\\\\Python Basic Assignment\n",
    "Then . represents the path C:\\\\Users\\\\rushi\\\\Documents\\\\iNeuron-Assignments\\\\Python Basic Assignment\n",
    "Where as .. represents the path C:\\\\Users\\\\rushi\\\\Documents\\\\iNeuron-Assignments"
   ]
  },
  {
   "cell_type": "markdown",
   "id": "9e348b59-703f-4a64-b8a6-5da26c0557f0",
   "metadata": {},
   "source": []
  },
  {
   "cell_type": "markdown",
   "id": "e079e442-688f-41de-a84e-295e3231357d",
   "metadata": {},
   "source": []
  },
  {
   "cell_type": "markdown",
   "id": "e1701f95-fcb3-4886-9b25-4429b0f864e2",
   "metadata": {},
   "source": [
    "5.In C:\\bacon\\eggs\\spam.txt which part is the dir name and which part is the base name ?\n",
    "Ans: For C:\\bacon\\eggs\\spam.txt\n",
    "The dir name is C:\\\\bacon\\\\eggs\n",
    "The Base name is spam.txt"
   ]
  },
  {
   "cell_type": "code",
   "execution_count": null,
   "id": "6633ded2-ed4b-4dd6-892b-73a7235a5f28",
   "metadata": {},
   "outputs": [],
   "source": [
    "import os\n",
    "path = r'C:\\bacon\\eggs\\spam.txt'\n",
    "print(os.path.dirname(path))\n",
    "print(os.path.basename(path)"
   ]
  },
  {
   "cell_type": "markdown",
   "id": "2055a80c-4e7b-437b-804d-64040fe7a2f6",
   "metadata": {},
   "source": [
    "C:\\bacon\\eggs\n",
    "spam.txt"
   ]
  },
  {
   "cell_type": "markdown",
   "id": "dcf84af7-7270-41f2-abae-a53c49d641ac",
   "metadata": {},
   "source": []
  },
  {
   "cell_type": "markdown",
   "id": "332f5ecd-21ce-41c2-b612-6b738b26b44c",
   "metadata": {},
   "source": []
  },
  {
   "cell_type": "markdown",
   "id": "a8617281-5cf2-4dc1-8927-5287dae29292",
   "metadata": {},
   "source": [
    "6.What are the three mode arguments that can be passed to the open() function ?\n",
    "Ans: A file can be Accessed in python using open() function. open function takes two arguments filename and mode of operation (optional). if mode is not provided the default mode of opening is read mode\n",
    "So, the syntax being: open(filename, mode)\n",
    "\n",
    "‘r’ – Read Mode: This is the default mode for open(). The file is opened and a pointer is positioned at the beginning of the file’s content.\n",
    "‘w’ – Write Mode: Using this mode will overwrite any existing content in a file. If the given file does not exist, a new one will be created.\n",
    "‘r+’ – Read/Write Mode: Use this mode if you need to simultaneously read and write to a file.\n",
    "‘a’ – Append Mode: With this mode the user can append the data without overwriting any already existing data in the file.\n",
    "‘a+’ – Append and Read Mode: In this mode you can read and append the data without overwriting the original file.\n",
    "‘x’ – Exclusive Creating Mode: This mode is for the sole purpose of creating new files. Use this mode if you know the file to be written doesn’t exist beforehand."
   ]
  },
  {
   "cell_type": "markdown",
   "id": "78b26556-1986-4a08-96b2-fca196690eee",
   "metadata": {},
   "source": []
  },
  {
   "cell_type": "markdown",
   "id": "c2ecb674-5187-4ffd-a8fb-b2341ded3d7e",
   "metadata": {},
   "source": []
  },
  {
   "cell_type": "markdown",
   "id": "230d3152-5030-4fc4-934a-558fdd592701",
   "metadata": {},
   "source": [
    "7.What happens if an existing file is opened in write mode ?\n",
    "Ans: Using this mode will overwrite any existing content in a file. If the given file does not exist, a new one will be created."
   ]
  },
  {
   "cell_type": "markdown",
   "id": "c00daee3-3edd-4e74-9bec-680ac3384533",
   "metadata": {},
   "source": []
  },
  {
   "cell_type": "markdown",
   "id": "442cbc4c-58e6-4c81-9c2c-7cfbde7dd652",
   "metadata": {},
   "source": []
  },
  {
   "cell_type": "markdown",
   "id": "bbfd8955-ba89-434c-90dc-5992ece7c88e",
   "metadata": {},
   "source": [
    "8.How do you tell the difference between read() and readlines() ?\n",
    "Ans: The main difference is that read() will read the whole file at once and then print out the first characters that take up as many bytes as you specify in the parenthesis\n",
    "\n",
    "(1)Whereas the readline() that will read and print out only the first characters that take up as many bytes as you        specify in the parenthesis. You may want to use readline() when you're reading files that are too big for your RAM.\n",
    "(2)The read() would treat each character in the file separately, meaning that the iteration would happen for every        character.\n",
    "(3)The readline() function, on the other hand, only reads a single line of the file. This means that if the first line    of the file were three lines long, the readline() function would only parse (or iterate/operate) on the first line      of the file."
   ]
  },
  {
   "cell_type": "markdown",
   "id": "cd6e14e6-87ad-4235-9182-4f1b01b560f1",
   "metadata": {},
   "source": []
  },
  {
   "cell_type": "markdown",
   "id": "03e280d3-7b69-4383-9a71-065d33388334",
   "metadata": {},
   "source": []
  },
  {
   "cell_type": "markdown",
   "id": "37fe059e-bea8-43e2-b49f-a9d79592669f",
   "metadata": {},
   "source": [
    "9.What data structure does a shelf value resemble ?\n",
    "Ans: it contains key and values it represents dictionary."
   ]
  }
 ],
 "metadata": {
  "kernelspec": {
   "display_name": "Python 3 (ipykernel)",
   "language": "python",
   "name": "python3"
  },
  "language_info": {
   "codemirror_mode": {
    "name": "ipython",
    "version": 3
   },
   "file_extension": ".py",
   "mimetype": "text/x-python",
   "name": "python",
   "nbconvert_exporter": "python",
   "pygments_lexer": "ipython3",
   "version": "3.10.6"
  }
 },
 "nbformat": 4,
 "nbformat_minor": 5
}
