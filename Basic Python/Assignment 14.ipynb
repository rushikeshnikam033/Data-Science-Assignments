{
 "cells": [
  {
   "cell_type": "markdown",
   "id": "cd3e4067-e2ba-472d-b36c-47f677fbc261",
   "metadata": {},
   "source": [
    "Assignment 14 Solutions"
   ]
  },
  {
   "cell_type": "markdown",
   "id": "15cf4648-6451-470b-bdbe-258b42401ee5",
   "metadata": {},
   "source": []
  },
  {
   "cell_type": "markdown",
   "id": "23a7706f-d1d3-4b40-85fc-e9a9fbe21044",
   "metadata": {},
   "source": [
    "1. What does RGBA stand for?\n",
    "Ans: RGBA is a four-channel format containing data for Red, Green, Blue, and an Alpha value. Where Alpha Represents the Opacity"
   ]
  },
  {
   "cell_type": "markdown",
   "id": "f36c5f1b-8015-4d25-97cf-6a9c1f29062b",
   "metadata": {},
   "source": []
  },
  {
   "cell_type": "markdown",
   "id": "e2f98b29-9c31-45d0-bde0-a2eb82603566",
   "metadata": {},
   "source": [
    "2. From the Pillow module, how do you get the RGBA value of any images?\n",
    "Ans: ImageColor.getcolor() gives rgba value of any image"
   ]
  },
  {
   "cell_type": "markdown",
   "id": "854394b7-684e-497b-8710-c7dc37e82d73",
   "metadata": {},
   "source": []
  },
  {
   "cell_type": "markdown",
   "id": "3742ecd8-6ebc-4523-bef4-e5f7b7fecebf",
   "metadata": {},
   "source": [
    "3. What is a box tuple, and how does it work?\n",
    "Ans: A box tuple is a tuple value of four integers: the left-edge x-coordinate, the top-edge y-coordinate,the width, and the height, respectively."
   ]
  },
  {
   "cell_type": "markdown",
   "id": "5f9b3669-53ee-40be-8ca0-fb8023f85510",
   "metadata": {},
   "source": []
  },
  {
   "cell_type": "markdown",
   "id": "325d2afa-aa7c-44dd-9a46-a287dff4e6db",
   "metadata": {},
   "source": [
    "4. Use your image and load in notebook then, How can you find out the width and height of an Image object?"
   ]
  },
  {
   "cell_type": "code",
   "execution_count": null,
   "id": "4df60a6d-e40c-4d45-b922-4a14431dfdd4",
   "metadata": {},
   "outputs": [],
   "source": [
    "#Example Program\n",
    "from PIL import Image\n",
    "pic = Image.open('Pic.jpg')\n",
    "print(f'Width, Height -> {pic.size}') # Approach 1\n",
    "print(f'Width, Height -> {pic.width},{pic.height}') # Approach 2\n",
    "width,height = pic.size\n",
    "print(f'Width, Height -> {width},{height}') # Approach 3"
   ]
  },
  {
   "cell_type": "markdown",
   "id": "c08f8485-ad19-48af-bf25-4c8e316909bb",
   "metadata": {},
   "source": [
    "Width, Height -> (287, 70)\n",
    "Width, Height -> 287,70\n",
    "Width, Height -> 287,70"
   ]
  },
  {
   "cell_type": "markdown",
   "id": "24de66c4-60e8-448e-93bf-c41e079b4d0d",
   "metadata": {},
   "source": []
  },
  {
   "cell_type": "markdown",
   "id": "c6e3a603-3c4e-470b-8b99-232ced05018d",
   "metadata": {},
   "source": [
    "5. What method would you call to get Image object for a 100×100 image, excluding the lower-left quarter of it?"
   ]
  },
  {
   "cell_type": "code",
   "execution_count": null,
   "id": "3265567b-aab1-4c9a-8ee8-684de84bc282",
   "metadata": {},
   "outputs": [],
   "source": [
    "from PIL import Image\n",
    "img = Image.open('Pic.jpg')\n",
    "new_img = img.crop((0,50,50,50))"
   ]
  },
  {
   "cell_type": "markdown",
   "id": "3129744f-46c0-4a41-9106-4086bed6df6f",
   "metadata": {},
   "source": []
  },
  {
   "cell_type": "markdown",
   "id": "7d4d6932-71f1-40e8-886b-76f8928396a3",
   "metadata": {},
   "source": [
    "6. After making changes to an Image object, how could you save it as an image file?"
   ]
  },
  {
   "cell_type": "code",
   "execution_count": null,
   "id": "4c3d3e6c-98f5-4c0d-a535-0a8d37fc6766",
   "metadata": {},
   "outputs": [],
   "source": [
    "#Example Program\n",
    "from PIL import Image\n",
    "pic = Image.open('pic.jpg')\n",
    "pic.save('pic2.jpg')"
   ]
  },
  {
   "cell_type": "markdown",
   "id": "a2ca00cf-eaa9-4673-816b-7f67bded5f2c",
   "metadata": {},
   "source": []
  },
  {
   "cell_type": "markdown",
   "id": "92aa52bb-6f59-4ae6-aa54-517fd0f3e0af",
   "metadata": {},
   "source": [
    "7. What module contains Pillow’s shape-drawing code?\n",
    "Ans: Pillows ImageDraw module contains Shape drawing methods"
   ]
  },
  {
   "cell_type": "markdown",
   "id": "0928a4f6-fe2f-4058-a914-0fa6bf8338cb",
   "metadata": {},
   "source": []
  },
  {
   "cell_type": "markdown",
   "id": "80c6687d-c8f1-4bb8-91f9-afcab2d1d5e6",
   "metadata": {},
   "source": [
    "8. Image objects do not have drawing methods. What kind of object does? How do you get this kind of object?\n",
    "Ans: ImageDraw objects have shape-drawing methods such as point(), line(), or rectangle().They are returned by passing the Image object to the ImageDraw.Draw() function."
   ]
  }
 ],
 "metadata": {
  "kernelspec": {
   "display_name": "Python 3 (ipykernel)",
   "language": "python",
   "name": "python3"
  },
  "language_info": {
   "codemirror_mode": {
    "name": "ipython",
    "version": 3
   },
   "file_extension": ".py",
   "mimetype": "text/x-python",
   "name": "python",
   "nbconvert_exporter": "python",
   "pygments_lexer": "ipython3",
   "version": "3.10.6"
  }
 },
 "nbformat": 4,
 "nbformat_minor": 5
}
