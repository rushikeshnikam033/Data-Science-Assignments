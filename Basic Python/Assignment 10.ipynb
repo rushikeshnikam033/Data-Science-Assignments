{
 "cells": [
  {
   "cell_type": "markdown",
   "id": "e34274fe-5c00-4993-a1f4-9e6d92621033",
   "metadata": {},
   "source": [
    "Assignment 10 Solutions\n",
    "\n",
    "\n",
    "\n",
    "\n",
    "1. How do you distinguish between shutil.copy() and shutil.copytree()?\n",
    "Ans: shutil.copy() method is used to copy the contents of a file from one file to another file/folder, it primary takes two arguments src,dest, src represents the file to be copied where as destination refers to the file/folder to where the src data should be copied, if dest is a folder name the src with exact name will be copied to the dest folder, if its a file then the contents of src will be copied to dest where dest retains it name.\n",
    "\n",
    "shutil.copytree() function is used to copy the entire contents of a folder to other folder. it also takes two arguments src & dest, it copies all the content recursively and stores it in dest. the important catch here is dest must not exist prior to this and it will be created during the copy operation. Permissions and times of directories are copied with shutil.copystat() and individual files are copied using shutil.copy2() by default which can be modified using copy_function attribute."
   ]
  },
  {
   "cell_type": "markdown",
   "id": "a4d7d0c9-877c-4ea9-9b3f-c9c09aeb8042",
   "metadata": {},
   "source": []
  },
  {
   "cell_type": "markdown",
   "id": "6d6d025a-74c2-490a-8440-ce3c717259ea",
   "metadata": {},
   "source": []
  },
  {
   "cell_type": "markdown",
   "id": "afe8b4c8-6c8d-4f88-b8ab-e409c415e8e3",
   "metadata": {},
   "source": [
    "2. What function is used to rename files??\n",
    "Ans: os.rename() function is used to rename files or directories using a python program, this function takes two arguments src and dest, src represents the name file/directory which we want to rename, whereas dest represents the new name of the file/directory."
   ]
  },
  {
   "cell_type": "markdown",
   "id": "328c210f-fe5c-4321-a3f2-5cc2c9236bc7",
   "metadata": {},
   "source": []
  },
  {
   "cell_type": "markdown",
   "id": "3c4595d0-7a11-43f6-bd8d-c2cab97a4a88",
   "metadata": {},
   "source": []
  },
  {
   "cell_type": "markdown",
   "id": "14b2768e-dbe3-406d-8055-04e945690bed",
   "metadata": {},
   "source": [
    "3. What is the difference between the delete functions in the send2trash and shutil modules?\n",
    "Ans: Shutil module provides a funciton called as shutil.rmtree() which deletes a directory and all its contents. The other functions with similar functionality are os.remove() -> removes a file, os.rmdir() removes a empty directory. The problem with these functions is once a file is deleted. it will be lost permanently, if a file is deleted accidentally using these methods there is no way we can recover the deleted file\n",
    "\n",
    "Where as send2trash module provides a function called send2trash.send2trash() to delete a file/directory. these methods moves the files/directories to trash folder instead of permanently deleting them. hence if a file/folder is deleted accidentally it can be still recovered from trash folder, if is deleted using the send2trash.send2trash() function. send2trash is not included with python standard libary like os & shutil modules. it needs to be installed explicitly using the command !pip install send2trash"
   ]
  },
  {
   "cell_type": "markdown",
   "id": "232fb16c-aad4-47d3-8bd8-29d03baf8930",
   "metadata": {},
   "source": []
  },
  {
   "cell_type": "markdown",
   "id": "b32ee90a-f6fb-4ec4-8aa5-ffb563e26dea",
   "metadata": {},
   "source": []
  },
  {
   "cell_type": "markdown",
   "id": "dfc3308b-c40c-4269-9490-7c99bb95dbde",
   "metadata": {},
   "source": [
    "4.ZipFile objects have a close() method just like File objects’ close() method. What ZipFile method is equivalent to File objects’ open() method?\n",
    "Ans: ZipFile Module provides a method called as zipfile.ZipFile() to read and write to zipFiles. it takes arugments lile filename and mode etc zipfile.ZipFile('filename', mode = 'r')"
   ]
  },
  {
   "cell_type": "markdown",
   "id": "8dfa1e55-b153-4342-b465-cfbc266e0550",
   "metadata": {},
   "source": []
  },
  {
   "cell_type": "markdown",
   "id": "96bf6f31-5a0b-43cd-b16f-b9767250c2e8",
   "metadata": {},
   "source": []
  },
  {
   "cell_type": "markdown",
   "id": "857aa4e1-3239-4e58-b244-a1d5751c3123",
   "metadata": {},
   "source": [
    "5. Create a programme that searches a folder tree for files with a certain file extension (such as .pdf or .jpg). Copy these files from whatever location they are in to a new folder"
   ]
  },
  {
   "cell_type": "code",
   "execution_count": 4,
   "id": "6ce96d3b-9357-462d-892a-58ee0dfa33c0",
   "metadata": {},
   "outputs": [],
   "source": [
    "import os\n",
    "import shutil\n",
    "\n",
    "def search_and_copy(source,destination,extensions):\n",
    "    source = os.path.abspath(source)\n",
    "    destination = os.path.abspath(destination)\n",
    "    for foldername, subfolder, filenames in os.walk(source):\n",
    "        print(f'Folder Name ➞ {foldername}',end='\\n\\n')\n",
    "        print(f'Sub Folders ➞ {subfolder}',end='\\n\\n')\n",
    "        print(f'Files ➞ {filenames}',end='\\n\\n')\n",
    "        for filename in filenames:\n",
    "            fileName,extension = os.path.splitext(filename)\n",
    "            if extension in extensions:\n",
    "                targetFile = foldername+os.path.sep+fileName+extension\n",
    "                shutil.copy(targetFile, destination)\n",
    "        print(f'Files copied successfully from {source} to {destination}')\n",
    "    \n",
    "extensions = ['.pdf','.jpg','.ipynb']\n",
    "source = 'Dummy Source'\n",
    "destination = 'Dummy Destination'\n",
    "search_and_copy(source, destination, extensions)"
   ]
  },
  {
   "cell_type": "markdown",
   "id": "b76d8b6a-36ff-4116-961f-1c2d9c3c95be",
   "metadata": {},
   "source": [
    "Folder Name ➞ C:\\Users\\rushi.nikam\\Documents\\iNeuron-Assignments\\Python Basic Assignment\\Dummy Source\n",
    "\n",
    "Sub Folders ➞ []\n",
    "\n",
    "Files ➞ ['01.Assignment_01.ipynb', '02.Assignment_02.ipynb', '03.Assignment_03.ipynb', '04.Assignment_04.ipynb', '05.Assignment_05.ipynb', '06.Assignment_06.ipynb', '07.Assignment_07.ipynb', '08.Assignment_08.ipynb', '09.Assignment_09.ipynb', '10.Assignment_10.ipynb', '11.Assignment_11.ipynb', '12.Assignment_12.ipynb', '13.Assignment_13.ipynb', '14.Assignment_14.ipynb', '15.Assignment_15.ipynb', '16.Assignment_16.ipynb', '17.Assignment_17.ipynb', '18.Assignment_18.ipynb', '19.Assignment_19.ipynb', '20.Assignment_20.ipynb', '21.Assignment_21.ipynb', '22.Assignment_22.ipynb', '23.Assignment_23.ipynb', '24.Assignment_24.ipynb', '25.Assignment_25.ipynb']\n",
    "\n",
    "Files copied successfully from C:\\Users\\rushi.nikam\\Documents\\iNeuron-Assignments\\Python Basic Assignment\\Dummy Source to C:\\Users\\rushi.nikam\\Documents\\iNeuron-Assignments\\Python Basic Assignment\\Dummy Destination"
   ]
  }
 ],
 "metadata": {
  "kernelspec": {
   "display_name": "Python 3 (ipykernel)",
   "language": "python",
   "name": "python3"
  },
  "language_info": {
   "codemirror_mode": {
    "name": "ipython",
    "version": 3
   },
   "file_extension": ".py",
   "mimetype": "text/x-python",
   "name": "python",
   "nbconvert_exporter": "python",
   "pygments_lexer": "ipython3",
   "version": "3.10.6"
  }
 },
 "nbformat": 4,
 "nbformat_minor": 5
}
