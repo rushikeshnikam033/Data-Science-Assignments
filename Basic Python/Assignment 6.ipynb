{
 "cells": [
  {
   "cell_type": "markdown",
   "id": "e9e3595b-d8b2-482a-b68f-c9ed5bb448bf",
   "metadata": {},
   "source": [
    "Assignment 6 Solutions\n",
    "\n",
    "\n",
    "\n",
    "1.What are Escape characters ? and how do you use them ?\n",
    "Ans: Escape characters represent characters in string values that would otherwise be difficult or impossible to type into code. we can use the backslash character to escape a single character or symbol\n",
    "example: \\t, \\n\n",
    "\n",
    "\n",
    "\n",
    "2.What do the escape characters n and t stand for ?\n",
    "Ans: \\n is a newline, \\t is a tab\n",
    "\n",
    "\n",
    "\n",
    "3.What is the way to include backslash character in a string?\n",
    "Ans: The \\\\ escape character will represent the backslash character in a string\n",
    "\n",
    "\n",
    "\n",
    "4.The string \"Howl's Moving Castle\" is a correct value. Why isn't the single quote character in the word Howl's not escaped a problem ?\n",
    "Ans: The string \"Howl's Moving Castle\" escaped the problem because it is wrapped inside double quotes. if its wrapped inside single quotes then we have to use escape character \\' to show single quote in the final output\n",
    "'Howl\\'s Moving Castle' -> 'Howl's Moving Castle'\n",
    "\n",
    "\n",
    "\n",
    "5.How do you write a string of newlines if you don't want to use the n character?\n",
    "Ans: Multiline string allow you to use newlines in string without the \\n escape character"
   ]
  },
  {
   "cell_type": "code",
   "execution_count": 1,
   "id": "ee9a8b4a-9f62-4efd-a838-8973ad04df78",
   "metadata": {},
   "outputs": [
    {
     "name": "stdout",
     "output_type": "stream",
     "text": [
      "iNeuron full stack\n",
      "Data Science Course\n"
     ]
    }
   ],
   "source": [
    "# Example:\n",
    "a = '''iNeuron full stack\n",
    "Data Science Course'''\n",
    "print(a)"
   ]
  },
  {
   "cell_type": "markdown",
   "id": "9b9fa2c0-4113-47a6-b184-8d6cf5ff10a3",
   "metadata": {},
   "source": []
  },
  {
   "cell_type": "markdown",
   "id": "635d5de9-8df7-400a-aed0-1488b1d2ba99",
   "metadata": {},
   "source": []
  },
  {
   "cell_type": "markdown",
   "id": "3ed26423-c5bb-4eb4-b9cf-a2327a6c55ca",
   "metadata": {},
   "source": [
    "6.What are the values of the given expressions ?\n",
    "'Hello, world!'[1]\n",
    "'Hello, world!'[0:5]\n",
    "'Hello, world!'[:5]\n",
    "'Hello, world!'[3:]\n",
    "\n",
    "Ans: The values for the given expressions are:\n",
    "'Hello, world!'[1] -> 'e'\n",
    "'Hello, world!'[0:5] -> 'Hello'\n",
    "'Hello, world!'[:5] -> 'Hello'\n",
    "'Hello, world!'[3:] -> 'lo, world!'\n",
    "\n",
    "\n",
    "\n",
    "7.What are the values of the following expressions ?\n",
    "'Hello'.upper()\n",
    "'Hello'.upper().isupper()\n",
    "'Hello'.upper().lower()\n",
    "\n",
    "Ans: The values for the given expressions are:\n",
    "'Hello'.upper() -> 'HELLO'\n",
    "'Hello'.upper().isupper() -> True\n",
    "'Hello'.upper().lower() -> 'hello'\n",
    "\n",
    "\n",
    "\n",
    "8.What are the values of the following expressions ?\n",
    "'Remember, remember, the fifith of July.'.split()\n",
    "-'.join('There can only one'.split())\n",
    "\n",
    "Ans: The values for the given expressions are:\n",
    "'Remember, remember, the fifith of July.'.split() -> ['Remember,', 'remember,', 'the', 'fifith', 'of', 'July.']\n",
    "'-'.join('There can only one'.split()) -> 'There-can-only-one'\n",
    "\n",
    "\n",
    "\n",
    "9.What are the methods for right-justifying, left-justifying and centering a string ?\n",
    "Ans: The rjust(),ljust(),center() string methods, respectively\n",
    "\n",
    "\n",
    "\n",
    "10.What is the best way to remove whitespace characters from the start or end ?\n",
    "Ans: The lstrip() and rstrip() methods remove whitesapce characters from the left and right ends of a string respectively\n",
    "\n"
   ]
  }
 ],
 "metadata": {
  "kernelspec": {
   "display_name": "Python 3 (ipykernel)",
   "language": "python",
   "name": "python3"
  },
  "language_info": {
   "codemirror_mode": {
    "name": "ipython",
    "version": 3
   },
   "file_extension": ".py",
   "mimetype": "text/x-python",
   "name": "python",
   "nbconvert_exporter": "python",
   "pygments_lexer": "ipython3",
   "version": "3.10.6"
  }
 },
 "nbformat": 4,
 "nbformat_minor": 5
}
