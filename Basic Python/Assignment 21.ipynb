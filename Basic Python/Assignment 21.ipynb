{
 "cells": [
  {
   "cell_type": "markdown",
   "id": "1491c9e5-4570-42c2-87bc-55a802e76b61",
   "metadata": {},
   "source": [
    "Assignment 21 Solutions"
   ]
  },
  {
   "cell_type": "markdown",
   "id": "377f45ea-014f-4f86-9017-9b7f563dce03",
   "metadata": {},
   "source": []
  },
  {
   "cell_type": "markdown",
   "id": "7c15f106-1b02-4f99-83be-4ba13f52c21f",
   "metadata": {},
   "source": [
    "1. Add the current date to the text file today.txt as a string."
   ]
  },
  {
   "cell_type": "code",
   "execution_count": 14,
   "id": "2aa4e898-e5e1-475c-a4d2-789e3981f4f5",
   "metadata": {},
   "outputs": [
    {
     "name": "stdout",
     "output_type": "stream",
     "text": [
      "24-05-2023\n"
     ]
    }
   ],
   "source": [
    "import datetime\n",
    "# Code to Add current date to the today.txt file\n",
    "file = open('today.txt','w')\n",
    "file.write(datetime.datetime.now().strftime(\"%d-%m-%Y\"))\n",
    "file.close()\n",
    "# Code to Read current date from today.txt file\n",
    "file = open('today.txt','r')\n",
    "print(file.read())\n",
    "file.close()"
   ]
  },
  {
   "cell_type": "markdown",
   "id": "f39ad371-a255-4344-8bf6-1e0792b8134d",
   "metadata": {},
   "source": []
  },
  {
   "cell_type": "markdown",
   "id": "d3601f09-8509-442a-adad-789e04e032ee",
   "metadata": {},
   "source": [
    "2. Read the text file today.txt into the string today_string"
   ]
  },
  {
   "cell_type": "code",
   "execution_count": 15,
   "id": "b1c4a6ad-4148-4193-a4ea-7e0270818193",
   "metadata": {},
   "outputs": [
    {
     "name": "stdout",
     "output_type": "stream",
     "text": [
      "24-05-2023\n"
     ]
    }
   ],
   "source": [
    "file = open('today.txt','r')\n",
    "today_string = file.read()\n",
    "print(today_string)"
   ]
  },
  {
   "cell_type": "markdown",
   "id": "80fd7eff-4ce9-4203-9cd9-e67de6b1c464",
   "metadata": {},
   "source": []
  },
  {
   "cell_type": "markdown",
   "id": "775be47a-2428-4217-86c9-e013f0fb651d",
   "metadata": {},
   "source": [
    "3. Parse the date from today_string."
   ]
  },
  {
   "cell_type": "code",
   "execution_count": 16,
   "id": "e01a25fc-09ee-434a-8543-ecdd4956348d",
   "metadata": {},
   "outputs": [
    {
     "name": "stdout",
     "output_type": "stream",
     "text": [
      "2023-05-24 00:00:00\n"
     ]
    }
   ],
   "source": [
    "from datetime import datetime\n",
    "parsed_data = datetime.strptime(today_string, '%d-%m-%Y')\n",
    "print(parsed_data)"
   ]
  },
  {
   "cell_type": "markdown",
   "id": "38a23660-fcd9-4924-a911-52e1cec13c05",
   "metadata": {},
   "source": []
  },
  {
   "cell_type": "markdown",
   "id": "6b68efae-8172-4fbf-8f18-8c5c2f72679c",
   "metadata": {},
   "source": [
    "4. List the files in your current directory"
   ]
  },
  {
   "cell_type": "code",
   "execution_count": 17,
   "id": "f5a9b854-b091-4ba4-8aec-cfd4b19a5919",
   "metadata": {},
   "outputs": [
    {
     "name": "stdout",
     "output_type": "stream",
     "text": [
      "Assignment 10.ipynb\n",
      "Assignment 12.ipynb\n",
      "Assignment 2.ipynb\n",
      "test.txt\n",
      "Assingment 4.ipynb\n",
      "Assingment 5.ipynb\n",
      "Assignment 17.ipynb\n",
      "Assingment 19.ipynb\n",
      "Assignment 18.ipynb\n",
      "university_records.csv\n",
      "Assignment 15.ipynb\n",
      "Assingment 16.ipynb\n",
      "Assignment 1.ipynb\n",
      "Assignment 7.ipynb\n",
      "Assignment 9.ipynb\n",
      "Assignment 6.ipynb\n",
      "Assignment 3.ipynb\n",
      "books.db\n",
      "Assignment 11.ipynb\n",
      "Assignment 8.ipynb\n",
      "Untitled.ipynb\n",
      "today.txt\n",
      "Assignment 14.ipynb\n",
      "books.csv\n",
      "application_log.txt\n",
      "Assignment 13.ipynb\n",
      "Assignment 20.ipynb\n",
      "Assignment 8-checkpoint.ipynb\n",
      "Assingment 5-checkpoint.ipynb\n",
      "Assignment 1-checkpoint.ipynb\n",
      "Assignment 17-checkpoint.ipynb\n",
      "Assingment 4-checkpoint.ipynb\n",
      "Assignment 14-checkpoint.ipynb\n",
      "Assignment 13-checkpoint.ipynb\n",
      "Assignment 20-checkpoint.ipynb\n",
      "Assignment 18-checkpoint.ipynb\n",
      "Assignment 9-checkpoint.ipynb\n",
      "application_log-checkpoint.txt\n",
      "Assignment 11-checkpoint.ipynb\n",
      "Assignment 2-checkpoint.ipynb\n",
      "Assignment 12-checkpoint.ipynb\n",
      "Assignment 10-checkpoint.ipynb\n",
      "Assignment 3-checkpoint.ipynb\n",
      "Assignment 15-checkpoint.ipynb\n",
      "Assingment 19-checkpoint.ipynb\n",
      "Untitled-checkpoint.ipynb\n",
      "university_records-checkpoint.csv\n",
      "Assignment 7-checkpoint.ipynb\n",
      "Assingment 16-checkpoint.ipynb\n",
      "Assignment 6-checkpoint.ipynb\n"
     ]
    }
   ],
   "source": [
    "import os\n",
    "for folders, subfolders, files in os.walk(os.getcwd()):\n",
    "    for file in files:\n",
    "        print(file)"
   ]
  },
  {
   "cell_type": "markdown",
   "id": "eae7409d-130a-4f33-8915-389eced4b42a",
   "metadata": {},
   "source": []
  },
  {
   "cell_type": "markdown",
   "id": "f1496bfe-7742-4159-8e53-fa42712f22e7",
   "metadata": {},
   "source": [
    "5. Create a list of all of the files in your parent directory (minimum five files should be available)."
   ]
  },
  {
   "cell_type": "code",
   "execution_count": 18,
   "id": "c1390f38-4cc0-487c-9817-cf37e026be6f",
   "metadata": {},
   "outputs": [
    {
     "data": {
      "text/plain": [
       "['Assignment 10.ipynb',\n",
       " 'Assignment 12.ipynb',\n",
       " 'Assignment 2.ipynb',\n",
       " 'test.txt',\n",
       " 'Assingment 4.ipynb',\n",
       " 'Assingment 5.ipynb',\n",
       " 'Assignment 17.ipynb',\n",
       " 'Assingment 19.ipynb',\n",
       " 'Assignment 18.ipynb',\n",
       " 'university_records.csv',\n",
       " 'Assignment 15.ipynb',\n",
       " 'Assingment 16.ipynb',\n",
       " 'Assignment 1.ipynb',\n",
       " 'Assignment 7.ipynb',\n",
       " 'Assignment 9.ipynb',\n",
       " 'Assignment 6.ipynb',\n",
       " 'Assignment 3.ipynb',\n",
       " 'books.db',\n",
       " 'Assignment 11.ipynb',\n",
       " 'Assignment 8.ipynb',\n",
       " 'Untitled.ipynb',\n",
       " '.ipynb_checkpoints',\n",
       " 'today.txt',\n",
       " 'Assignment 14.ipynb',\n",
       " 'books.csv',\n",
       " 'application_log.txt',\n",
       " 'Assignment 13.ipynb',\n",
       " 'Assignment 20.ipynb']"
      ]
     },
     "execution_count": 18,
     "metadata": {},
     "output_type": "execute_result"
    }
   ],
   "source": [
    "import os \n",
    "os.listdir()"
   ]
  },
  {
   "cell_type": "markdown",
   "id": "4116aa4a-933e-4ac2-89fa-1b12a4c96bf2",
   "metadata": {},
   "source": []
  },
  {
   "cell_type": "markdown",
   "id": "88a79c7f-ff0e-42eb-93b6-fb5687a6517b",
   "metadata": {},
   "source": [
    "6. Use multiprocessing to create three separate processes. Make each one wait a random number of seconds between one and five, print the current time, and then exit."
   ]
  },
  {
   "cell_type": "code",
   "execution_count": 19,
   "id": "265cf36c-dc11-4ee8-b89f-b3c6c8218fdb",
   "metadata": {},
   "outputs": [
    {
     "name": "stdout",
     "output_type": "stream",
     "text": [
      "Proc_one_Starttime -> 2023-05-24 13:06:41.386310\n",
      "Proc_two_Starttime -> 2023-05-24 13:06:41.392010\n",
      "Proc_two_Starttime -> 2023-05-24 13:06:41.398956\n",
      "Proc_one_Endtime -> 2023-05-24 13:06:46.397904\n",
      "Proc_two_Endtime -> 2023-05-24 13:06:46.404663Proc_two_Endtime -> 2023-05-24 13:06:46.404684\n",
      "\n"
     ]
    }
   ],
   "source": [
    "import multiprocessing\n",
    "import time \n",
    "import random\n",
    "import datetime\n",
    "\n",
    "def procOne():\n",
    "    print(f'Proc_one_Starttime -> {datetime.datetime.now()}')\n",
    "    time.sleep(random.randint(1,5))\n",
    "    print(f'Proc_one_Endtime -> {datetime.datetime.now()}')\n",
    "    \n",
    "def procTwo():\n",
    "    print(f'Proc_two_Starttime -> {datetime.datetime.now()}')\n",
    "    time.sleep(random.randint(1,5))\n",
    "    print(f'Proc_two_Endtime -> {datetime.datetime.now()}')\n",
    "\n",
    "def procThree():\n",
    "    print(f'Proc_two_Starttime -> {datetime.datetime.now()}')\n",
    "    time.sleep(random.randint(1,5))\n",
    "    print(f'Proc_two_Endtime -> {datetime.datetime.now()}')\n",
    "    \n",
    "if __name__ == \"__main__\":    \n",
    "    p1 = multiprocessing.Process(target=procOne)\n",
    "    p2 = multiprocessing.Process(target=procTwo)\n",
    "    p3 = multiprocessing.Process(target=procThree)\n",
    "\n",
    "    p1.start()\n",
    "    p2.start()\n",
    "    p3.start()\n",
    "\n",
    "    p1.join()\n",
    "    p2.join()\n",
    "    p3.join()"
   ]
  },
  {
   "cell_type": "markdown",
   "id": "6f5cc112-34b2-4b51-806d-77d96afe05c3",
   "metadata": {},
   "source": []
  },
  {
   "cell_type": "markdown",
   "id": "2256f57f-3c6c-4376-874c-3babe3298f3b",
   "metadata": {},
   "source": [
    "7. Create a date object of your day of birth."
   ]
  },
  {
   "cell_type": "code",
   "execution_count": 20,
   "id": "17f21d43-c26a-4ca4-a0b1-a0e662dd8b57",
   "metadata": {},
   "outputs": [
    {
     "name": "stdout",
     "output_type": "stream",
     "text": [
      "1997-04-22 00:00:00 <class 'datetime.datetime'>\n"
     ]
    }
   ],
   "source": [
    "from datetime import datetime\n",
    "my_dob = datetime.strptime('22/04/1997','%d/%m/%Y')\n",
    "print(my_dob, type(my_dob))"
   ]
  },
  {
   "cell_type": "markdown",
   "id": "1d501734-1d86-4664-8b4e-205635e7bc4c",
   "metadata": {},
   "source": []
  },
  {
   "cell_type": "markdown",
   "id": "549215c5-181c-4d0f-9601-5491506ebd22",
   "metadata": {},
   "source": [
    "8. What day of the week was your day of birth?"
   ]
  },
  {
   "cell_type": "code",
   "execution_count": 21,
   "id": "22cd93c3-0e9b-4a22-8a23-72bd6506b352",
   "metadata": {},
   "outputs": [
    {
     "data": {
      "text/plain": [
       "'Tuesday'"
      ]
     },
     "execution_count": 21,
     "metadata": {},
     "output_type": "execute_result"
    }
   ],
   "source": [
    "from datetime import datetime\n",
    "my_dob = datetime(1997,4,22)\n",
    "my_dob.strftime(\"%A\")"
   ]
  },
  {
   "cell_type": "markdown",
   "id": "accb7acf-f2ca-44ea-950b-8786777d9249",
   "metadata": {},
   "source": []
  },
  {
   "cell_type": "markdown",
   "id": "2e61f18c-92db-40b6-b957-34b44d7c047f",
   "metadata": {},
   "source": [
    "9. When will you be (or when were you) 10,000 days old?"
   ]
  },
  {
   "cell_type": "code",
   "execution_count": 22,
   "id": "15ba24de-f4f8-45d3-84e2-2c00fde086fe",
   "metadata": {},
   "outputs": [
    {
     "data": {
      "text/plain": [
       "datetime.datetime(1969, 12, 5, 0, 0)"
      ]
     },
     "execution_count": 22,
     "metadata": {},
     "output_type": "execute_result"
    }
   ],
   "source": [
    "from datetime import datetime, timedelta\n",
    "my_dob = datetime.strptime(\"22/04/1997\",'%d/%m/%Y')\n",
    "future_date = my_dob-timedelta(10000)\n",
    "future_date"
   ]
  }
 ],
 "metadata": {
  "kernelspec": {
   "display_name": "Python 3 (ipykernel)",
   "language": "python",
   "name": "python3"
  },
  "language_info": {
   "codemirror_mode": {
    "name": "ipython",
    "version": 3
   },
   "file_extension": ".py",
   "mimetype": "text/x-python",
   "name": "python",
   "nbconvert_exporter": "python",
   "pygments_lexer": "ipython3",
   "version": "3.10.6"
  }
 },
 "nbformat": 4,
 "nbformat_minor": 5
}
