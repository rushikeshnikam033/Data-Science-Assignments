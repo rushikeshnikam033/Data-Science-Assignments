{
 "cells": [
  {
   "cell_type": "markdown",
   "id": "8545f31e-07a4-4237-9dba-07ca7c76cdbb",
   "metadata": {},
   "source": [
    "Assignment 12 Solutions"
   ]
  },
  {
   "cell_type": "markdown",
   "id": "0466c77b-1dcb-4bb3-bb51-bccc720d4c5a",
   "metadata": {},
   "source": []
  },
  {
   "cell_type": "markdown",
   "id": "cb96a91d-6f9f-4da7-b3c5-d7a4a787c500",
   "metadata": {},
   "source": [
    "1. In what modes should the PdfFileReader() and PdfFileWriter() File objects will be opened?\n",
    "Ans: For PdfFileReader() file objects should be opened in rb -> read binary mode, Whereas for PdfFileWriter() file objects should be opened in wb -> write binary mode."
   ]
  },
  {
   "cell_type": "markdown",
   "id": "ec4153f2-e3a1-45c6-9c1a-932c0f89d07b",
   "metadata": {},
   "source": []
  },
  {
   "cell_type": "markdown",
   "id": "0fa8f204-95b8-45b0-8edc-66ca92deab36",
   "metadata": {},
   "source": [
    "2. From a PdfFileReader object, how do you get a Page object for page 5?\n",
    "Ans: PdfFileReader class provides a method called getPage(page_no) to get a page object."
   ]
  },
  {
   "cell_type": "code",
   "execution_count": null,
   "id": "08978456-cfbb-4a04-944b-3cf974db8b9f",
   "metadata": {},
   "outputs": [],
   "source": [
    "# Example Code:\n",
    "from PyPDF2 import PdfFileReader\n",
    "pdf_reader = PdfFileReader(file_path)\n",
    "for page in pdf_reader.getNumPages():\n",
    "    pdf_reader.getPage(page)"
   ]
  },
  {
   "cell_type": "markdown",
   "id": "1edcf1f5-4248-4e02-acdd-7cc3e8b8fa47",
   "metadata": {},
   "source": [
    "3. What PdfFileReader variable stores the number of pages in the PDF document?\n",
    "Ans: getNumPages() method of PdfFileReader class stores the no pages in a PDF document"
   ]
  },
  {
   "cell_type": "code",
   "execution_count": null,
   "id": "c8c77fd7-4d31-4d35-8d6b-808495bcbece",
   "metadata": {},
   "outputs": [],
   "source": [
    "#Example Code:\n",
    "from PyPDF2 import PdfFileReader\n",
    "pdf_reader = PdfFileReader(file_path)\n",
    "print(pdf_reader.getNumPages()) # Prints the no of pages in a input document"
   ]
  },
  {
   "cell_type": "markdown",
   "id": "f404177d-6052-4f68-8516-eea9ef3c82ae",
   "metadata": {},
   "source": [
    "4. If a PdfFileReader object’s PDF is encrypted with the password swordfish, what must you do before you can obtain Page objects from it?\n",
    "Ans: If a PdfFileReader object’s PDF is encrypted with the password swordfish and you're not aware of it. first read the Pdf using the PdfFileReader Class. PdfFileReader class provides a attribute called isEncrypted to check whether a pdf is encrypted or not. the method returns true if a pdf is encrypted and vice versa.\n",
    "if pdf is encrypted use the decrypt() method provided by PdfFileReader class first then try to read the contents/pages of the pdf, else PyPDF2 will raise the following error PyPDF2.utils.PdfReadError: file has not been decrypted"
   ]
  },
  {
   "cell_type": "code",
   "execution_count": null,
   "id": "e451889f-995d-4e90-84cf-e79365da38b9",
   "metadata": {},
   "outputs": [],
   "source": [
    "#Example Code:\n",
    "from PyPDF2 import PdfFileReader\n",
    "pdf_reader = PdfFileReader(file_path)\n",
    "if pdf_reader.isEncrypted: # to check whether the pdf is encrypted or not\n",
    "    pdf_reader.decrypt(\"swordfish\")\n",
    "for page in pdf_reader.pages:\n",
    "    print(page.extractText()) # to print the text data of a page from pdf"
   ]
  },
  {
   "cell_type": "markdown",
   "id": "be0633cf-d2d4-43fd-a014-3fb96d05fec8",
   "metadata": {},
   "source": [
    "5. What methods do you use to rotate a page?\n",
    "Ans: PyPDF2 Package provides 2 methods to rotate a page:\n",
    "\n",
    "rotateClockWise() -> For Clockwise rotation\n",
    "rotateCounterClockWise() -> For Counter Clockwise rotation\n",
    "The PyPDF2 package only allows you to rotate a page in increments of 90 degrees. You will receive an AssertionError otherwise."
   ]
  },
  {
   "cell_type": "markdown",
   "id": "7d33feff-1314-42eb-abdf-88c85b7f31d6",
   "metadata": {},
   "source": []
  },
  {
   "cell_type": "markdown",
   "id": "0d1142cf-5ac9-4666-96bc-f546f578bd30",
   "metadata": {},
   "source": [
    "6. What is the difference between a Run object and a Paragraph object?\n",
    "Ans: The structure of a document is represented by three different data types in python-Docx. At the highest level, a Document object represents the entire document. The Document object contains a list of Paragraph objects for the paragraphs in the document. (A new paragraph begins whenever the user presses ENTER or RETURN while typing in a Word document.) Each of these Paragraph objects contains a list of one or more Run objects.\n",
    "\n",
    "The text in a Word document is more than just a string. It has font, size, color, and other styling information associated with it. A style in Word is a collection of these attributes. A Run object is a contiguous run of text with the same style. A new Run object is needed whenever the text style changes."
   ]
  },
  {
   "cell_type": "markdown",
   "id": "bc8a59d6-2e71-4670-8899-cfb42c83a0a2",
   "metadata": {},
   "source": []
  },
  {
   "cell_type": "markdown",
   "id": "4cc774f7-688e-4646-93d5-a7ef545a1301",
   "metadata": {},
   "source": [
    "7. How do you obtain a list of Paragraph objects for a Document object that’s stored in a variable named doc?"
   ]
  },
  {
   "cell_type": "code",
   "execution_count": null,
   "id": "794da3fc-f97a-4c9c-aaa6-11f5e243ba65",
   "metadata": {},
   "outputs": [],
   "source": [
    "# Example Program\n",
    "from docx import Document\n",
    "doc = Document(\"sample_file.docx\") # Path of the Docx file\n",
    "print(doc.paragraphs) # Prints the list of Paragraph objects for a Document\n",
    "for paragraph in doc.paragraphs:\n",
    "    print(paragraph.text) # Prints the text in the paragraph"
   ]
  },
  {
   "cell_type": "markdown",
   "id": "26346bab-fdb5-4288-92c3-a25ccebade1b",
   "metadata": {},
   "source": [
    "8. What type of object has bold, underline, italic, strike, and outline variables?\n",
    "Ans: Run object has bold, underline, italic, strike, and outline variables. The text in a Word document is more than just a string. It has font, size, color, and other styling information associated with it.\n",
    "\n",
    "A style in Word is a collection of these attributes. A Run object is a contiguous run of text with the same style. A new Run object is needed whenever the text style changes."
   ]
  },
  {
   "cell_type": "markdown",
   "id": "94b7897d-2f20-4e38-b43b-a0b6ee34da6b",
   "metadata": {},
   "source": []
  },
  {
   "cell_type": "markdown",
   "id": "8c4465d5-0b59-4087-843a-dfb82b17034a",
   "metadata": {},
   "source": [
    "9. What is the difference between False, True, and None for the bold variable?"
   ]
  },
  {
   "cell_type": "code",
   "execution_count": null,
   "id": "8d38a6cc-afb1-4505-a92b-0b2d1e6ea6a6",
   "metadata": {},
   "outputs": [],
   "source": [
    "bold = True  # Style Set to Bold\n",
    "bold = False # Style Not Set to Bold\n",
    "bold = None # Style is Not Applicable"
   ]
  },
  {
   "cell_type": "markdown",
   "id": "c6d32cf7-7d50-43c6-900a-c54c51bd170b",
   "metadata": {},
   "source": [
    "11. How do you add a paragraph with the text 'Hello, there!' to a Document object stored in a variable named doc?"
   ]
  },
  {
   "cell_type": "code",
   "execution_count": null,
   "id": "22c1c3c8-3324-499f-997b-6683969bc114",
   "metadata": {},
   "outputs": [],
   "source": [
    "# Example Program\n",
    "from docx import Document\n",
    "doc = Document()\n",
    "doc.add_paragraph('Hello, there!')\n",
    "doc.save('hello.docx')"
   ]
  },
  {
   "cell_type": "markdown",
   "id": "468ea775-49a1-453b-9a25-83e0d0381f5b",
   "metadata": {},
   "source": []
  },
  {
   "cell_type": "markdown",
   "id": "fd9e603f-c4ef-4826-ad0e-01e5bd3514fa",
   "metadata": {},
   "source": [
    "12. What integers represent the levels of headings available in Word documents?\n",
    "Ans: The levels for a heading in a word document can be specified by using the level attribute inside the add_heading method. There are a total of 5 levels statring for 0 t0 4. where level 0 makes a headline with the horizontal line below the text, whereas the heading level 1 is the main heading. Similarly, the other headings are sub-heading with their's font-sizes in decreasing order."
   ]
  }
 ],
 "metadata": {
  "kernelspec": {
   "display_name": "Python 3 (ipykernel)",
   "language": "python",
   "name": "python3"
  },
  "language_info": {
   "codemirror_mode": {
    "name": "ipython",
    "version": 3
   },
   "file_extension": ".py",
   "mimetype": "text/x-python",
   "name": "python",
   "nbconvert_exporter": "python",
   "pygments_lexer": "ipython3",
   "version": "3.10.6"
  }
 },
 "nbformat": 4,
 "nbformat_minor": 5
}
