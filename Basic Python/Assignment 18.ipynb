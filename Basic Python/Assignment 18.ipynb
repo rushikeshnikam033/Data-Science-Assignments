{
 "cells": [
  {
   "cell_type": "markdown",
   "id": "6e743411-4259-4288-b5c4-72cc6916ecaf",
   "metadata": {},
   "source": [
    "Assignment 18 Solutions"
   ]
  },
  {
   "cell_type": "markdown",
   "id": "9a28dd9d-e605-4164-b2be-8362ecf32f18",
   "metadata": {},
   "source": []
  },
  {
   "cell_type": "code",
   "execution_count": null,
   "id": "07666d76-0bc0-4fd3-b7d0-41ea6c659798",
   "metadata": {},
   "outputs": [],
   "source": [
    "!type zoo.py"
   ]
  },
  {
   "cell_type": "markdown",
   "id": "8123f4db-ba86-435a-973b-451c625641ae",
   "metadata": {},
   "source": [
    "def hours():\n",
    "    print(\"Open 9-5 daily\")"
   ]
  },
  {
   "cell_type": "markdown",
   "id": "068dbd17-57e1-4336-8bed-d170934c4708",
   "metadata": {},
   "source": [
    "1. Create a zoo.py file first. Define the hours() function, which prints the string 'Open 9-5 daily'. Then, use the interactive interpreter to import the zoo module and call its hours() function."
   ]
  },
  {
   "cell_type": "code",
   "execution_count": null,
   "id": "ab4e8235-07be-4fe0-ab19-7d3670774e06",
   "metadata": {},
   "outputs": [],
   "source": [
    "import zoo\n",
    "zoo.hours()"
   ]
  },
  {
   "cell_type": "markdown",
   "id": "86b5261f-268d-4999-b936-f0b7a8147aa6",
   "metadata": {},
   "source": [
    "Open 9-5 daily"
   ]
  },
  {
   "cell_type": "markdown",
   "id": "2d7fc95c-3c6a-4a5c-8d96-a3fe80dcda5e",
   "metadata": {},
   "source": [
    "2. In the interactive interpreter, import the zoo module as menagerie and call its hours() function."
   ]
  },
  {
   "cell_type": "code",
   "execution_count": null,
   "id": "027f8113-c01e-4f76-bf82-03319499a1d2",
   "metadata": {},
   "outputs": [],
   "source": [
    "import zoo as menagerie\n",
    "menagerie.hours()"
   ]
  },
  {
   "cell_type": "markdown",
   "id": "03c59320-4d2d-4f56-91d5-ce9129ce7105",
   "metadata": {},
   "source": [
    "Open 9-5 daily"
   ]
  },
  {
   "cell_type": "markdown",
   "id": "bdb82dca-b959-4ca3-8fb6-5b8747692eee",
   "metadata": {},
   "source": [
    "3. Using the interpreter, explicitly import and call the hours() function from zoo."
   ]
  },
  {
   "cell_type": "code",
   "execution_count": null,
   "id": "74b7cfe9-c0e1-4dc4-8be1-4edad4ecf8b5",
   "metadata": {},
   "outputs": [],
   "source": [
    "from zoo import hours\n",
    "hours()"
   ]
  },
  {
   "cell_type": "markdown",
   "id": "898c9fbd-ba9d-4887-b0f9-2b58d24a0069",
   "metadata": {},
   "source": [
    "Open 9-5 daily"
   ]
  },
  {
   "cell_type": "markdown",
   "id": "b3120b91-975f-402c-83bd-b2dbe341708d",
   "metadata": {},
   "source": [
    "4. Import the hours() function as info and call it."
   ]
  },
  {
   "cell_type": "code",
   "execution_count": null,
   "id": "cfea7479-2a1f-4df5-8187-5b05dcfc6a72",
   "metadata": {},
   "outputs": [],
   "source": [
    "from zoo import hours as info\n",
    "info()"
   ]
  },
  {
   "cell_type": "markdown",
   "id": "33c48913-c8f2-49ff-9900-de6eafb5f71e",
   "metadata": {},
   "source": [
    "Open 9-5 daily"
   ]
  },
  {
   "cell_type": "markdown",
   "id": "d8c651eb-0dea-4574-b175-9522e88c487b",
   "metadata": {},
   "source": [
    "5. Create a plain dictionary with the key-value pairs 'a': 1, 'b': 2, and 'c': 3, and print it out."
   ]
  },
  {
   "cell_type": "code",
   "execution_count": null,
   "id": "ba098e92-c2df-4636-b2cc-169db2445478",
   "metadata": {},
   "outputs": [],
   "source": [
    "plain_dict = {'a':1,'b':2,'c':3}\n",
    "print(plain_dict)"
   ]
  },
  {
   "cell_type": "markdown",
   "id": "04866a93-aa64-4efe-a363-b08171b2afba",
   "metadata": {},
   "source": [
    "{'a': 1, 'b': 2, 'c': 3}"
   ]
  },
  {
   "cell_type": "markdown",
   "id": "e8563427-02b6-42ec-bb4e-d7b91375a9d8",
   "metadata": {},
   "source": [
    "6.Make an OrderedDict called fancy from the same pairs listed in 5 and print it. Did it print in the same order as plain?"
   ]
  },
  {
   "cell_type": "code",
   "execution_count": null,
   "id": "20665d7e-2016-4890-93db-f5609d3eeba6",
   "metadata": {},
   "outputs": [],
   "source": [
    "from collections import OrderedDict\n",
    "fancy = OrderedDict(plain_dict)\n",
    "print(f'plain_dict -> {plain_dict}')\n",
    "print(f'fancy -> {fancy}')"
   ]
  },
  {
   "cell_type": "markdown",
   "id": "a90920a4-97bf-4631-b36d-763a237f0fc3",
   "metadata": {},
   "source": [
    "plain_dict -> {'a': 1, 'b': 2, 'c': 3}\n",
    "fancy -> OrderedDict([('a', 1), ('b', 2), ('c', 3)])"
   ]
  },
  {
   "cell_type": "markdown",
   "id": "67d9828e-7b7c-4abc-8f18-390d58338c14",
   "metadata": {},
   "source": [
    "7. Make a default dictionary called dict_of_lists and pass it the argument list. Make the list dict_of_lists['a'] and append the value 'something for a' to it in one assignment. Print dict_of_lists['a']."
   ]
  },
  {
   "cell_type": "code",
   "execution_count": null,
   "id": "da0a1a26-b2dd-4f64-9226-a8f4fd0cd24c",
   "metadata": {},
   "outputs": [],
   "source": [
    "from collections import defaultdict\n",
    "dict_of_lists = defaultdict(list)\n",
    "dict_of_lists['a'].append('something for a')\n",
    "print(dict_of_lists['a'])"
   ]
  },
  {
   "cell_type": "markdown",
   "id": "1fe59eee-dfbb-4f22-af57-b2dae2d4d117",
   "metadata": {},
   "source": [
    "['something for a']"
   ]
  }
 ],
 "metadata": {
  "kernelspec": {
   "display_name": "Python 3 (ipykernel)",
   "language": "python",
   "name": "python3"
  },
  "language_info": {
   "codemirror_mode": {
    "name": "ipython",
    "version": 3
   },
   "file_extension": ".py",
   "mimetype": "text/x-python",
   "name": "python",
   "nbconvert_exporter": "python",
   "pygments_lexer": "ipython3",
   "version": "3.10.6"
  }
 },
 "nbformat": 4,
 "nbformat_minor": 5
}
