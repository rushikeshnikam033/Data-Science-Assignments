{
 "cells": [
  {
   "cell_type": "markdown",
   "id": "62be1a6c-ac4b-457d-8ce0-d679524494c9",
   "metadata": {},
   "source": [
    "Assignment 16 Solutions"
   ]
  },
  {
   "cell_type": "markdown",
   "id": "63a63511-c973-4ac2-bd76-d40a76dfa0f9",
   "metadata": {},
   "source": []
  },
  {
   "cell_type": "markdown",
   "id": "0e0e2d25-e3e2-4a58-abd8-503b55270d60",
   "metadata": {},
   "source": [
    "1. Create a list called years_list, starting with the year of your birth, and each year thereafter until the year of your fifth birthday. For example, if you were born in 1980. the list would be years_list = [1980, 1981, 1982, 1983, 1984, 1985]."
   ]
  },
  {
   "cell_type": "code",
   "execution_count": 1,
   "id": "f2b39b1e-3a69-4a66-b81d-8bda751e9171",
   "metadata": {},
   "outputs": [
    {
     "name": "stdout",
     "output_type": "stream",
     "text": [
      "[1997, 1998, 1999, 2000, 2001, 2002]\n"
     ]
    }
   ],
   "source": [
    "years_list = [ele for ele in range(1997,1997+6)]\n",
    "print(years_list)"
   ]
  },
  {
   "cell_type": "markdown",
   "id": "9dccfb0c-60b9-4939-b6ce-2d2c76982bab",
   "metadata": {},
   "source": []
  },
  {
   "cell_type": "markdown",
   "id": "a36cb4ce-dc77-415e-a7e2-bf6a96504113",
   "metadata": {},
   "source": [
    "2. In which year in years_list was your third birthday? Remember, you were 0 years of age for your first year."
   ]
  },
  {
   "cell_type": "code",
   "execution_count": 2,
   "id": "477606d2-060e-46dd-9c49-0c43ea6e6453",
   "metadata": {},
   "outputs": [
    {
     "name": "stdout",
     "output_type": "stream",
     "text": [
      "2000\n"
     ]
    }
   ],
   "source": [
    "print(years_list[3])"
   ]
  },
  {
   "cell_type": "markdown",
   "id": "70411508-3258-44e6-a58e-855330bc25bd",
   "metadata": {},
   "source": []
  },
  {
   "cell_type": "markdown",
   "id": "9f51047f-d8fe-4987-990b-bf8611e4a89f",
   "metadata": {},
   "source": [
    "3.In the years list, which year were you the oldest?"
   ]
  },
  {
   "cell_type": "code",
   "execution_count": 3,
   "id": "8c4c4cdf-48f3-41c1-ad37-e54bb5d74785",
   "metadata": {},
   "outputs": [
    {
     "name": "stdout",
     "output_type": "stream",
     "text": [
      "2002\n"
     ]
    }
   ],
   "source": [
    "print(years_list[-1])"
   ]
  },
  {
   "cell_type": "markdown",
   "id": "d08bfe4a-699e-4f68-83b2-ff774c1d801a",
   "metadata": {},
   "source": []
  },
  {
   "cell_type": "markdown",
   "id": "6794acd2-cde2-4893-910a-f0f39b93c0ac",
   "metadata": {},
   "source": [
    "4. Make a list called things with these three strings as elements: \"mozzarella\", \"cinderella\", \"salmonella\"."
   ]
  },
  {
   "cell_type": "code",
   "execution_count": 4,
   "id": "7e394167-ff1e-4ab5-938d-d810572cdaab",
   "metadata": {},
   "outputs": [
    {
     "name": "stdout",
     "output_type": "stream",
     "text": [
      "['mozzarella', 'cinderella', 'salmonella']\n"
     ]
    }
   ],
   "source": [
    "things = [ele+'ella' for ele in ['mozzar','cinder','salmon']]\n",
    "print(things)"
   ]
  },
  {
   "cell_type": "markdown",
   "id": "cdf6e16c-056b-4966-ab90-dff06c40aa1b",
   "metadata": {},
   "source": []
  },
  {
   "cell_type": "markdown",
   "id": "68a5361d-53bd-4f66-bba1-754d2e3460e2",
   "metadata": {},
   "source": [
    "5. Capitalize the element in things that refers to a person and then print the list. Did it change the element in the list?"
   ]
  },
  {
   "cell_type": "code",
   "execution_count": 5,
   "id": "b8d80d74-3856-4a05-9c11-b1e25fa17062",
   "metadata": {},
   "outputs": [
    {
     "name": "stdout",
     "output_type": "stream",
     "text": [
      "['mozzarella', 'Cinderella', 'salmonella']\n"
     ]
    }
   ],
   "source": [
    "for ele in range(len(things)):\n",
    "    if things[ele] == 'cinderella':\n",
    "        things[ele] = things[ele].capitalize()\n",
    "print(things)"
   ]
  },
  {
   "cell_type": "markdown",
   "id": "9080fa03-e92d-413f-9f4b-204c1ec0f2ca",
   "metadata": {},
   "source": []
  },
  {
   "cell_type": "markdown",
   "id": "49c3af18-d399-4b36-a882-44fd654c8795",
   "metadata": {},
   "source": [
    "6. Make a surprise list with the elements \"Groucho,\" \"Chico,\" and \"Harpo.\""
   ]
  },
  {
   "cell_type": "code",
   "execution_count": 6,
   "id": "0bad9f4d-ecd3-4104-a5bd-924245ff198c",
   "metadata": {},
   "outputs": [
    {
     "name": "stdout",
     "output_type": "stream",
     "text": [
      "['Groucho', 'Chico', 'Harpo']\n"
     ]
    }
   ],
   "source": [
    "suprise_list = ['Groucho','Chico','Harpo']\n",
    "print(suprise_list)"
   ]
  },
  {
   "cell_type": "markdown",
   "id": "3a1b3da4-d8ae-4dc6-905a-cb631b15cb03",
   "metadata": {},
   "source": []
  },
  {
   "cell_type": "markdown",
   "id": "77797904-78e3-44cc-a5d2-73c103f38a99",
   "metadata": {},
   "source": [
    "7. Lowercase the last element of the surprise list, reverse it, and then capitalize it."
   ]
  },
  {
   "cell_type": "code",
   "execution_count": 7,
   "id": "bcb0445c-06df-435b-9428-b0001de87337",
   "metadata": {},
   "outputs": [
    {
     "name": "stdout",
     "output_type": "stream",
     "text": [
      "Oprah\n"
     ]
    }
   ],
   "source": [
    "print(suprise_list[-1].lower()[::-1].capitalize())"
   ]
  },
  {
   "cell_type": "markdown",
   "id": "787d1fc9-f94a-4673-b265-123d9e21f58b",
   "metadata": {},
   "source": []
  },
  {
   "cell_type": "markdown",
   "id": "13cde01f-7925-4281-9bdc-6b0689142582",
   "metadata": {},
   "source": [
    "8. Make an English-to-French dictionary called e2f and print it. Here are your starter words: dog is chien, cat is chat, and walrus is morse."
   ]
  },
  {
   "cell_type": "code",
   "execution_count": 8,
   "id": "cec522de-1670-4f59-9230-d17caf24c2fb",
   "metadata": {},
   "outputs": [
    {
     "name": "stdout",
     "output_type": "stream",
     "text": [
      "{'dog': 'chien', 'cat': 'chat', 'walrus': 'morse'}\n"
     ]
    }
   ],
   "source": [
    "e2f = {'dog':'chien','cat':'chat','walrus':'morse'}\n",
    "print(e2f)"
   ]
  },
  {
   "cell_type": "markdown",
   "id": "d28b8621-c3bc-4056-86d1-bff703c01a07",
   "metadata": {},
   "source": []
  },
  {
   "cell_type": "markdown",
   "id": "d96b324a-7d18-4f1c-aa7e-bc89a4db0aa2",
   "metadata": {},
   "source": [
    "9. Write the French word for walrus in your three-word dictionary e2f."
   ]
  },
  {
   "cell_type": "code",
   "execution_count": 9,
   "id": "45ee499d-f8a7-42e4-b087-b8b834387fc0",
   "metadata": {},
   "outputs": [
    {
     "name": "stdout",
     "output_type": "stream",
     "text": [
      "morse\n"
     ]
    }
   ],
   "source": [
    "print(e2f.get('walrus'))"
   ]
  },
  {
   "cell_type": "markdown",
   "id": "4b32504c-2069-4c57-80c0-8889d52305b9",
   "metadata": {},
   "source": []
  },
  {
   "cell_type": "markdown",
   "id": "f5e41983-bddd-4665-8af2-40af0ef49e0b",
   "metadata": {},
   "source": [
    "10. Make a French-to-English dictionary called f2e from e2f. Use the items method."
   ]
  },
  {
   "cell_type": "code",
   "execution_count": 10,
   "id": "1a30eba2-7d2e-4fcc-8d78-061ee2873617",
   "metadata": {},
   "outputs": [
    {
     "name": "stdout",
     "output_type": "stream",
     "text": [
      "{'chien': 'dog', 'chat': 'cat', 'morse': 'walrus'}\n"
     ]
    }
   ],
   "source": [
    "f2e = dict([ele[::-1] for ele in e2f.items()])\n",
    "print(f2e)"
   ]
  },
  {
   "cell_type": "markdown",
   "id": "7e856794-3946-446a-9df7-b501e2f9fc03",
   "metadata": {},
   "source": []
  },
  {
   "cell_type": "markdown",
   "id": "567a9e13-3974-4f5a-8549-491d6f549d50",
   "metadata": {},
   "source": [
    "11. Print the English version of the French word chien using f2e."
   ]
  },
  {
   "cell_type": "code",
   "execution_count": 11,
   "id": "1d7ded31-0a6a-4977-ae8e-5f51a38f3b46",
   "metadata": {},
   "outputs": [
    {
     "name": "stdout",
     "output_type": "stream",
     "text": [
      "dog\n"
     ]
    }
   ],
   "source": [
    "print(f2e.get('chien'))"
   ]
  },
  {
   "cell_type": "markdown",
   "id": "671b66ee-1122-48d9-9ace-a3f103655fba",
   "metadata": {},
   "source": []
  },
  {
   "cell_type": "markdown",
   "id": "57e26928-bd7e-416e-b1be-51df316be628",
   "metadata": {},
   "source": [
    "12. Make and print a set of English words from the keys in e2f."
   ]
  },
  {
   "cell_type": "code",
   "execution_count": 12,
   "id": "c48c1128-4007-41b9-a95b-99fd27d43f43",
   "metadata": {},
   "outputs": [
    {
     "name": "stdout",
     "output_type": "stream",
     "text": [
      "['dog', 'cat', 'walrus']\n"
     ]
    }
   ],
   "source": [
    "print(list(e2f.keys()))"
   ]
  },
  {
   "cell_type": "markdown",
   "id": "284a9a5e-4f36-4422-b316-e63467a84378",
   "metadata": {},
   "source": []
  },
  {
   "cell_type": "markdown",
   "id": "5cf4a60b-5862-4cce-b9be-0628c38a88a9",
   "metadata": {},
   "source": [
    "13. Make a multilevel dictionary called life. Use these strings for the topmost keys: 'animals', 'plants', and 'other'. Make the 'animals' key refer to another dictionary with the keys 'cats', 'octopi', and 'emus'. Make the 'cats' key refer to a list of strings with the values 'Henri', 'Grumpy', and 'Lucy'. Make all the other keys refer to empty dictionaries."
   ]
  },
  {
   "cell_type": "code",
   "execution_count": 13,
   "id": "7a921a40-914b-41c7-8253-532dd4b6ab7d",
   "metadata": {},
   "outputs": [
    {
     "name": "stdout",
     "output_type": "stream",
     "text": [
      "{'animals': {'cats': ['Henri', 'Grumpy', 'Lucy'], 'octopi': {}, 'emus': {}}, 'plants': {}, 'other': {}}\n"
     ]
    }
   ],
   "source": [
    "life = {\n",
    "    'animals':{\n",
    "        'cats':['Henri','Grumpy','Lucy'],\n",
    "        'octopi':{},\n",
    "        'emus':{}\n",
    "    },\n",
    "    'plants':{},\n",
    "    'other':{}\n",
    "}\n",
    "print(life)"
   ]
  },
  {
   "cell_type": "markdown",
   "id": "d9990d8a-734b-45f8-b3ee-932851df9c67",
   "metadata": {},
   "source": []
  },
  {
   "cell_type": "markdown",
   "id": "6933027c-0e69-471b-8760-b385fa201237",
   "metadata": {},
   "source": [
    "14. Print the top-level keys of life."
   ]
  },
  {
   "cell_type": "code",
   "execution_count": 14,
   "id": "1c50ca3a-2005-4a1e-8324-5d6510a5e25e",
   "metadata": {},
   "outputs": [
    {
     "name": "stdout",
     "output_type": "stream",
     "text": [
      "['animals', 'plants', 'other']\n"
     ]
    }
   ],
   "source": [
    "print(list(life.keys()))"
   ]
  },
  {
   "cell_type": "markdown",
   "id": "cd6b96c8-b128-4b81-9eff-10902a1693b7",
   "metadata": {},
   "source": []
  },
  {
   "cell_type": "markdown",
   "id": "12621339-e761-4813-b7ad-162e7f33262b",
   "metadata": {},
   "source": [
    "15. Print the keys for life['animals']."
   ]
  },
  {
   "cell_type": "code",
   "execution_count": 15,
   "id": "c3d03529-124e-4b37-9cb8-4b73fdfa387d",
   "metadata": {},
   "outputs": [
    {
     "name": "stdout",
     "output_type": "stream",
     "text": [
      "['cats', 'octopi', 'emus']\n"
     ]
    }
   ],
   "source": [
    "print(list(life['animals'].keys()))"
   ]
  },
  {
   "cell_type": "markdown",
   "id": "6d2a7da3-21f3-490a-b296-d2b327d8bc9b",
   "metadata": {},
   "source": []
  },
  {
   "cell_type": "markdown",
   "id": "2686b57f-0be2-492d-96dd-71bd63803a7d",
   "metadata": {},
   "source": [
    "16. Print the values for life['animals']['cats']"
   ]
  },
  {
   "cell_type": "code",
   "execution_count": 16,
   "id": "005e22df-868d-4020-9cc1-d941b8834539",
   "metadata": {},
   "outputs": [
    {
     "name": "stdout",
     "output_type": "stream",
     "text": [
      "['Henri', 'Grumpy', 'Lucy']\n"
     ]
    }
   ],
   "source": [
    "print(life['animals']['cats'])"
   ]
  }
 ],
 "metadata": {
  "kernelspec": {
   "display_name": "Python 3 (ipykernel)",
   "language": "python",
   "name": "python3"
  },
  "language_info": {
   "codemirror_mode": {
    "name": "ipython",
    "version": 3
   },
   "file_extension": ".py",
   "mimetype": "text/x-python",
   "name": "python",
   "nbconvert_exporter": "python",
   "pygments_lexer": "ipython3",
   "version": "3.10.6"
  }
 },
 "nbformat": 4,
 "nbformat_minor": 5
}
