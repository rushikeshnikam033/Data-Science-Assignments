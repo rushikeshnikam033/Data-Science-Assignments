{
 "cells": [
  {
   "cell_type": "markdown",
   "id": "9c91a50e-af3a-46b9-8a9b-59e7935c9977",
   "metadata": {},
   "source": [
    "Assignment 7 Solutions\n",
    "\n",
    "\n",
    "\n",
    "1. What is the name of the feature responsible for generating Regex objects?\n",
    "Ans: re.compile() is the feature responsible for generation of Regex objects."
   ]
  },
  {
   "cell_type": "code",
   "execution_count": 1,
   "id": "76a96753-48c2-4ae0-be3d-d503210de7b3",
   "metadata": {},
   "outputs": [
    {
     "name": "stdout",
     "output_type": "stream",
     "text": [
      "re.compile('some_random_pattern')\n"
     ]
    }
   ],
   "source": [
    "import re\n",
    "x = re.compile(\"some_random_pattern\")\n",
    "type(x)\n",
    "print(x)"
   ]
  },
  {
   "cell_type": "markdown",
   "id": "5bb266b6-4df0-4513-b7c8-f79ee6339750",
   "metadata": {},
   "source": []
  },
  {
   "cell_type": "markdown",
   "id": "41d7c3e1-9f77-421b-8e3a-56b3c891e086",
   "metadata": {},
   "source": []
  },
  {
   "cell_type": "markdown",
   "id": "76f0c92a-c935-48f1-a626-5b52e5e41c81",
   "metadata": {},
   "source": [
    "2. Why do raw strings often appear in Regex objects?\n",
    "Ans: Regular expressions use the backslash character ('\\') to indicate special forms (Metacharacters) or to allow special characters (speical sequences) to be used without invoking their special meaning. This collides with Python’s usage of the same character for the same purpose in string literals. Hence, Raw strings are used (e.g. r\"\\n\") so that backslashes do not have to be escaped."
   ]
  },
  {
   "cell_type": "markdown",
   "id": "e3cf8063-bb59-4db4-8e58-159566a01f94",
   "metadata": {},
   "source": []
  },
  {
   "cell_type": "markdown",
   "id": "4c00f49b-99fd-4b29-9ac1-ec21b172aaed",
   "metadata": {},
   "source": []
  },
  {
   "cell_type": "markdown",
   "id": "eff2ab28-ddeb-4ee0-a85a-932becec4914",
   "metadata": {},
   "source": [
    "3. What is the return value of the search() method?\n",
    "Ans: The return value of re.search(pattern,string) method is a match object if the pattern is observed in the string else it returns a None"
   ]
  },
  {
   "cell_type": "code",
   "execution_count": 2,
   "id": "a704c826-7891-4d4e-bc98-b9f1bbc43c7c",
   "metadata": {},
   "outputs": [
    {
     "name": "stdout",
     "output_type": "stream",
     "text": [
      "Output: <re.Match object; span=(0, 1), match='I'>\n",
      "Output: None\n"
     ]
    }
   ],
   "source": [
    "import re\n",
    "match = re.search('i','Ineuron Full Stack Data Science Program', flags=re.IGNORECASE)\n",
    "print('Output:',match)\n",
    "match = re.search('X','Ineuron Full Stack Data Science Program', flags=re.IGNORECASE)\n",
    "print('Output:',match)"
   ]
  },
  {
   "cell_type": "markdown",
   "id": "d54c7767-bc55-484c-84d3-bb3d8834ea28",
   "metadata": {},
   "source": []
  },
  {
   "cell_type": "markdown",
   "id": "182bd2ef-51b6-4cc4-ab01-3f2ab8ff47b1",
   "metadata": {},
   "source": []
  },
  {
   "cell_type": "markdown",
   "id": "ec29f66c-8c30-4143-84ca-b9d5a09d23f9",
   "metadata": {},
   "source": [
    "4. From a Match item, how do you get the actual strings that match the pattern?\n",
    "Ans: For Matched items group() methods returns actual strings that match the pattern"
   ]
  },
  {
   "cell_type": "code",
   "execution_count": 3,
   "id": "0ca5155b-86f3-417f-b1ee-127f2edd74db",
   "metadata": {},
   "outputs": [
    {
     "name": "stdout",
     "output_type": "stream",
     "text": [
      "Output: Ineuron\n"
     ]
    }
   ],
   "source": [
    "import re\n",
    "match = re.search('ineuron','Ineuron Full Stack Data Science Program', flags=re.IGNORECASE)\n",
    "print('Output:',match.group())"
   ]
  },
  {
   "cell_type": "markdown",
   "id": "9f6bc445-705f-4d9b-9f7a-dacf0c9a12b1",
   "metadata": {},
   "source": []
  },
  {
   "cell_type": "markdown",
   "id": "3d163050-13c3-4429-9801-abb410b2ee90",
   "metadata": {},
   "source": []
  },
  {
   "cell_type": "markdown",
   "id": "ddb9c1be-e374-46f7-8a3a-910a2dbcd9f7",
   "metadata": {},
   "source": [
    "5. In the regex which created from the r'(\\d\\d\\d)-(\\d\\d\\d-\\d\\d\\d\\d)', what does group zero cover? Group 2? Group 1?\n",
    "Ans: In the Regex r'(\\d\\d\\d)-(\\d\\d\\d-\\d\\d\\d\\d)' the zero group covers the entire pattern match where as the first group cover (\\d\\d\\d) and the second group cover (\\d\\d\\d-\\d\\d\\d\\d)"
   ]
  },
  {
   "cell_type": "code",
   "execution_count": 4,
   "id": "2a6053d7-d236-4508-9867-ec46cd1cb176",
   "metadata": {},
   "outputs": [
    {
     "name": "stdout",
     "output_type": "stream",
     "text": [
      "('415', '555-4242')\n",
      "415-555-4242\n",
      "415\n",
      "555-4242\n"
     ]
    }
   ],
   "source": [
    "# Example Program\n",
    "import re\n",
    "phoneNumRegex = re.compile(r'(\\d\\d\\d)-(\\d\\d\\d-\\d\\d\\d\\d)')\n",
    "mo = phoneNumRegex.search('My number is 415-555-4242.')\n",
    "print(mo.groups()) # Prints all groups in a tuple format\n",
    "print(mo.group()) # Always returns the fully matched string \n",
    "print(mo.group(1)) # Returns the first group\n",
    "print(mo.group(2)) # Returns the second group"
   ]
  },
  {
   "cell_type": "markdown",
   "id": "3885d2f3-00a9-4a2b-b497-1eee59ce5bfd",
   "metadata": {},
   "source": []
  },
  {
   "cell_type": "markdown",
   "id": "d49bf6ca-3f06-49a1-ac8c-620017255260",
   "metadata": {},
   "source": []
  },
  {
   "cell_type": "markdown",
   "id": "c74a0379-3e42-4b34-b43b-ba3fcb9ee7fc",
   "metadata": {},
   "source": [
    "6. In standard expression syntax, parentheses and intervals have distinct meanings. How can you tell a regex that you want it to fit real parentheses and periods?\n",
    "Ans: The \\. \\( and \\) escape characters in the raw string passed to re.compile() will match actual parenthesis characters."
   ]
  },
  {
   "cell_type": "code",
   "execution_count": 5,
   "id": "39ed5d64-3dc2-4a3e-bdb4-ad02c225ab59",
   "metadata": {},
   "outputs": [
    {
     "name": "stdout",
     "output_type": "stream",
     "text": [
      "(415) 555-4242\n"
     ]
    }
   ],
   "source": [
    "# Example Program\n",
    "import re\n",
    "phoneNumRegex = re.compile(r'(\\(\\d\\d\\d\\)) (\\d\\d\\d-\\d\\d\\d\\d)')\n",
    "mo = phoneNumRegex.search('My phone number is (415) 555-4242.')\n",
    "print(mo.group())"
   ]
  },
  {
   "cell_type": "markdown",
   "id": "46e91db8-628d-47c8-b44f-14daa51aa44b",
   "metadata": {},
   "source": []
  },
  {
   "cell_type": "markdown",
   "id": "29263cbc-6470-4ef7-944b-78cebfec4048",
   "metadata": {},
   "source": []
  },
  {
   "cell_type": "markdown",
   "id": "17064f84-1f64-43cd-a5e3-05517fbc2e9c",
   "metadata": {},
   "source": [
    "7. The findall() method returns a string list or a list of string tuples. What causes it to return one of the two options?\n",
    "Ans: If the regex pattern has no groups, a list of strings matched is returned. if the regex pattern has groups, a list of tuple of strings is returned."
   ]
  },
  {
   "cell_type": "code",
   "execution_count": 6,
   "id": "b9a6ae3a-ef3d-486b-926d-ba8025ce92ac",
   "metadata": {},
   "outputs": [
    {
     "name": "stdout",
     "output_type": "stream",
     "text": [
      "[('(415)', '555-4242')]\n",
      "['415-555-4242']\n"
     ]
    }
   ],
   "source": [
    "# Example Program\n",
    "import re\n",
    "phoneNumRegex = re.compile(r'(\\(\\d\\d\\d\\)) (\\d\\d\\d-\\d\\d\\d\\d)')\n",
    "mo = phoneNumRegex.findall('My phone number is (415) 555-4242.')\n",
    "print(mo)\n",
    "\n",
    "# Example Program\n",
    "import re\n",
    "phoneNumRegex = re.compile(r'\\d{3}-\\d{3}-\\d{4}')\n",
    "mo = phoneNumRegex.findall('My number is 415-555-4242.')\n",
    "print(mo) # Prints all groups in a tuple format"
   ]
  },
  {
   "cell_type": "markdown",
   "id": "9d7235f6-4bbb-484a-87b6-d7634c849608",
   "metadata": {},
   "source": []
  },
  {
   "cell_type": "markdown",
   "id": "35698745-79db-4301-b41b-89db860b2667",
   "metadata": {},
   "source": []
  },
  {
   "cell_type": "markdown",
   "id": "8e737fcc-4a88-4e8a-bb51-f90dc2fd00bf",
   "metadata": {},
   "source": [
    "8. In standard expressions, what does the | character mean?\n",
    "Ans: In Standard Expressions | means OR operator."
   ]
  },
  {
   "cell_type": "markdown",
   "id": "cd487f9c-c5c4-40b2-a2dc-21c8b5d5123a",
   "metadata": {},
   "source": []
  },
  {
   "cell_type": "markdown",
   "id": "e0f5383e-444b-406b-a7f5-e6e60f8e9c50",
   "metadata": {},
   "source": []
  },
  {
   "cell_type": "markdown",
   "id": "f7f02264-b3c8-41ac-8ce7-f84790cdeb3d",
   "metadata": {},
   "source": [
    "9. In regular expressions, what does the ? character stand for?\n",
    "Ans: In regular Expressions, ? characters represents zero or one match of the preceeding group."
   ]
  },
  {
   "cell_type": "code",
   "execution_count": 7,
   "id": "29ce045a-aef4-49e9-a896-cf3d74660c10",
   "metadata": {},
   "outputs": [
    {
     "name": "stdout",
     "output_type": "stream",
     "text": [
      "<re.Match object; span=(0, 6), match='Batman'>\n",
      "<re.Match object; span=(0, 8), match='Batwoman'>\n"
     ]
    }
   ],
   "source": [
    "# Example Program\n",
    "import re\n",
    "match_1 = re.search(\"Bat(wo)?man\",\"Batman returns\")\n",
    "print(match_1)\n",
    "match_2 = re.search(\"Bat(wo)?man\",\"Batwoman returns\")\n",
    "print(match_2)"
   ]
  },
  {
   "cell_type": "markdown",
   "id": "57b36f84-c3f6-4c0b-b3fe-075bfc281863",
   "metadata": {},
   "source": []
  },
  {
   "cell_type": "markdown",
   "id": "7e5bbb1d-98b6-477f-a440-caef5f1a3d0f",
   "metadata": {},
   "source": []
  },
  {
   "cell_type": "markdown",
   "id": "ecea2762-3a84-4d9e-8f09-628f1abd47eb",
   "metadata": {},
   "source": [
    "10.In regular expressions, what is the difference between the + and * characters?\n",
    "Ans: In Regular Expressions, * Represents Zero ore more occurances of the preceeding group, whereas + represents one or more occurances of the preceeding group."
   ]
  },
  {
   "cell_type": "code",
   "execution_count": 8,
   "id": "ecae99a3-0f31-4685-ad39-078b90845fbb",
   "metadata": {},
   "outputs": [
    {
     "name": "stdout",
     "output_type": "stream",
     "text": [
      "<re.Match object; span=(0, 6), match='Batman'>\n",
      "None\n"
     ]
    }
   ],
   "source": [
    "import re\n",
    "match_1 = re.search(\"Bat(wo)*man\",\"Batman returns\")\n",
    "print(match_1)\n",
    "match_2 = re.search(\"Bat(wo)+man\",\"Batman returns\")\n",
    "print(match_2)"
   ]
  },
  {
   "cell_type": "markdown",
   "id": "23a8361e-26ee-4357-bb8e-23032bc7253b",
   "metadata": {},
   "source": []
  },
  {
   "cell_type": "markdown",
   "id": "5ac6f147-16d3-45a6-a13a-a401576da264",
   "metadata": {},
   "source": []
  },
  {
   "cell_type": "markdown",
   "id": "e245f741-2fbf-45f7-af09-af5f433ac7dd",
   "metadata": {},
   "source": [
    "11. What is the difference between {4} and {4,5} in regular expression?\n",
    "Ans: {4} means that its preceeding group should repeat 4 times. where as {4,5} means that its preceeding group should repeat mininum 4 times and maximum 5 times inclusively"
   ]
  },
  {
   "cell_type": "code",
   "execution_count": 9,
   "id": "560dd0ec-c0bc-4a2b-aa8f-195c731815ec",
   "metadata": {},
   "outputs": [
    {
     "name": "stdout",
     "output_type": "stream",
     "text": [
      "HaHaHa\n",
      "None\n"
     ]
    }
   ],
   "source": [
    "import re\n",
    "haRegex = re.compile(r'(Ha){3}')\n",
    "mo1 = haRegex.search('HaHaHa')\n",
    "mo2 = haRegex.search('Ha')\n",
    "print(mo1.group())\n",
    "print(mo2)"
   ]
  },
  {
   "cell_type": "markdown",
   "id": "a6e6c2c7-32f5-495b-852b-a22cff4e15f9",
   "metadata": {},
   "source": []
  },
  {
   "cell_type": "markdown",
   "id": "bade5ca1-94fd-492f-96b3-ca55a32634fd",
   "metadata": {},
   "source": []
  },
  {
   "cell_type": "markdown",
   "id": "4b013e51-9734-4f6a-b685-c19a5f968205",
   "metadata": {},
   "source": [
    "12. What do you mean by the \\d, \\w, and \\s shorthand character classes signify in regular expressions?\n",
    "Ans: \\d, \\w and \\s are special sequences in regular expresssions in python:\n",
    "\n",
    "\\w – Matches a word character equivalent to [a-zA-Z0-9_]\n",
    "\\d – Matches digit character equivalent to [0-9]\n",
    "\\s – Matches whitespace character (space, tab, newline, etc.)"
   ]
  },
  {
   "cell_type": "markdown",
   "id": "ca1fc952-059c-417f-a283-de2cddd3a5f6",
   "metadata": {},
   "source": []
  },
  {
   "cell_type": "markdown",
   "id": "6b82e471-97c6-46c7-948b-3bddc3729a7a",
   "metadata": {},
   "source": []
  },
  {
   "cell_type": "markdown",
   "id": "c3901501-af5f-40fe-b4b1-b72f195293db",
   "metadata": {},
   "source": [
    "13. What do means by \\D, \\W, and \\S shorthand character classes signify in regular expressions?\n",
    "Ans: \\D, \\W and \\S are special sequences in regular expresssions in python:\n",
    "\n",
    "\\W – Matches any non-alphanumeric character equivalent to [^a-zA-Z0-9_]\n",
    "\\D – Matches any non-digit character, this is equivalent to the set class [^0-9]\n",
    "\\S – Matches any non-whitespace character"
   ]
  },
  {
   "cell_type": "markdown",
   "id": "d5f2aae0-cd92-4ea7-b168-d09058d41e6a",
   "metadata": {},
   "source": []
  },
  {
   "cell_type": "markdown",
   "id": "1907f703-77b2-4759-a78a-b91b5e5c86de",
   "metadata": {},
   "source": []
  },
  {
   "cell_type": "markdown",
   "id": "bf6ab115-8e3b-4c46-9075-1623ce48d809",
   "metadata": {},
   "source": [
    "14. What is the difference between .*? and .*?\n",
    "Ans: .* is a Greedy mode, which returns the longest string that meets the condition. Whereas .*? is a non greedy mode which returns the shortest string that meets the condition."
   ]
  },
  {
   "cell_type": "markdown",
   "id": "8c17ba5c-de03-4843-82a0-dd8bfbc03790",
   "metadata": {},
   "source": []
  },
  {
   "cell_type": "markdown",
   "id": "9ee0e145-7016-4814-bff8-8ec497e95491",
   "metadata": {},
   "source": []
  },
  {
   "cell_type": "markdown",
   "id": "64e08788-a7ef-4c0a-b22e-4e339a192064",
   "metadata": {},
   "source": [
    "15. What is the syntax for matching both numbers and lowercase letters with a character class?\n",
    "Ans: The Synatax is Either [a-z0-9] or [0-9a-z]"
   ]
  },
  {
   "cell_type": "markdown",
   "id": "f1d23762-2cf0-4bf3-a243-707c11290f39",
   "metadata": {},
   "source": []
  },
  {
   "cell_type": "markdown",
   "id": "671a2812-b1a6-42e5-a6f7-950de34c472c",
   "metadata": {},
   "source": []
  },
  {
   "cell_type": "markdown",
   "id": "28a30248-297c-48a1-960b-f68b0c0848f0",
   "metadata": {},
   "source": [
    "16. What is the procedure for making a normal expression in regax case insensitive?\n",
    "Ans: We can pass re.IGNORECASE as a flag to make a noraml expression case insensitive\n",
    "\n"
   ]
  },
  {
   "cell_type": "markdown",
   "id": "b823bc00-0ecb-4eb6-99dd-2abc32735296",
   "metadata": {},
   "source": []
  },
  {
   "cell_type": "markdown",
   "id": "0ce0ec4a-33c7-4802-a93c-b21e8d108089",
   "metadata": {},
   "source": []
  },
  {
   "cell_type": "markdown",
   "id": "8a41ddcb-1220-4561-80ec-00239358a876",
   "metadata": {},
   "source": [
    "17. What does the . character normally match? What does it match if re.DOTALL is passed as 2nd argument in re.compile()?\n",
    "Ans: Dot . character matches everything in input except newline character .. By passing re.DOTALL as a flag to re.compile(), you can make the dot character match all characters, including the newline character."
   ]
  },
  {
   "cell_type": "markdown",
   "id": "8276d8e5-28e5-4c29-bfba-535dc49f03d6",
   "metadata": {},
   "source": []
  },
  {
   "cell_type": "markdown",
   "id": "0277a726-b536-4e64-bd76-6e7356326ffa",
   "metadata": {},
   "source": []
  },
  {
   "cell_type": "markdown",
   "id": "64f7928c-4c17-4101-891b-56755ab822a1",
   "metadata": {},
   "source": [
    "18. If numReg = re.compile(r'\\d+'), what will numRegex.sub('X', '11 drummers, 10 pipers, five rings, 4 hen') return?\n",
    "Ans: The Ouput will be 'X drummers, X pipers, five rings, X hen'"
   ]
  },
  {
   "cell_type": "code",
   "execution_count": 10,
   "id": "e5193368-0f29-4c1a-986d-5cde5a2d6f24",
   "metadata": {},
   "outputs": [
    {
     "data": {
      "text/plain": [
       "'X drummers, X pipers, five rings, X hen'"
      ]
     },
     "execution_count": 10,
     "metadata": {},
     "output_type": "execute_result"
    }
   ],
   "source": [
    "import re\n",
    "numReg = re.compile(r'\\d+')\n",
    "numReg.sub('X', '11 drummers, 10 pipers, five rings, 4 hen')"
   ]
  },
  {
   "cell_type": "markdown",
   "id": "56a04218-780e-491e-a246-9bd52d79c04e",
   "metadata": {},
   "source": []
  },
  {
   "cell_type": "markdown",
   "id": "b5bba468-8ef5-4b49-a766-9ad1e98fb04e",
   "metadata": {},
   "source": []
  },
  {
   "cell_type": "markdown",
   "id": "a5c75a2a-6267-4df8-ade1-9d0d207d5fa7",
   "metadata": {},
   "source": [
    "19. What does passing re.VERBOSE as the 2nd argument to re.compile() allow to do?\n",
    "Ans: re.VERBOSE will allow to add whitespace and comments to string passed to re.compile()."
   ]
  },
  {
   "cell_type": "code",
   "execution_count": 11,
   "id": "7c20e640-aa9f-4e6c-9fc0-91f85a9ac9be",
   "metadata": {},
   "outputs": [],
   "source": [
    "# Without Using VERBOSE\n",
    "regex_email = re.compile(r'^([a-z0-9_\\.-]+)@([0-9a-z\\.-]+)\\.([a-z\\.]{2, 6})$', re.IGNORECASE)\n",
    " \n",
    "# Using VERBOSE\n",
    "regex_email = re.compile(r\"\"\"\n",
    "                            ^([a-z0-9_\\.-]+)              # local Part like username\n",
    "                            @                             # single @ sign \n",
    "                            ([0-9a-z\\.-]+)                # Domain name like google\n",
    "                            \\.                            # single Dot .\n",
    "                            ([a-z]{2,6})$                 # Top level Domain  like com/in/org\n",
    "                         \"\"\",re.VERBOSE | re.IGNORECASE)   "
   ]
  },
  {
   "cell_type": "markdown",
   "id": "bfe3466b-ae34-42cf-bd3c-b01c5db596e6",
   "metadata": {},
   "source": []
  },
  {
   "cell_type": "markdown",
   "id": "d2fe84f3-36fe-4f4e-8e00-1d53da4456ed",
   "metadata": {},
   "source": []
  },
  {
   "cell_type": "markdown",
   "id": "11b1c86e-39f0-43c9-b4b7-9d3533e9122b",
   "metadata": {},
   "source": [
    "20. How would you write a regex that match a number with comma for every three digits? It must match the given following:\n",
    "'42','1,234', '6,368,745'but not the following: '12,34,567' (which has only two digits between the commas) '1234' (which lacks commas)"
   ]
  },
  {
   "cell_type": "code",
   "execution_count": 12,
   "id": "c9a870b6-dc35-43ee-b03c-215a899ca324",
   "metadata": {},
   "outputs": [
    {
     "name": "stdout",
     "output_type": "stream",
     "text": [
      "Output: 42 -> <re.Match object; span=(0, 2), match='42'>\n",
      "Output: 1,234 -> <re.Match object; span=(0, 5), match='1,234'>\n",
      "Output: 6,368,745 -> <re.Match object; span=(0, 9), match='6,368,745'>\n",
      "Output: 12,34,567 -> None\n",
      "Output: 1234 -> None\n"
     ]
    }
   ],
   "source": [
    "import re\n",
    "pattern = r'^\\d{1,3}(,\\d{3})*$'\n",
    "pagex = re.compile(pattern)\n",
    "for ele in ['42','1,234', '6,368,745','12,34,567','1234']:\n",
    "    print('Output:',ele, '->', pagex.search(ele))"
   ]
  },
  {
   "cell_type": "markdown",
   "id": "6afba479-7ebc-4f27-bb8d-b0db98c098b2",
   "metadata": {},
   "source": []
  },
  {
   "cell_type": "markdown",
   "id": "675986c1-1f3f-4608-b519-0613184d3a25",
   "metadata": {},
   "source": []
  },
  {
   "cell_type": "markdown",
   "id": "263d97c1-aa5a-4c24-b39b-6e2f3e2a65e3",
   "metadata": {},
   "source": [
    "21. How would you write a regex that matches the full name of someone whose last name is Watanabe? You can assume that the first name that comes before it will always be one word that begins with a capital letter. The regex must match the following:\n",
    "'Haruto Watanabe'\n",
    "'Alice Watanabe'\n",
    "'RoboCop Watanabe'\n",
    "\n",
    "but not the following:\n",
    "\n",
    "'haruto Watanabe' (where the first name is not capitalized)\n",
    "'Mr. Watanabe' (where the preceding word has a nonletter character)\n",
    "'Watanabe' (which has no first name)\n",
    "'Haruto watanabe' (where Watanabe is not capitalized)\n",
    "\n",
    "Ans: pattern = r'[A-Z]{1}[a-z]*\\sWatanabe'"
   ]
  },
  {
   "cell_type": "code",
   "execution_count": 13,
   "id": "9433f16d-9365-4933-940e-04e6077f83dd",
   "metadata": {},
   "outputs": [
    {
     "name": "stdout",
     "output_type": "stream",
     "text": [
      "Output:  Haruto Watanabe -> <re.Match object; span=(0, 15), match='Haruto Watanabe'>\n",
      "Output:  Alice Watanabe -> <re.Match object; span=(0, 14), match='Alice Watanabe'>\n",
      "Output:  RoboCop Watanabe -> <re.Match object; span=(4, 16), match='Cop Watanabe'>\n",
      "Output:  haruto Watanabe -> None\n",
      "Output:  Mr. Watanabe -> None\n",
      "Output:  Watanabe -> None\n",
      "Output:  Haruto watanabe -> None\n"
     ]
    }
   ],
   "source": [
    "import re\n",
    "pattern = r'[A-Z]{1}[a-z]*\\sWatanabe'\n",
    "namex = re.compile(pattern)\n",
    "for name in ['Haruto Watanabe','Alice Watanabe','RoboCop Watanabe','haruto Watanabe','Mr. Watanabe','Watanabe','Haruto watanabe']:\n",
    "    print('Output: ',name,'->',namex.search(name))"
   ]
  },
  {
   "cell_type": "markdown",
   "id": "d3d592e5-9be6-48e0-9300-7012af8f297e",
   "metadata": {},
   "source": []
  },
  {
   "cell_type": "markdown",
   "id": "5b71213e-2083-4613-a088-73aecaa21923",
   "metadata": {},
   "source": []
  },
  {
   "cell_type": "markdown",
   "id": "5923bc68-5d90-44fc-91c6-3e5057cfed59",
   "metadata": {},
   "source": [
    "22. How would you write a regex that matches a sentence where the first word is either Alice, Bob,or Carol; the second word is either eats, pets, or throws; the third word is apples, cats, or baseballs; and the sentence ends with a period? This regex should be case-insensitive. It must match the following:\n",
    "'Alice eats apples.'\n",
    "'Bob pets cats.'\n",
    "'Carol throws baseballs.'\n",
    "'Alice throws Apples.'\n",
    "'BOB EATS CATS.'\n",
    "\n",
    "but not the following:\n",
    "\n",
    "'RoboCop eats apples.'\n",
    "'ALICE THROWS FOOTBALLS.'\n",
    "'Carol eats 7 cats.'\n",
    "\n",
    "Ans: pattern = r'(Alice|Bob|Carol)\\s(eats|pets|throws)\\s(apples|cats|baseballs)\\.'"
   ]
  },
  {
   "cell_type": "code",
   "execution_count": 15,
   "id": "d6846153-fc5f-4085-aea2-dd648307ca27",
   "metadata": {},
   "outputs": [
    {
     "name": "stdout",
     "output_type": "stream",
     "text": [
      "Output:  Alice eats apples. -> <re.Match object; span=(0, 18), match='Alice eats apples.'>\n",
      "Output:  Bob pets cats. -> <re.Match object; span=(0, 14), match='Bob pets cats.'>\n",
      "Output:  Carol throws baseballs. -> <re.Match object; span=(0, 23), match='Carol throws baseballs.'>\n",
      "Output:  Alice throws Apples. -> <re.Match object; span=(0, 20), match='Alice throws Apples.'>\n",
      "Output:  BOB EATS CATS. -> <re.Match object; span=(0, 14), match='BOB EATS CATS.'>\n",
      "Output:  RoboCop eats apples. -> None\n",
      "Output:  ALICE THROWS FOOTBALLS. -> None\n",
      "Output:  Carol eats 7 cats. -> None\n"
     ]
    }
   ],
   "source": [
    "import re\n",
    "pattern = r'(Alice|Bob|Carol)\\s(eats|pets|throws)\\s(apples|cats|baseballs)\\.'\n",
    "casex = re.compile(pattern,re.IGNORECASE)\n",
    "for ele in ['Alice eats apples.','Bob pets cats.','Carol throws baseballs.','Alice throws Apples.','BOB EATS CATS.','RoboCop eats apples.'\n",
    ",'ALICE THROWS FOOTBALLS.','Carol eats 7 cats.']:\n",
    "    print('Output: ',ele,'->',casex.search(ele))"
   ]
  }
 ],
 "metadata": {
  "kernelspec": {
   "display_name": "Python 3 (ipykernel)",
   "language": "python",
   "name": "python3"
  },
  "language_info": {
   "codemirror_mode": {
    "name": "ipython",
    "version": 3
   },
   "file_extension": ".py",
   "mimetype": "text/x-python",
   "name": "python",
   "nbconvert_exporter": "python",
   "pygments_lexer": "ipython3",
   "version": "3.10.6"
  }
 },
 "nbformat": 4,
 "nbformat_minor": 5
}
