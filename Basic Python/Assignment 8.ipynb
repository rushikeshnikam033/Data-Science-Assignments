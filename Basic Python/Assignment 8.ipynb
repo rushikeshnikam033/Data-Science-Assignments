{
 "cells": [
  {
   "cell_type": "markdown",
   "id": "c8e34f2a-f315-4a17-92f8-9c32f06dfda1",
   "metadata": {},
   "source": [
    "1. Is the Python Standard Library included with PyInputPlus?\n",
    "Ans: No, PyInputPlus is not a part of Python Standard Library, it needs to be installed explicitly using the command !pip install PyInputPlus"
   ]
  },
  {
   "cell_type": "markdown",
   "id": "234a5a54-eef8-4f76-8f86-4698242c13ac",
   "metadata": {},
   "source": []
  },
  {
   "cell_type": "markdown",
   "id": "7af9e439-3e54-4f16-8c22-e46f68fe8a98",
   "metadata": {},
   "source": []
  },
  {
   "cell_type": "markdown",
   "id": "53727f05-40e0-4c6b-a493-7e1d950c14e1",
   "metadata": {},
   "source": [
    "2. Why is PyInputPlus commonly imported with import pyinputplus as pypi?\n",
    "Ans: You can import the module with import pyinputplus as pyip so that you can enter a shorter name when calling the module's functions."
   ]
  },
  {
   "cell_type": "markdown",
   "id": "cf2d290f-768d-4eda-9748-de7c1b589022",
   "metadata": {},
   "source": []
  },
  {
   "cell_type": "markdown",
   "id": "7c8f7cfb-978b-434a-8077-ab995336420f",
   "metadata": {},
   "source": []
  },
  {
   "cell_type": "markdown",
   "id": "a0ab3c99-3d17-4976-9ebc-8b32fcff8b1b",
   "metadata": {},
   "source": [
    "3. How do you distinguish between inputInt() and inputFloat()?\n",
    "Ans: inputInt() function Accepts an integer value. This also takes additional parameters min, max, greaterThan and lessThan for bounds. And it always returns an int.\n",
    "\n",
    "Whereas inputFloat() function Accepts a floating-point numeric value. this also takes additional min, max, greaterThan and lessThan parameters. and always returns a float."
   ]
  },
  {
   "cell_type": "markdown",
   "id": "a245e8bd-3e1f-47fc-8e4a-c68571219550",
   "metadata": {},
   "source": []
  },
  {
   "cell_type": "markdown",
   "id": "32a35cb6-fda9-46d4-9f41-86b7e730014a",
   "metadata": {},
   "source": []
  },
  {
   "cell_type": "markdown",
   "id": "582fa79a-42d5-47b5-966a-690800f72a32",
   "metadata": {},
   "source": [
    "4. Using PyInputPlus, how do you ensure that the user enters a whole number between 0 and 99?\n",
    "Ans: PyInputPlus module provides a function called as inputInt() which only returns only integer values. inorder to restrict the input between 0 and 99, i'ii use parameters like min & max to ensure that user enters the values between the defined range only.\n",
    "\n",
    "import pyinputplus as pyip\n",
    "wholenumber = pyip.inputInt(prompt='Enter a number: ', min=0, max=100)\n",
    "print(wholenumber)"
   ]
  },
  {
   "cell_type": "markdown",
   "id": "bf71bc56-449e-42cd-9237-aaeb7881018e",
   "metadata": {},
   "source": []
  },
  {
   "cell_type": "markdown",
   "id": "99c6c72f-12ef-4cf8-b81f-3b754b725e5b",
   "metadata": {},
   "source": []
  },
  {
   "cell_type": "markdown",
   "id": "efb7d1ce-132f-4c27-8e97-bd9f93741e85",
   "metadata": {},
   "source": [
    "5. What is transferred to the keyword arguments allowRegexes and blockRegexes?\n",
    "Ans: we can use allowRegexes and blockRegexes keyword arguments to take list of regular expression strings to determine what the pyinputplus function will reject or accept valid input."
   ]
  },
  {
   "cell_type": "markdown",
   "id": "5204e440-f553-4636-8508-cedf210c1015",
   "metadata": {},
   "source": []
  },
  {
   "cell_type": "markdown",
   "id": "28366749-6d0e-4d3a-8686-90eb8e8b76b3",
   "metadata": {},
   "source": []
  },
  {
   "cell_type": "markdown",
   "id": "d67fd8a8-079d-4e4d-9226-a716281a9f38",
   "metadata": {},
   "source": [
    "6. If a blank input is entered three times, what does inputStr(limit=3) do?\n",
    "Ans: The statement inputStr(limit=3) will throw two exceptions ValidationException and RetryLimitException. The first exception is thrown because blank values are not allowed by inputStr() function by default. it we want to consider blank values as valid input, we have to set blank=True.\n",
    "\n",
    "The second exception is occured because we have reached the max limit we have specified by using limit parameter. inorder to avoid this exception we can use default parameter to return a default value when max limit is reached."
   ]
  },
  {
   "cell_type": "markdown",
   "id": "fc6a231e-d668-4957-bc11-5d7682db3054",
   "metadata": {},
   "source": []
  },
  {
   "cell_type": "markdown",
   "id": "f94379a0-31f4-4876-b837-233fae592805",
   "metadata": {},
   "source": []
  },
  {
   "cell_type": "markdown",
   "id": "6ed0a935-b77b-4576-b9ac-678b0a5ef1ae",
   "metadata": {},
   "source": [
    "7. If blank input is entered three times, what does inputStr(limit=3, default='hello') do?\n",
    "Ans: Since the default parameter is set to hello. after blank input is entered three times instead of raising RetryLimitException exception. the function will return hello as response to the calling function"
   ]
  },
  {
   "cell_type": "markdown",
   "id": "8480ece2-f88c-4e61-a752-9f5ba7eba1d2",
   "metadata": {},
   "source": []
  }
 ],
 "metadata": {
  "kernelspec": {
   "display_name": "Python 3 (ipykernel)",
   "language": "python",
   "name": "python3"
  },
  "language_info": {
   "codemirror_mode": {
    "name": "ipython",
    "version": 3
   },
   "file_extension": ".py",
   "mimetype": "text/x-python",
   "name": "python",
   "nbconvert_exporter": "python",
   "pygments_lexer": "ipython3",
   "version": "3.10.6"
  }
 },
 "nbformat": 4,
 "nbformat_minor": 5
}
